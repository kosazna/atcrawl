{
 "cells": [
  {
   "cell_type": "code",
   "execution_count": 8,
   "source": [
    "from atcrawl.core.parser import *\r\n",
    "from atcrawl.utilities.funcs import *"
   ],
   "outputs": [],
   "metadata": {}
  },
  {
   "cell_type": "code",
   "execution_count": 4,
   "source": [
    "html = open(\"../antallaktina.txt\", encoding='utf-8').read()"
   ],
   "outputs": [],
   "metadata": {}
  },
  {
   "cell_type": "code",
   "execution_count": 6,
   "source": [
    "soup = BeautifulSoup(html, 'lxml')"
   ],
   "outputs": [],
   "metadata": {}
  },
  {
   "cell_type": "code",
   "execution_count": 10,
   "source": [
    "prices = multi_parse(soup, 'div', 'price')\r\n",
    "print(list(map(fmtnumber, map(num_from_text, prices))))"
   ],
   "outputs": [
    {
     "output_type": "stream",
     "name": "stdout",
     "text": [
      "['13.09', '14.02', '15.66', '16.44', '32.12', '13.63', '14.73', '14.73', '14.80', '14.96', '15.04', '15.43', '15.66', '15.82', '16.13', '16.21', '16.29', '16.29', '16.52', '16.60']\n"
     ]
    }
   ],
   "metadata": {}
  },
  {
   "cell_type": "code",
   "execution_count": 12,
   "source": [
    "old_prices = multi_parse(soup, 'div', 'old_price promo')\r\n",
    "print(list(map(fmtnumber, map(num_from_text, old_prices))))"
   ],
   "outputs": [
    {
     "output_type": "stream",
     "name": "stdout",
     "text": [
      "['16.78', '17.98', '20.08', '21.08', '41.18', '17.48', '18.88', '18.88', '18.98', '19.18', '19.28', '19.78', '20.08', '20.28', '20.68', '20.78', '20.88', '20.88', '21.18', '21.28']\n"
     ]
    }
   ],
   "metadata": {}
  },
  {
   "cell_type": "code",
   "execution_count": 14,
   "source": [
    "sku = multi_parse(soup, 'div', 'nr')\r\n",
    "skus = []\r\n",
    "for i in sku:\r\n",
    "    _ = i.split(':')[1].strip()\r\n",
    "    skus.append(_)\r\n",
    "skus"
   ],
   "outputs": [
    {
     "output_type": "execute_result",
     "data": {
      "text/plain": [
       "['402B0029',\n",
       " '402B1389',\n",
       " '402B0019',\n",
       " '402B0009',\n",
       " '402B1336',\n",
       " '22-0100-1',\n",
       " 'JQ1011082',\n",
       " 'C2W001ABE',\n",
       " '822-100-1',\n",
       " 'TX 10-781',\n",
       " '13046071172N-SET-MS',\n",
       " '229986',\n",
       " 'JQ1012166',\n",
       " '13046071112N-SET-MS',\n",
       " '1170001',\n",
       " '07.35.105',\n",
       " '025 209 6117',\n",
       " '301463',\n",
       " '0263.05',\n",
       " '13046071842N-SET-MS']"
      ]
     },
     "metadata": {},
     "execution_count": 14
    }
   ],
   "metadata": {}
  },
  {
   "cell_type": "code",
   "execution_count": 23,
   "source": [
    "images = multi_parse(soup, 'div', 'listing-parent-pkw', text=False)\r\n",
    "srcs = []\r\n",
    "for image in images:\r\n",
    "    srcs.append(image.find('img').get('src'))\r\n",
    "srcs"
   ],
   "outputs": [
    {
     "output_type": "execute_result",
     "data": {
      "text/plain": [
       "['https://media.pkwteile.de/360_photos/7998953/preview.jpg',\n",
       " 'https://media.pkwteile.de/360_photos/15784796/preview.jpg',\n",
       " 'https://media.pkwteile.de/360_photos/7998976/preview.jpg',\n",
       " 'https://media.pkwteile.de/360_photos/7998967/preview.jpg',\n",
       " 'https://media.pkwteile.de/360_photos/14739889/preview.jpg',\n",
       " 'https://media.pkwteile.de/360_photos/9264576/preview.jpg',\n",
       " 'https://media.pkwteile.de/360_photos/7832572/preview.jpg',\n",
       " 'https://cdn.pkwteile.de/thumb?id=3327798&m=1&n=0&e=19&lng=gr&ccf=94077812',\n",
       " 'https://media.pkwteile.de/360_photos/7810737/preview.jpg',\n",
       " 'https://media.pkwteile.de/360_photos/13760163/preview.jpg',\n",
       " 'https://media.pkwteile.de/360_photos/8946641/preview.jpg',\n",
       " 'https://cdn.pkwteile.de/thumb?id=1997797&m=1&n=0&e=19&lng=gr&ccf=94077812',\n",
       " 'https://cdn.pkwteile.de/thumb?id=7832711&m=1&n=0&e=19&lng=gr&ccf=94077812',\n",
       " 'https://media.pkwteile.de/360_photos/8946631/preview.jpg',\n",
       " 'https://cdn.pkwteile.de/thumb?id=7989249&m=1&n=0&e=19&lng=gr&ccf=94077812',\n",
       " 'https://cdn.pkwteile.de/thumb?id=8685736&m=1&n=0&e=19&lng=gr&ccf=94077812',\n",
       " 'https://media.pkwteile.de/360_photos/2113142/preview.jpg',\n",
       " 'https://cdn.pkwteile.de/thumb?id=7949851&m=1&n=0&e=19&lng=gr&ccf=94077812',\n",
       " 'https://media.pkwteile.de/360_photos/2149949/preview.jpg',\n",
       " 'https://media.pkwteile.de/360_photos/8946705/preview.jpg']"
      ]
     },
     "metadata": {},
     "execution_count": 23
    }
   ],
   "metadata": {}
  },
  {
   "cell_type": "code",
   "execution_count": 24,
   "source": [
    "aval = multi_parse(soup, 'span', 'text_vers')\r\n",
    "aval"
   ],
   "outputs": [
    {
     "output_type": "execute_result",
     "data": {
      "text/plain": [
       "['ΔΙΑΘΕΣΙΜΟ',\n",
       " 'ΔΙΑΘΕΣΙΜΟ',\n",
       " 'ΔΙΑΘΕΣΙΜΟ',\n",
       " 'ΔΙΑΘΕΣΙΜΟ',\n",
       " 'ΔΙΑΘΕΣΙΜΟ',\n",
       " 'ΔΙΑΘΕΣΙΜΟ',\n",
       " 'ΔΙΑΘΕΣΙΜΟ',\n",
       " 'ΔΙΑΘΕΣΙΜΟ',\n",
       " 'ΔΙΑΘΕΣΙΜΟ',\n",
       " 'ΔΙΑΘΕΣΙΜΟ',\n",
       " 'ΔΙΑΘΕΣΙΜΟ',\n",
       " 'ΔΙΑΘΕΣΙΜΟ',\n",
       " 'ΔΙΑΘΕΣΙΜΟ',\n",
       " 'ΔΙΑΘΕΣΙΜΟ',\n",
       " 'ΔΙΑΘΕΣΙΜΟ',\n",
       " 'ΔΙΑΘΕΣΙΜΟ',\n",
       " 'ΔΙΑΘΕΣΙΜΟ',\n",
       " 'ΔΙΑΘΕΣΙΜΟ',\n",
       " 'ΔΙΑΘΕΣΙΜΟ',\n",
       " 'ΔΙΑΘΕΣΙΜΟ']"
      ]
     },
     "metadata": {},
     "execution_count": 24
    }
   ],
   "metadata": {}
  }
 ],
 "metadata": {
  "orig_nbformat": 4,
  "language_info": {
   "name": "python",
   "version": "3.8.10",
   "mimetype": "text/x-python",
   "codemirror_mode": {
    "name": "ipython",
    "version": 3
   },
   "pygments_lexer": "ipython3",
   "nbconvert_exporter": "python",
   "file_extension": ".py"
  },
  "kernelspec": {
   "name": "python3",
   "display_name": "Python 3.8.10 64-bit ('dsc': conda)"
  },
  "interpreter": {
   "hash": "fcbab4adb5514146ae7268d1b7ad1c19704476f96e30a8a2e4db8ed6c9938b48"
  }
 },
 "nbformat": 4,
 "nbformat_minor": 2
}