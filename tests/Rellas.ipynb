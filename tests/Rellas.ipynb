{
 "metadata": {
  "language_info": {
   "codemirror_mode": {
    "name": "ipython",
    "version": 3
   },
   "file_extension": ".py",
   "mimetype": "text/x-python",
   "name": "python",
   "nbconvert_exporter": "python",
   "pygments_lexer": "ipython3",
   "version": "3.8.8"
  },
  "orig_nbformat": 2,
  "kernelspec": {
   "name": "python3",
   "display_name": "Python 3.8.8 64-bit ('dsc': conda)",
   "metadata": {
    "interpreter": {
     "hash": "fcbab4adb5514146ae7268d1b7ad1c19704476f96e30a8a2e4db8ed6c9938b48"
    }
   }
  }
 },
 "nbformat": 4,
 "nbformat_minor": 2,
 "cells": [
  {
   "cell_type": "code",
   "execution_count": 1,
   "metadata": {},
   "outputs": [],
   "source": [
    "import requests\n",
    "from bs4 import BeautifulSoup"
   ]
  },
  {
   "cell_type": "code",
   "execution_count": 32,
   "metadata": {},
   "outputs": [],
   "source": [
    "def get_brands(url):\n",
    "    r = requests.get(url)\n",
    "    soup = BeautifulSoup(r.text)\n",
    "    rows = bs.find(\"div\", {\"class\": \"span9\"}).find_all(\"div\", {\"class\": \"row-fluid\"})\n",
    "    brand_row = []\n",
    "\n",
    "    for row in rows:\n",
    "        brand_row.append(row.find_all(\"a\", {\"class\": \"title\"}))\n",
    "\n",
    "    all_brands = {}\n",
    "    for row_brand in brand_row:\n",
    "        for brand in row_brand:\n",
    "            all_brands[brand.text] = brand.get(\"href\")\n",
    "\n",
    "    return all_brands\n"
   ]
  },
  {
   "cell_type": "code",
   "execution_count": 33,
   "metadata": {},
   "outputs": [
    {
     "output_type": "execute_result",
     "data": {
      "text/plain": [
       "{'Alfa Romeo': 'https://www.rellasamortiser.gr/el/13-alfa-romeo',\n",
       " 'Audi': 'https://www.rellasamortiser.gr/el/42-audi',\n",
       " 'BMW': 'https://www.rellasamortiser.gr/el/55-bmw',\n",
       " 'Chevrolet': 'https://www.rellasamortiser.gr/el/683-chevrolet',\n",
       " 'Chrysler': 'https://www.rellasamortiser.gr/el/834-chrysler',\n",
       " 'Citroën': 'https://www.rellasamortiser.gr/el/4-citroen',\n",
       " 'Dacia': 'https://www.rellasamortiser.gr/el/47409-dacia',\n",
       " 'Daewoo': 'https://www.rellasamortiser.gr/el/88-daewoo',\n",
       " 'Daihatsu': 'https://www.rellasamortiser.gr/el/145-daihatsu',\n",
       " 'Dodge': 'https://www.rellasamortiser.gr/el/7010-dodge',\n",
       " 'Fiat': 'https://www.rellasamortiser.gr/el/11-fiat',\n",
       " 'Ford': 'https://www.rellasamortiser.gr/el/95-ford',\n",
       " 'Honda': 'https://www.rellasamortiser.gr/el/104-honda',\n",
       " 'Hyundai': 'https://www.rellasamortiser.gr/el/32-hyundai',\n",
       " 'Isuzu': 'https://www.rellasamortiser.gr/el/179-isuzu',\n",
       " 'Jeep': 'https://www.rellasamortiser.gr/el/114-jeep',\n",
       " 'Kia': 'https://www.rellasamortiser.gr/el/186-kia',\n",
       " 'Lada': 'https://www.rellasamortiser.gr/el/232-lada',\n",
       " 'Lancia ': 'https://www.rellasamortiser.gr/el/669-lancia',\n",
       " 'Land Rover': 'https://www.rellasamortiser.gr/el/721-land-rover',\n",
       " 'Lexus': 'https://www.rellasamortiser.gr/el/6986-lexus',\n",
       " 'Mazda': 'https://www.rellasamortiser.gr/el/194-mazda',\n",
       " 'Mercedes': 'https://www.rellasamortiser.gr/el/5-mercedes',\n",
       " 'Mini': 'https://www.rellasamortiser.gr/el/181-mini',\n",
       " 'Mitsubishi': 'https://www.rellasamortiser.gr/el/259-mitsubishi',\n",
       " 'Nissan': 'https://www.rellasamortiser.gr/el/176-nissan',\n",
       " 'Opel': 'https://www.rellasamortiser.gr/el/21-opel',\n",
       " 'Peugeot': 'https://www.rellasamortiser.gr/el/3-peugeot',\n",
       " 'Porsche': 'https://www.rellasamortiser.gr/el/409-porsche',\n",
       " 'Renault': 'https://www.rellasamortiser.gr/el/410-renault',\n",
       " 'Rover': 'https://www.rellasamortiser.gr/el/439-rover',\n",
       " 'Saab': 'https://www.rellasamortiser.gr/el/444-saab',\n",
       " 'Seat': 'https://www.rellasamortiser.gr/el/447-seat',\n",
       " 'Skoda': 'https://www.rellasamortiser.gr/el/455-skoda',\n",
       " 'Smart': 'https://www.rellasamortiser.gr/el/196-smart',\n",
       " 'SsangYong': 'https://www.rellasamortiser.gr/el/502-ssangyong',\n",
       " 'Subaru': 'https://www.rellasamortiser.gr/el/493-subaru',\n",
       " 'Suzuki': 'https://www.rellasamortiser.gr/el/505-suzuki',\n",
       " 'Toyota': 'https://www.rellasamortiser.gr/el/525-toyota',\n",
       " 'Volkswagen': 'https://www.rellasamortiser.gr/el/456-volkswagen',\n",
       " 'Volvo': 'https://www.rellasamortiser.gr/el/496-volvo'}"
      ]
     },
     "metadata": {},
     "execution_count": 33
    }
   ],
   "source": [
    "brands = get_brands(\"https://www.rellasamortiser.gr/el/831-amortiser\")\n",
    "brands"
   ]
  },
  {
   "cell_type": "code",
   "execution_count": 46,
   "metadata": {},
   "outputs": [],
   "source": [
    "r = requests.get(\"https://www.rellasamortiser.gr/el/13-alfa-romeo?p=3\")\n",
    "soup = BeautifulSoup(r.text)"
   ]
  },
  {
   "cell_type": "code",
   "execution_count": 49,
   "metadata": {},
   "outputs": [],
   "source": [
    "a = soup.find(\"div\", {\"class\": \"row big_with_description\"}).find_all('div', {'class': 'product-name'})"
   ]
  },
  {
   "cell_type": "code",
   "execution_count": 48,
   "metadata": {},
   "outputs": [
    {
     "output_type": "execute_result",
     "data": {
      "text/plain": [
       "'/el/13-alfa-romeo?p=4'"
      ]
     },
     "metadata": {},
     "execution_count": 48
    }
   ],
   "source": [
    "soup.find('li', {'id': 'pagination_next'}).find('a').get('href')"
   ]
  },
  {
   "cell_type": "code",
   "execution_count": 53,
   "metadata": {},
   "outputs": [
    {
     "output_type": "stream",
     "name": "stdout",
     "text": [
      "https://www.rellasamortiser.gr/el/alfa-romeo/1303-alfa-romeo-166-bilstein-b8-1998-2010-24-060998-24-061001-be5-6099-be5-6100.html?cid=13\nhttps://www.rellasamortiser.gr/el/alfa-romeo/34-alfa-romeo-mito-bilstein-b6-2008-2012-35-140238-35-140245-24-140256-ve3-e023-ve3-e024-be5-e025.html?cid=13\nhttps://www.rellasamortiser.gr/el/alfa-romeo/427-alfa-romeo-147-bilstein-b8-2001-2010-24-027977-35-047216-be3-2797-ve3-4721.html?cid=13\nhttps://www.rellasamortiser.gr/el/alfa-romeo/437-alfa-romeo-156-bilstein-b8-1997-2007-24-027977-35-047216-be3-2797-ve3-4721.html?cid=13\nhttps://www.rellasamortiser.gr/el/alfa-romeo/462-alfa-romeo-gt-bilstein-b8-2004-2006-24-027977-35-047216-be3-2797-ve3-4721.html?cid=13\nhttps://www.rellasamortiser.gr/el/alfa-romeo/413-alfa-romeo-spider-30-v6-bilstein-b6-1994-2005-35-043102-24-026055-ve3-4310-be3-2605.html?cid=13\nhttps://www.rellasamortiser.gr/el/alfa-romeo/457-alfa-romeo-giulietta-bilstein-b8-2010-2014-35-195078-35-195085-24-195096.html?cid=13\nhttps://www.rellasamortiser.gr/el/alfa-romeo/1251-alfa-romeo-spider-bilstein-b6-2006-2015-24-128780-24-128797-be5-c878-be5-c879.html?cid=13\nhttps://www.rellasamortiser.gr/el/alfa-romeo/455-alfa-romeo-brera-bilstein-b6-2005-2014-24-128780-24-128797-be5-c878-be5-c879.html?cid=13\nhttps://www.rellasamortiser.gr/el/alfa-romeo/451-alfa-romeo-159-bilstein-b6-2005-2012-24-128780-24-128797-be5-c878-be5-c879.html?cid=13\nhttps://www.rellasamortiser.gr/el/alfa-romeo/78-alfa-romeo-giulietta-bilstein-b6-2010-2014-35-195047-35-195054-24-195065.html?cid=13\nhttps://www.rellasamortiser.gr/el/alfa-romeo/31-alfa-romeo-166-bilstein-b6-1998-2010-24-267397-24-060981.html?cid=13\nhttps://www.rellasamortiser.gr/el/alfa-romeo/472-alfa-romeo-mito-bilstein-b8-2008-2012-35-158790-35-158806-24-158879-ve3-f879-ve3-f880-be5-f887.html?cid=13\nhttps://www.rellasamortiser.gr/el/alfa-romeo/1252-alfa-romeo-spider-bilstein-b8-2006-2015-24-128803-24-128810-be5-c880-be5-c881.html?cid=13\nhttps://www.rellasamortiser.gr/el/alfa-romeo/33-alfa-romeo-brera-koni-sport-2005-2014-8241-1238sport-8240-1239sport.html?cid=13\nhttps://www.rellasamortiser.gr/el/alfa-romeo/453-alfa-romeo-159-koni-sport-2005-2012-8241-1238sport-8240-1239sport.html?cid=13\nhttps://www.rellasamortiser.gr/el/alfa-romeo/470-alfa-romeo-mito-koni-sport-2008-2012-8741-1514lsport-8741-1514rsport-8040-1399sport.html?cid=13\nhttps://www.rellasamortiser.gr/el/alfa-romeo/410-alfa-romeo-gtv-20-twin-spark-16v-bilstein-b6-1994-2005-35-043126-24-026055-ve3-4312-be3-2605.html?cid=13\nhttps://www.rellasamortiser.gr/el/alfa-romeo/432-alfa-romeo-147-koni-sport-2001-2010-8041-1239sport-8741-1473sport.html?cid=13\nhttps://www.rellasamortiser.gr/el/alfa-romeo/442-alfa-romeo-156-koni-sport-1997-2007-8041-1239sport-8741-1473sport.html?cid=13\n"
     ]
    }
   ],
   "source": [
    "for i in a:\n",
    "    print(i.find('a').get('href'))"
   ]
  }
 ]
}