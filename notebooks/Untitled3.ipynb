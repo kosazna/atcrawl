{
 "cells": [
  {
   "cell_type": "code",
   "execution_count": 1,
   "id": "gentle-beijing",
   "metadata": {},
   "outputs": [],
   "source": [
    "import pandas as pd\n",
    "from pathlib import Path"
   ]
  },
  {
   "cell_type": "code",
   "execution_count": 10,
   "id": "congressional-delhi",
   "metadata": {},
   "outputs": [],
   "source": [
    "cwd = Path(\"C:\\\\Users\\\\aznavouridis.k\\\\Desktop\\\\test\")\n",
    "files = list(cwd.glob('*.xlsx'))"
   ]
  },
  {
   "cell_type": "code",
   "execution_count": 11,
   "id": "introductory-input",
   "metadata": {},
   "outputs": [],
   "source": [
    "to_concat = []\n",
    "\n",
    "for file in files:\n",
    "    df = pd.read_excel(file)\n",
    "    to_concat.append(df)\n",
    "\n",
    "merged_df = pd.concat(to_concat)"
   ]
  },
  {
   "cell_type": "code",
   "execution_count": 12,
   "id": "modified-counter",
   "metadata": {},
   "outputs": [],
   "source": [
    "a = to_concat[0]"
   ]
  },
  {
   "cell_type": "code",
   "execution_count": 3,
   "id": "handmade-project",
   "metadata": {},
   "outputs": [],
   "source": [
    "import re"
   ]
  },
  {
   "cell_type": "code",
   "execution_count": 8,
   "id": "nuclear-checkout",
   "metadata": {},
   "outputs": [
    {
     "data": {
      "text/plain": [
       "'price_after_discount_%'"
      ]
     },
     "execution_count": 8,
     "metadata": {},
     "output_type": "execute_result"
    }
   ],
   "source": [
    "re.sub(\"price_after_discount_\\d+%\", 'price_after_discousnt_-+sd2000%', 'price_after_discount_%')"
   ]
  },
  {
   "cell_type": "code",
   "execution_count": 13,
   "id": "guilty-people",
   "metadata": {},
   "outputs": [],
   "source": [
    "a = pd.read_excel(r\"C:\\Users\\aznavouridis.k\\Desktop\\Crawler_GUI\\testsk111.xlsx\")"
   ]
  },
  {
   "cell_type": "code",
   "execution_count": 15,
   "id": "superior-jurisdiction",
   "metadata": {},
   "outputs": [
    {
     "data": {
      "text/plain": [
       "['brand',\n",
       " 'article_no',\n",
       " 'title',\n",
       " 'description',\n",
       " 'meta_title_seo',\n",
       " 'details',\n",
       " 'retail_price',\n",
       " 'price_after_discount_%',\n",
       " 'id_category',\n",
       " 'image',\n",
       " 'meta_seo',\n",
       " 'extra_description',\n",
       " 'shop']"
      ]
     },
     "execution_count": 15,
     "metadata": {},
     "output_type": "execute_result"
    }
   ],
   "source": [
    "[re.sub(\"price_after_discount_[+-]\\d+%\", 'price_after_discount_%', col_name) for col_name in a.columns]"
   ]
  },
  {
   "cell_type": "code",
   "execution_count": 31,
   "id": "separate-cheat",
   "metadata": {},
   "outputs": [],
   "source": [
    "import re\n",
    "\n",
    "def str2int(string_number: str,\n",
    "            sep: str = ',') -> int:\n",
    "    \"\"\"\n",
    "    Converts string to integer. This function facilitates the conversion\n",
    "    if the string number has a separator for the thousands part because\n",
    "    int(number) raises an error.\n",
    "    str2int('1,416') -> 1416\n",
    "    :param string_number: str\n",
    "        Number of type <str>\n",
    "    :param sep: str\n",
    "        Thousands separator (default: ',')\n",
    "    :return: int\n",
    "        Number of type <int>\n",
    "    \"\"\"\n",
    "    numbers = string_number.split(sep)\n",
    "    ints = list(map(int, numbers))\n",
    "\n",
    "    if len(numbers) == 1:\n",
    "        return ints[0]\n",
    "    elif len(numbers) == 2:\n",
    "        return ints[0] * 1000 + ints[1]\n",
    "    else:\n",
    "        return ints[0] * 1000000 + ints[1] * 1000 + ints[2]\n",
    "    \n",
    "def num_from_text(text):\n",
    "    \"\"\"\n",
    "    Finds and returns a number from a string. If number is splitted with comma\n",
    "    instead of a dot the two elements will be returned\n",
    "\n",
    "    :param text: str\n",
    "        text with number\n",
    "    :return: list\n",
    "        list of numbers\n",
    "    \"\"\"\n",
    "    pattern = r'[-+]?[.]?[\\d]+(?:,\\d\\d\\d)*[\\.]?\\d*(?:[eE][-+]?\\d+)?'\n",
    "    return re.findall(pattern, text)\n",
    "\n",
    "\n",
    "def fmtnumber(number: list):\n",
    "    \"\"\"\n",
    "    Formats a list of number as a single number\n",
    "\n",
    "    :param number: list\n",
    "        list of numbers\n",
    "    :return: str\n",
    "        single number\n",
    "    \"\"\"\n",
    "    if len(number) > 1:\n",
    "        _new_numbers = [num.replace('.', '').replace(',', '') for num in number]\n",
    "        return '.'.join(_new_numbers)\n",
    "    else:\n",
    "        return number[0].replace('.', '').replace(',', '')"
   ]
  },
  {
   "cell_type": "code",
   "execution_count": 37,
   "id": "suburban-johnson",
   "metadata": {},
   "outputs": [
    {
     "name": "stdout",
     "output_type": "stream",
     "text": [
      "['5,000,000', '56']\n",
      "5000000.56\n"
     ]
    }
   ],
   "source": [
    "a = '5,000,000,56'\n",
    "\n",
    "print(num_from_text(a))\n",
    "print(fmtnumber(num_from_text(a)))"
   ]
  }
 ],
 "metadata": {
  "kernelspec": {
   "display_name": "Python 3",
   "language": "python",
   "name": "python3"
  },
  "language_info": {
   "codemirror_mode": {
    "name": "ipython",
    "version": 3
   },
   "file_extension": ".py",
   "mimetype": "text/x-python",
   "name": "python",
   "nbconvert_exporter": "python",
   "pygments_lexer": "ipython3",
   "version": "3.7.10"
  }
 },
 "nbformat": 4,
 "nbformat_minor": 5
}
