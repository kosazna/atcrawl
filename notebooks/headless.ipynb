{
 "cells": [
  {
   "cell_type": "code",
   "execution_count": 1,
   "id": "eleven-arbor",
   "metadata": {},
   "outputs": [],
   "source": [
    "import pandas as pd\n",
    "import requests\n",
    "from bs4 import BeautifulSoup\n",
    "from pathlib import Path\n",
    "from time import sleep\n",
    "\n",
    "from selenium import webdriver\n",
    "from selenium.webdriver.support import expected_conditions as ec\n",
    "from selenium.webdriver.support.ui import WebDriverWait\n",
    "from selenium.webdriver.common.by import By\n",
    "\n",
    "from selenium.webdriver.chrome.options import Options"
   ]
  },
  {
   "cell_type": "code",
   "execution_count": 2,
   "id": "united-landing",
   "metadata": {},
   "outputs": [],
   "source": [
    "chromedriver = Path.home().joinpath(\"chromedriver.exe\")\n",
    "browser = \"Chrome\"\n",
    "url_parser = 'lxml'\n",
    "\n",
    "url = \"https://www.antallaktikaonline.gr/search?brandNo[0]=10543&sort_categories[0]=289&fbclid=IwAR3XbbKxdV8hR0p8ClUTR9A9NvuTOpunp_gTK4XBh_-pk7uGaRvaZ7pP2h0\"\n",
    "\n",
    "chrome_options = Options()\n",
    "chrome_options.add_argument(\"--start-maximized\")\n",
    "chrome_options.add_argument('--headless')"
   ]
  },
  {
   "cell_type": "code",
   "execution_count": 4,
   "id": "heavy-oklahoma",
   "metadata": {},
   "outputs": [],
   "source": [
    "driver = webdriver.Chrome(str(chromedriver), options=chrome_options)\n",
    "driver.get(url)"
   ]
  },
  {
   "cell_type": "code",
   "execution_count": 5,
   "id": "inner-python",
   "metadata": {},
   "outputs": [
    {
     "data": {
      "text/plain": [
       "'<html class=\"no-js\" lang=\"en-US\"><!--<![endif]--><head>\\n\\n<title>Attention Required! | Cloudflare</title>\\n\\n<meta name=\"captcha-bypass\" id=\"captcha-bypass\">\\n<meta charset=\"UTF-8\">\\n<meta http-equiv=\"Content-Type\" content=\"text/html; charset=UTF-8\">\\n<meta http-equiv=\"X-UA-Compatible\" content=\"IE=Edge,chrome=1\">\\n<meta name=\"robots\" content=\"noindex, nofollow\">\\n<meta name=\"viewport\" content=\"width=device-width,initial-scale=1\">\\n<link rel=\"stylesheet\" id=\"cf_styles-css\" href=\"/cdn-cgi/styles/cf.errors.css\" type=\"text/css\" media=\"screen,projection\">\\n<!--[if lt IE 9]><link rel=\"stylesheet\" id=\\'cf_styles-ie-css\\' href=\"/cdn-cgi/styles/cf.errors.ie.css\" type=\"text/css\" media=\"screen,projection\" /><![endif]-->\\n<style type=\"text/css\">body{margin:0;padding:0}</style>\\n\\n\\n<!--[if gte IE 10]><!-->\\n<script>\\n  if (!navigator.cookieEnabled) {\\n    window.addEventListener(\\'DOMContentLoaded\\', function () {\\n      var cookieEl = document.getElementById(\\'cookie-alert\\');\\n      cookieEl.style.display = \\'block\\';\\n    })\\n  }\\n</script>\\n<!--<![endif]-->\\n\\n\\n  <script type=\"text/javascript\">\\n    //<![CDATA[\\n    (function(){\\n      window._cf_chl_opt={\\n        cvId: \"1\",\\n        cType: \"interactive\",\\n        cNounce: \"4243\",\\n        cRay: \"61496ebcadb19e67\",\\n        cHash: \"fc92706c8ae68d5\",\\n        cFPWv: \"b\",\\n        cRq: {\\n          ru: \"aHR0cHM6Ly93d3cuYW50YWxsYWt0aWthb25saW5lLmdyL3NlYXJjaD9icmFuZE5vWzBdPTEwNTQzJnNvcnRfY2F0ZWdvcmllc1swXT0yODkmZmJjbGlkPUl3QVIzWGJiS3hkVjhoUjBwOENsVVRSOUE5TnZ1VE9wdW5wX2dUSzRYQmhfLXBrN3VHYVJ2YVo3cFAyaDA=\",\\n          ra: \"TW96aWxsYS81LjAgKFdpbmRvd3MgTlQgMTAuMDsgV2luNjQ7IHg2NCkgQXBwbGVXZWJLaXQvNTM3LjM2IChLSFRNTCwgbGlrZSBHZWNrbykgSGVhZGxlc3NDaHJvbWUvODcuMC40MjgwLjE0MSBTYWZhcmkvNTM3LjM2\",\\n          rm: \"R0VU\",\\n          d: \"Zg9OF+umllDOCzjlO9hH82oDuqECKsPmibubl5qcJYqqmqpjpTGpKyRIDxUd2+Vcx2+LeqMsXsPSsvVzWdWkNouz6DJy1fLOwc+ORosjgf5XsowrArwnFtPNrzlPjGQBlbBoRAoDM2beetn3Sbuq0feYYPJyLlsj143RygqYkcpCAzTHTj//wj3l76Ya3uU1tp/cuY9/mrtqOEuBEowj/dMYYUAqjngYW3DHUFFryT34IZ7QK6cX7JVQY9v6zZlmAALzgiRO+QX9s5d/6rpAVBnXX8IpaDtpfrkqaGDvXUnbqiLlywn8BcSF1wGxFiBgI+AUc3IVP5Ztgi6gSqqf6fhk+FQwZxvTOEPJbWH5faUJK/019rt0kVsmyUnED23ke3Q8/w/FHUEje39oe2W0YMo9fOtKVVr7mRNc8m/SZxxjgvRQVRiXjANBw7GwULLC8BfxkuiRwoG3fCoPnFU3HzHDTe54YD9OMwBhQN1iTXnrXCtKjSp9TR39JNQh4NzZFTETEmafdbJQHtFzwozP8bSRQQcQPkTclU+PtZtFh2NKjPLTFFIv+SlcjIEX4+uqtsTQz9bSQ0hTNZ8bjb4QkImoYRq7b6OialtUxGpoLbexqAjEp8euB6uacwMWPjJLbb82I1Xp4oN6R1E+slccJ0/YyzAeAD3bea30BgNI6ZAI2DuvkuGIA+Ti2wD02ac00Ku+ZmVLJnBLnvHfq46MKEikSnhWtNE2bcsvFQZhwpAolwdo5GUYnG4Ar8pwOzf+ZLb1kG7xvlJA1I3/Opjq7A==\",\\n          t: \"MTYxMTE1MjM4OC41OTYwMDA=\",\\n          m: \"wOkB8jleJApES7uUGDVNkRa1N6AT53IphybtH527w2E=\",\\n          i1: \"q3d3YcixeFZuz7gHuv077g==\",\\n          i2: \"Ux2hXIZcRojCZJpPeqYGyg==\",\\n          uh: \"bMv13uO69v1LPO+okxbhv+8tZDt3KTnXkwdxTCHr1oc=\",\\n          hh: \"hCj+YpNaP+5VVa3vQUnRXjKbSCavrE3tES/4LAk042I=\",\\n        }\\n      }\\n      window._cf_chl_enter = function(){window._cf_chl_opt.p=1};\\n      var a = function() {try{return !!window.addEventListener} catch(e) {return !1} },\\n      b = function(b, c) {a() ? document.addEventListener(\"DOMContentLoaded\", b, c) : document.attachEvent(\"onreadystatechange\", b)};\\n      b(function(){\\n        var cookiesEnabled=(navigator.cookieEnabled)? true : false;\\n        var cookieSupportInfix=cookiesEnabled?\\'/nocookie\\':\\'/cookie\\';\\n        var cpo = document.createElement(\\'script\\');\\n        cpo.type = \\'text/javascript\\';\\n        cpo.src = \"/cdn-cgi/challenge-platform/h/b/orchestrate/captcha/v1\";\\n        var done = false;\\n        cpo.onload = cpo.onreadystatechange = function() {\\n          if (!done && (!this.readyState || this.readyState === \"loaded\" || this.readyState === \"complete\")) {\\n            done = true;\\n            cpo.onload = cpo.onreadystatechange = null;\\n            window._cf_chl_enter()\\n          }\\n        };\\n        document.getElementsByTagName(\\'head\\')[0].appendChild(cpo);\\n      }, false);\\n    })();\\n    //]]>\\n  </script>\\n  \\n<style type=\"text/css\">\\n  #cf-wrapper #spinner {width:69px; margin:  auto;}\\n  #cf-wrapper #cf-please-wait{text-align:center}\\n  .attribution {margin-top: 32px;}\\n  .bubbles { background-color: #f58220; width:20px; height: 20px; margin:2px; border-radius:100%; display:inline-block; }\\n  #cf-wrapper #challenge-form { padding-top:25px; padding-bottom:25px; }\\n  #cf-hcaptcha-container { text-align:center;}\\n  #cf-hcaptcha-container iframe { display: inline-block;}\\n  @keyframes fader     { 0% {opacity: 0.2;} 50% {opacity: 1.0;} 100% {opacity: 0.2;} }\\n  #cf-wrapper #cf-bubbles { width:69px; }\\n  @-webkit-keyframes fader { 0% {opacity: 0.2;} 50% {opacity: 1.0;} 100% {opacity: 0.2;} }\\n  #cf-bubbles > .bubbles { animation: fader 1.6s infinite;}\\n  #cf-bubbles > .bubbles:nth-child(2) { animation-delay: .2s;}\\n  #cf-bubbles > .bubbles:nth-child(3) { animation-delay: .4s;}\\n</style>\\n<script type=\"text/javascript\" src=\"/cdn-cgi/challenge-platform/h/b/orchestrate/captcha/v1\"></script><script type=\"text/javascript\" src=\"https://hcaptcha.com/1/api.js?render=explicit&amp;recaptchacompat=off&amp;onload=_cf_chl_hload\"></script></head>\\n<body>\\n  <div id=\"cf-wrapper\">\\n    <div class=\"cf-alert cf-alert-error cf-cookie-error\" id=\"cookie-alert\" data-translate=\"enable_cookies\">Please enable cookies.</div>\\n    <div id=\"cf-error-details\" class=\"cf-error-details-wrapper\">\\n      <div class=\"cf-wrapper cf-header cf-error-overview\">\\n      \\n        <h1 data-translate=\"challenge_headline\">One more step</h1>\\n        <h2 class=\"cf-subheadline\"><span data-translate=\"complete_sec_check\">Please complete the security check to access</span> www.antallaktikaonline.gr</h2>\\n      \\n      </div>\\n      \\n      <div class=\"cf-section cf-highlight cf-captcha-container\">\\n        <div class=\"cf-wrapper\">\\n          <div class=\"cf-columns two\">\\n            <div class=\"cf-column\">\\n            \\n              <div class=\"cf-highlight-inverse cf-form-stacked\">\\n                <form class=\"challenge-form interactive-form\" id=\"challenge-form\" action=\"/search?brandNo[0]=10543&amp;sort_categories[0]=289&amp;fbclid=IwAR3XbbKxdV8hR0p8ClUTR9A9NvuTOpunp_gTK4XBh_-pk7uGaRvaZ7pP2h0&amp;__cf_chl_captcha_tk__=baeb6da2b826292e4569f0da48fc1faaa6502eee-1611152388-0-AU7z_0bBFylicpe-Qzf47KSZ64CzLOHhIVRC-k13qAuh9mf0ZQCIJcGWDpraZ1ZxEtlD6I6An9YXe1_jjfRXvKXw603jm10SOcL39rx2x_kGcakxVNHhL2UUXZ7wjBKJC1r9Ip0_oy22uAsdOsqD1CGlwVI9JfPHiH-yBHhRcgfAuFuEfpLIQ-G8CnRFRp3QlZ3mRDjb_MveOHOMHKmTygXsPtV3BZ86aUnjMTWkR-mgj5wXiTzf5loGoWoRhHD56zS722XO0aNtdKkUbQal-tOx5iycrjFbydoSUbcN64gjYkdLQJmQ34YqLcL2ICHm96R7L_7vBEo56gQ9do-1A8A2s0eSt7iXXKitNlHHIVc1x4iTaz4LyzBuTESXoOduDcEezaBNyF9AMsOo_sSHqZk-_MOFN-oW8dpR8EKlRuPHKcTVvoVo0MGMLJckP2ewkeu0Rv7p3VcJIg8cIMb_Pjg3R9-BoBQtIEnONIAgopPHadLVclVvRYQn9G635WS5tdb3Nlf79fDvIT6Ol_AWa5zTWklv-u214wi623VhMzcSHnxNFQH0rprGMcDich4fP9MEJIFJ3AZXwSwpkR6jfZVJ-r-VHt132BkjGoWvzgWSdBJGyJNr5vjdr8SMiKQ1v7ZxLzGc68EFtvCyjFQWU9puE2lUjPSDwUR-qbnTKCuK42Lq-q8ub0MuW-DPRAZ8Mo11mAZH1dv1KX8WxZZL0cASsEgU80QjBsAULMFdEaIF\" method=\"POST\" enctype=\"application/x-www-form-urlencoded\">\\n  \\n    <div id=\"cf-please-wait\" style=\"display: none;\">\\n      <div id=\"spinner\">\\n        <div id=\"cf-bubbles\">\\n            <div class=\"bubbles\"></div>\\n            <div class=\"bubbles\"></div>\\n            <div class=\"bubbles\"></div>\\n        </div>\\n      </div>\\n      <p data-translate=\"please_wait\" id=\"cf-spinner-please-wait\">Please stand by, while we are checking your browser...</p>\\n      </div>\\n  \\n  <input type=\"hidden\" name=\"r\" value=\"027a2454c81d44ccb3751147473a679a7cf805ac-1611152388-0-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\">\\n  <input type=\"hidden\" name=\"cf_captcha_kind\" value=\"h\">\\n  <input type=\"hidden\" name=\"vc\" value=\"7dae79924a7bf090e439d806b62d146d\">\\n  \\n  <noscript id=\"cf-captcha-bookmark\" class=\"cf-captcha-info\">\\n  <h1 data-translate=\"turn_on_js\" style=\"color:#bd2426;\">Please turn JavaScript on and reload the page.</h1>\\n  </noscript>\\n    <div id=\"no-cookie-warning\" class=\"cookie-warning\" data-translate=\"turn_on_cookies\" style=\"display:none\">\\n      <p data-translate=\"turn_on_cookies\" style=\"color:#bd2426;\">Please enable Cookies and reload the page.</p>\\n    </div>\\n  <script type=\"text/javascript\">\\n  //<![CDATA[\\n    var a = function() {try{return !!window.addEventListener} catch(e) {return !1} },\\n      b = function(b, c) {a() ? document.addEventListener(\"DOMContentLoaded\", b, c) : document.attachEvent(\"onreadystatechange\", b)};\\n      b(function(){\\n        var cookiesEnabled=(navigator.cookieEnabled)? true : false;\\n        if(!cookiesEnabled){\\n          var q = document.getElementById(\\'no-cookie-warning\\');q.style.display = \\'block\\';\\n        }\\n      });\\n  //]]>\\n  </script>\\n  <div id=\"trk_captcha_js\" style=\"background-image:url(\\'/cdn-cgi/images/trace/captcha/nojs/h/transparent.gif?ray=61496ebcadb19e67\\')\"></div>\\n<div id=\"cf-hcaptcha-container\"><iframe src=\"https://assets.hcaptcha.com/captcha/v1/4301526/static/hcaptcha-checkbox.html#id=0b10gbzne8m&amp;host=www.antallaktikaonline.gr&amp;sentry=true&amp;reportapi=https%3A%2F%2Faccounts.hcaptcha.com&amp;recaptchacompat=off&amp;sitekey=33f96e6a-38cd-421b-bb68-7806e1764460\" title=\"widget containing checkbox for hCaptcha security challenge\" tabindex=\"0\" frameborder=\"0\" scrolling=\"no\" data-hcaptcha-widget-id=\"0b10gbzne8m\" data-hcaptcha-response=\"\" style=\"width: 303px; height: 78px; overflow: hidden;\"></iframe><textarea id=\"h-captcha-response-0b10gbzne8m\" name=\"h-captcha-response\" style=\"display: none;\"></textarea></div></form>\\n\\n              </div>\\n            </div>\\n\\n            <div class=\"cf-column\">\\n              <div class=\"cf-screenshot-container\">\\n              \\n                <span class=\"cf-no-screenshot\"></span>\\n              \\n              </div>\\n            </div>\\n          </div>\\n        </div>\\n      </div>\\n\\n      <div class=\"cf-section cf-wrapper\">\\n        <div class=\"cf-columns two\">\\n          <div class=\"cf-column\">\\n            <h2 data-translate=\"why_captcha_headline\">Why do I have to complete a CAPTCHA?</h2>\\n            \\n            <p data-translate=\"why_captcha_detail\">Completing the CAPTCHA proves you are a human and gives you temporary access to the web property.</p>\\n          </div>\\n\\n          <div class=\"cf-column\">\\n            <h2 data-translate=\"resolve_captcha_headline\">What can I do to prevent this in the future?</h2>\\n            \\n\\n            <p data-translate=\"resolve_captcha_antivirus\">If you are on a personal connection, like at home, you can run an anti-virus scan on your device to make sure it is not infected with malware.</p>\\n\\n            <p data-translate=\"resolve_captcha_network\">If you are at an office or shared network, you can ask the network administrator to run a scan across the network looking for misconfigured or infected devices.</p>\\n            \\n              \\n              <p data-translate=\"resolve_captcha_privacy_pass\"> Another way to prevent getting this page in the future is to use Privacy Pass. You may need to download version 2.0 now from the <a rel=\"noopener noreferrer\" href=\"https://chrome.google.com/webstore/detail/privacy-pass/ajhmfdgkijocedmfjonnpjfojldioehi\">Chrome Web Store</a>.</p>\\n              \\n            \\n          </div>\\n        </div>\\n      </div>\\n      \\n\\n      <div class=\"cf-error-footer cf-wrapper w-240 lg:w-full py-10 sm:py-4 sm:px-8 mx-auto text-center sm:text-left border-solid border-0 border-t border-gray-300\">\\n  <p class=\"text-13\">\\n    <span class=\"cf-footer-item sm:block sm:mb-1\">Cloudflare Ray ID: <strong class=\"font-semibold\">61496ebcadb19e67</strong></span>\\n    <span class=\"cf-footer-separator sm:hidden\">•</span>\\n    <span class=\"cf-footer-item sm:block sm:mb-1\"><span>Your IP</span>: 91.140.6.178</span>\\n    <span class=\"cf-footer-separator sm:hidden\">•</span>\\n    <span class=\"cf-footer-item sm:block sm:mb-1\"><span>Performance &amp; security by</span> <a rel=\"noopener noreferrer\" href=\"https://www.cloudflare.com/5xx-error-landing\" id=\"brand_link\" target=\"_blank\">Cloudflare</a></span>\\n    \\n  </p>\\n</div><!-- /.error-footer -->\\n\\n\\n    </div>\\n  </div>\\n\\n  <script type=\"text/javascript\">\\n  window._cf_translation = {};\\n  \\n  \\n</script>\\n\\n\\n\\n\\n<div aria-hidden=\"true\" style=\"background-color: rgb(255, 255, 255); border: 1px solid rgb(208, 208, 208); box-shadow: rgba(0, 0, 0, 0.1) 0px 0px 4px; border-radius: 4px; left: -10000px; top: -10000px; z-index: -2147483648; position: absolute; transition: opacity 0.15s ease-out 0s; opacity: 0; visibility: hidden;\"><div style=\"position: relative;\"><iframe src=\"https://assets.hcaptcha.com/captcha/v1/4301526/static/hcaptcha-challenge.html#id=0b10gbzne8m&amp;host=www.antallaktikaonline.gr&amp;sentry=true&amp;reportapi=https%3A%2F%2Faccounts.hcaptcha.com&amp;recaptchacompat=off&amp;sitekey=33f96e6a-38cd-421b-bb68-7806e1764460\" title=\"Main content of the hCaptcha challenge\" frameborder=\"0\" scrolling=\"no\" style=\"border: 0px; z-index: 2000000000; position: relative;\"></iframe></div><div style=\"width: 100%; height: 100%; position: fixed; pointer-events: none; top: 0px; left: 0px; z-index: 0; background-color: rgb(255, 255, 255); opacity: 0.05;\"></div><div style=\"border-width: 11px; position: absolute; pointer-events: none; margin-top: -11px; z-index: 1; right: 100%;\"><div style=\"border-width: 10px; border-style: solid; border-color: transparent rgb(255, 255, 255) transparent transparent; position: relative; top: 10px; z-index: 1;\"></div><div style=\"border-width: 11px; border-style: solid; border-color: transparent rgb(208, 208, 208) transparent transparent; position: relative; top: -11px; z-index: 0;\"></div></div></div></body></html>'"
      ]
     },
     "execution_count": 5,
     "metadata": {},
     "output_type": "execute_result"
    }
   ],
   "source": [
    "driver."
   ]
  }
 ],
 "metadata": {
  "kernelspec": {
   "display_name": "Python 3",
   "language": "python",
   "name": "python3"
  },
  "language_info": {
   "codemirror_mode": {
    "name": "ipython",
    "version": 3
   },
   "file_extension": ".py",
   "mimetype": "text/x-python",
   "name": "python",
   "nbconvert_exporter": "python",
   "pygments_lexer": "ipython3",
   "version": "3.8.8"
  }
 },
 "nbformat": 4,
 "nbformat_minor": 5
}
