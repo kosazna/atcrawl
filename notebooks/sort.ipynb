{
 "metadata": {
  "language_info": {
   "codemirror_mode": {
    "name": "ipython",
    "version": 3
   },
   "file_extension": ".py",
   "mimetype": "text/x-python",
   "name": "python",
   "nbconvert_exporter": "python",
   "pygments_lexer": "ipython3",
   "version": "3.8.8"
  },
  "orig_nbformat": 2,
  "kernelspec": {
   "name": "python388jvsc74a57bd0fcbab4adb5514146ae7268d1b7ad1c19704476f96e30a8a2e4db8ed6c9938b48",
   "display_name": "Python 3.8.8 64-bit ('dsc': conda)"
  }
 },
 "nbformat": 4,
 "nbformat_minor": 2,
 "cells": [
  {
   "cell_type": "code",
   "execution_count": 1,
   "metadata": {},
   "outputs": [],
   "source": [
    "import pandas as pd"
   ]
  },
  {
   "cell_type": "code",
   "execution_count": 19,
   "metadata": {},
   "outputs": [],
   "source": [
    "df = pd.read_excel(\"C:/Users/aznavouridis.k/Desktop/Terpos/SK_1.xlsx\")"
   ]
  },
  {
   "cell_type": "code",
   "execution_count": 20,
   "metadata": {},
   "outputs": [
    {
     "output_type": "execute_result",
     "data": {
      "text/plain": [
       "12"
      ]
     },
     "metadata": {},
     "execution_count": 20
    }
   ],
   "source": [
    "df['title'].isna().sum()"
   ]
  },
  {
   "cell_type": "code",
   "execution_count": 21,
   "metadata": {},
   "outputs": [
    {
     "output_type": "execute_result",
     "data": {
      "text/plain": [
       "       brand  article_no                                    title description  \\\n",
       "0    Castrol         NaN  Castrol GTX Ultraclean A3/B4 10W-40 4lt        test   \n",
       "1    Castrol         NaN   Castrol Edge Titanium FST 5W-30 LL 4lt        test   \n",
       "2    Castrol         NaN         Castrol Magnatec 10W-40 A3/B4 4L        test   \n",
       "3    Castrol         NaN      Castrol Edge Titanium FST 5W-40 4lt        test   \n",
       "4    Castrol         NaN   Castrol Edge Titanium FST C3 5W-30 4lt        test   \n",
       "..       ...         ...                                      ...         ...   \n",
       "140  Castrol         NaN            Castrol Magnatec C2 5W-30 1lt        test   \n",
       "141  Castrol         NaN               Castrol Tection 15W-40 20L        test   \n",
       "142  Castrol         NaN                                   <NULL>        test   \n",
       "143  Castrol         NaN             Castrol Magnatec 5W-30 A1 1L        test   \n",
       "144  Castrol         NaN                                   <NULL>        test   \n",
       "\n",
       "                                   meta_title_seo  \\\n",
       "0    test Castrol GTX Ultraclean A3/B4 10W-40 4lt   \n",
       "1     test Castrol Edge Titanium FST 5W-30 LL 4lt   \n",
       "2           test Castrol Magnatec 10W-40 A3/B4 4L   \n",
       "3        test Castrol Edge Titanium FST 5W-40 4lt   \n",
       "4     test Castrol Edge Titanium FST C3 5W-30 4lt   \n",
       "..                                            ...   \n",
       "140            test Castrol Magnatec C2 5W-30 1lt   \n",
       "141               test Castrol Tection 15W-40 20L   \n",
       "142                    test Castrol GTX 10W-40 4L   \n",
       "143             test Castrol Magnatec 5W-30 A1 1L   \n",
       "144          test Castrol Magnatec 5W-30 A3/B4 1L   \n",
       "\n",
       "                                   details retail_price  \\\n",
       "0     Ιξώδες: 10W-40, Χωρητικότητα (lt): 4        15,59   \n",
       "1      Ιξώδες: 5W-30, Χωρητικότητα (lt): 4        29,00   \n",
       "2     Ιξώδες: 10W-40, Χωρητικότητα (lt): 4        20,40   \n",
       "3      Ιξώδες: 5W-40, Χωρητικότητα (lt): 4        29,80   \n",
       "4      Ιξώδες: 5W-30, Χωρητικότητα (lt): 4        29,45   \n",
       "..                                     ...          ...   \n",
       "140    Ιξώδες: 5W-30, Χωρητικότητα (lt): 1         7,74   \n",
       "141  Ιξώδες: 15W-40, Χωρητικότητα (lt): 20        68,00   \n",
       "142   Ιξώδες: 10W-40, Χωρητικότητα (lt): 4        34,00   \n",
       "143    Ιξώδες: 5W-30, Χωρητικότητα (lt): 1         9,50   \n",
       "144    Ιξώδες: 5W-30, Χωρητικότητα (lt): 1         9,40   \n",
       "\n",
       "    price_after_discount_20%  id_category  \\\n",
       "0                      18,71         2605   \n",
       "1                       34,8         2605   \n",
       "2                      24,48         2605   \n",
       "3                      35,76         2605   \n",
       "4                      35,34         2605   \n",
       "..                       ...          ...   \n",
       "140                     9,29         2605   \n",
       "141                     81,6         2605   \n",
       "142                     40,8         2605   \n",
       "143                     11,4         2605   \n",
       "144                    11,28         2605   \n",
       "\n",
       "                                                 image  \\\n",
       "0    https://www.skroutz.gr/merchandising/c/bs/1228...   \n",
       "1    https://d.scdn.gr/images/sku_main_images/00818...   \n",
       "2    https://c.scdn.gr/images/sku_main_images/00613...   \n",
       "3    https://a.scdn.gr/images/sku_main_images/01793...   \n",
       "4    https://a.scdn.gr/images/sku_main_images/00829...   \n",
       "..                                                 ...   \n",
       "140  https://d.scdn.gr/images/sku_main_images/00754...   \n",
       "141  https://a.scdn.gr/images/sku_main_images/00680...   \n",
       "142  https://d.scdn.gr/images/sku_main_images/00613...   \n",
       "143  https://c.scdn.gr/images/sku_main_images/00613...   \n",
       "144  https://b.scdn.gr/images/sku_main_images/00613...   \n",
       "\n",
       "                                         meta_seo  \\\n",
       "0    test Castrol GTX Ultraclean A3/B4 10W-40 4lt   \n",
       "1     test Castrol Edge Titanium FST 5W-30 LL 4lt   \n",
       "2           test Castrol Magnatec 10W-40 A3/B4 4L   \n",
       "3        test Castrol Edge Titanium FST 5W-40 4lt   \n",
       "4     test Castrol Edge Titanium FST C3 5W-30 4lt   \n",
       "..                                            ...   \n",
       "140            test Castrol Magnatec C2 5W-30 1lt   \n",
       "141               test Castrol Tection 15W-40 20L   \n",
       "142                    test Castrol GTX 10W-40 4L   \n",
       "143             test Castrol Magnatec 5W-30 A1 1L   \n",
       "144          test Castrol Magnatec 5W-30 A3/B4 1L   \n",
       "\n",
       "                           extra_description  shop  \n",
       "0    Castrol GTX Ultraclean A3/B4 10W-40 4lt   NaN  \n",
       "1     Castrol Edge Titanium FST 5W-30 LL 4lt   NaN  \n",
       "2           Castrol Magnatec 10W-40 A3/B4 4L   NaN  \n",
       "3        Castrol Edge Titanium FST 5W-40 4lt   NaN  \n",
       "4     Castrol Edge Titanium FST C3 5W-30 4lt   NaN  \n",
       "..                                       ...   ...  \n",
       "140            Castrol Magnatec C2 5W-30 1lt   NaN  \n",
       "141               Castrol Tection 15W-40 20L   NaN  \n",
       "142                    Castrol GTX 10W-40 4L   NaN  \n",
       "143             Castrol Magnatec 5W-30 A1 1L   NaN  \n",
       "144          Castrol Magnatec 5W-30 A3/B4 1L   NaN  \n",
       "\n",
       "[145 rows x 13 columns]"
      ],
      "text/html": "<div>\n<style scoped>\n    .dataframe tbody tr th:only-of-type {\n        vertical-align: middle;\n    }\n\n    .dataframe tbody tr th {\n        vertical-align: top;\n    }\n\n    .dataframe thead th {\n        text-align: right;\n    }\n</style>\n<table border=\"1\" class=\"dataframe\">\n  <thead>\n    <tr style=\"text-align: right;\">\n      <th></th>\n      <th>brand</th>\n      <th>article_no</th>\n      <th>title</th>\n      <th>description</th>\n      <th>meta_title_seo</th>\n      <th>details</th>\n      <th>retail_price</th>\n      <th>price_after_discount_20%</th>\n      <th>id_category</th>\n      <th>image</th>\n      <th>meta_seo</th>\n      <th>extra_description</th>\n      <th>shop</th>\n    </tr>\n  </thead>\n  <tbody>\n    <tr>\n      <th>0</th>\n      <td>Castrol</td>\n      <td>NaN</td>\n      <td>Castrol GTX Ultraclean A3/B4 10W-40 4lt</td>\n      <td>test</td>\n      <td>test Castrol GTX Ultraclean A3/B4 10W-40 4lt</td>\n      <td>Ιξώδες: 10W-40, Χωρητικότητα (lt): 4</td>\n      <td>15,59</td>\n      <td>18,71</td>\n      <td>2605</td>\n      <td>https://www.skroutz.gr/merchandising/c/bs/1228...</td>\n      <td>test Castrol GTX Ultraclean A3/B4 10W-40 4lt</td>\n      <td>Castrol GTX Ultraclean A3/B4 10W-40 4lt</td>\n      <td>NaN</td>\n    </tr>\n    <tr>\n      <th>1</th>\n      <td>Castrol</td>\n      <td>NaN</td>\n      <td>Castrol Edge Titanium FST 5W-30 LL 4lt</td>\n      <td>test</td>\n      <td>test Castrol Edge Titanium FST 5W-30 LL 4lt</td>\n      <td>Ιξώδες: 5W-30, Χωρητικότητα (lt): 4</td>\n      <td>29,00</td>\n      <td>34,8</td>\n      <td>2605</td>\n      <td>https://d.scdn.gr/images/sku_main_images/00818...</td>\n      <td>test Castrol Edge Titanium FST 5W-30 LL 4lt</td>\n      <td>Castrol Edge Titanium FST 5W-30 LL 4lt</td>\n      <td>NaN</td>\n    </tr>\n    <tr>\n      <th>2</th>\n      <td>Castrol</td>\n      <td>NaN</td>\n      <td>Castrol Magnatec 10W-40 A3/B4 4L</td>\n      <td>test</td>\n      <td>test Castrol Magnatec 10W-40 A3/B4 4L</td>\n      <td>Ιξώδες: 10W-40, Χωρητικότητα (lt): 4</td>\n      <td>20,40</td>\n      <td>24,48</td>\n      <td>2605</td>\n      <td>https://c.scdn.gr/images/sku_main_images/00613...</td>\n      <td>test Castrol Magnatec 10W-40 A3/B4 4L</td>\n      <td>Castrol Magnatec 10W-40 A3/B4 4L</td>\n      <td>NaN</td>\n    </tr>\n    <tr>\n      <th>3</th>\n      <td>Castrol</td>\n      <td>NaN</td>\n      <td>Castrol Edge Titanium FST 5W-40 4lt</td>\n      <td>test</td>\n      <td>test Castrol Edge Titanium FST 5W-40 4lt</td>\n      <td>Ιξώδες: 5W-40, Χωρητικότητα (lt): 4</td>\n      <td>29,80</td>\n      <td>35,76</td>\n      <td>2605</td>\n      <td>https://a.scdn.gr/images/sku_main_images/01793...</td>\n      <td>test Castrol Edge Titanium FST 5W-40 4lt</td>\n      <td>Castrol Edge Titanium FST 5W-40 4lt</td>\n      <td>NaN</td>\n    </tr>\n    <tr>\n      <th>4</th>\n      <td>Castrol</td>\n      <td>NaN</td>\n      <td>Castrol Edge Titanium FST C3 5W-30 4lt</td>\n      <td>test</td>\n      <td>test Castrol Edge Titanium FST C3 5W-30 4lt</td>\n      <td>Ιξώδες: 5W-30, Χωρητικότητα (lt): 4</td>\n      <td>29,45</td>\n      <td>35,34</td>\n      <td>2605</td>\n      <td>https://a.scdn.gr/images/sku_main_images/00829...</td>\n      <td>test Castrol Edge Titanium FST C3 5W-30 4lt</td>\n      <td>Castrol Edge Titanium FST C3 5W-30 4lt</td>\n      <td>NaN</td>\n    </tr>\n    <tr>\n      <th>...</th>\n      <td>...</td>\n      <td>...</td>\n      <td>...</td>\n      <td>...</td>\n      <td>...</td>\n      <td>...</td>\n      <td>...</td>\n      <td>...</td>\n      <td>...</td>\n      <td>...</td>\n      <td>...</td>\n      <td>...</td>\n      <td>...</td>\n    </tr>\n    <tr>\n      <th>140</th>\n      <td>Castrol</td>\n      <td>NaN</td>\n      <td>Castrol Magnatec C2 5W-30 1lt</td>\n      <td>test</td>\n      <td>test Castrol Magnatec C2 5W-30 1lt</td>\n      <td>Ιξώδες: 5W-30, Χωρητικότητα (lt): 1</td>\n      <td>7,74</td>\n      <td>9,29</td>\n      <td>2605</td>\n      <td>https://d.scdn.gr/images/sku_main_images/00754...</td>\n      <td>test Castrol Magnatec C2 5W-30 1lt</td>\n      <td>Castrol Magnatec C2 5W-30 1lt</td>\n      <td>NaN</td>\n    </tr>\n    <tr>\n      <th>141</th>\n      <td>Castrol</td>\n      <td>NaN</td>\n      <td>Castrol Tection 15W-40 20L</td>\n      <td>test</td>\n      <td>test Castrol Tection 15W-40 20L</td>\n      <td>Ιξώδες: 15W-40, Χωρητικότητα (lt): 20</td>\n      <td>68,00</td>\n      <td>81,6</td>\n      <td>2605</td>\n      <td>https://a.scdn.gr/images/sku_main_images/00680...</td>\n      <td>test Castrol Tection 15W-40 20L</td>\n      <td>Castrol Tection 15W-40 20L</td>\n      <td>NaN</td>\n    </tr>\n    <tr>\n      <th>142</th>\n      <td>Castrol</td>\n      <td>NaN</td>\n      <td>&lt;NULL&gt;</td>\n      <td>test</td>\n      <td>test Castrol GTX 10W-40 4L</td>\n      <td>Ιξώδες: 10W-40, Χωρητικότητα (lt): 4</td>\n      <td>34,00</td>\n      <td>40,8</td>\n      <td>2605</td>\n      <td>https://d.scdn.gr/images/sku_main_images/00613...</td>\n      <td>test Castrol GTX 10W-40 4L</td>\n      <td>Castrol GTX 10W-40 4L</td>\n      <td>NaN</td>\n    </tr>\n    <tr>\n      <th>143</th>\n      <td>Castrol</td>\n      <td>NaN</td>\n      <td>Castrol Magnatec 5W-30 A1 1L</td>\n      <td>test</td>\n      <td>test Castrol Magnatec 5W-30 A1 1L</td>\n      <td>Ιξώδες: 5W-30, Χωρητικότητα (lt): 1</td>\n      <td>9,50</td>\n      <td>11,4</td>\n      <td>2605</td>\n      <td>https://c.scdn.gr/images/sku_main_images/00613...</td>\n      <td>test Castrol Magnatec 5W-30 A1 1L</td>\n      <td>Castrol Magnatec 5W-30 A1 1L</td>\n      <td>NaN</td>\n    </tr>\n    <tr>\n      <th>144</th>\n      <td>Castrol</td>\n      <td>NaN</td>\n      <td>&lt;NULL&gt;</td>\n      <td>test</td>\n      <td>test Castrol Magnatec 5W-30 A3/B4 1L</td>\n      <td>Ιξώδες: 5W-30, Χωρητικότητα (lt): 1</td>\n      <td>9,40</td>\n      <td>11,28</td>\n      <td>2605</td>\n      <td>https://b.scdn.gr/images/sku_main_images/00613...</td>\n      <td>test Castrol Magnatec 5W-30 A3/B4 1L</td>\n      <td>Castrol Magnatec 5W-30 A3/B4 1L</td>\n      <td>NaN</td>\n    </tr>\n  </tbody>\n</table>\n<p>145 rows × 13 columns</p>\n</div>"
     },
     "metadata": {},
     "execution_count": 21
    }
   ],
   "source": [
    "k = df['title'].fillna(\"<NULL>\").apply(str).apply(\n",
    "        lambda x: \"<NULL>\" if x.isspace() else x.strip())\n",
    "df['title'] = k\n",
    "df"
   ]
  },
  {
   "cell_type": "code",
   "execution_count": null,
   "metadata": {},
   "outputs": [],
   "source": [
    "\n",
    "mask = df[col] == '<NULL>'\n",
    "a = df.loc[~mask].copy()\n",
    "b = df.loc[mask].copy()\n",
    "merged_df = pd.concat([a, b], ignore_index=True)\n",
    "merged_df[col] = merged_df[col].str.replace('<NULL>', '')\n",
    "merged_df.to_excel(dst, index=False, na_rep='')"
   ]
  }
 ]
}