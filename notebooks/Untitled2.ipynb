{
 "cells": [
  {
   "cell_type": "code",
   "execution_count": 1,
   "id": "assisted-consumption",
   "metadata": {},
   "outputs": [],
   "source": [
    "import pandas as pd\n",
    "import requests\n",
    "from bs4 import BeautifulSoup\n",
    "from pathlib import Path\n",
    "from time import sleep\n",
    "\n",
    "from selenium import webdriver\n",
    "from selenium.webdriver.support import expected_conditions as ec\n",
    "from selenium.webdriver.support.ui import WebDriverWait\n",
    "from selenium.webdriver.common.by import By\n",
    "\n",
    "# from atcrawl.core.parser import *"
   ]
  },
  {
   "cell_type": "code",
   "execution_count": 3,
   "id": "neural-extra",
   "metadata": {},
   "outputs": [],
   "source": [
    "site_map = {'filter_block': {'tag': 'h2',\n",
    "                             'class': 'scroll-area'},\n",
    "            'filter': {'tag': 'a',\n",
    "                       'class': 'icon closable-tag'},\n",
    "            'products_block': {'tag': 'ol',\n",
    "                               'class': 'list cf tile blp-enabled',\n",
    "                               'id': 'sku-list'},\n",
    "            'product_block': {'tag': 'li',\n",
    "                              'class': 'cf card'},\n",
    "            'product_img_area': {'tag': 'a',\n",
    "                                 'class': 'js-sku-link pic'},\n",
    "            'product_img': {'tag': 'img',\n",
    "                            'class': ''},\n",
    "            'product_name': {'tag': 'a',\n",
    "                             'class': 'js-sku-link '},\n",
    "            'product_price': {'tag': 'a',\n",
    "                              'class': 'js-sku-link sku-link'},\n",
    "            'bt_next': {'tag': 'i',\n",
    "                        'class': 'icon next-arrow'},\n",
    "            'bt_cookies': {'tag': 'button',\n",
    "                           'class': 'btn-outlined btn-transparent'}\n",
    "\n",
    "            }"
   ]
  },
  {
   "cell_type": "code",
   "execution_count": 2,
   "id": "architectural-customer",
   "metadata": {},
   "outputs": [],
   "source": [
    "chromedriver = Path.home().joinpath(\"chromedriver.exe\")\n",
    "browser = \"Chrome\"\n",
    "url_parser = 'lxml'\n",
    "\n",
    "url = \"https://www.skroutz.gr/c/1228/Ladia-Autokinhtou/m/8410/Castrol.html?fbclid=IwAR0x_d8EpxDRRLp4HLJ5oM1nsImFUnRDl05ZKD0nCWNdr_xE1pUSH-qTMnI\""
   ]
  },
  {
   "cell_type": "code",
   "execution_count": 3,
   "id": "cultural-glory",
   "metadata": {},
   "outputs": [],
   "source": [
    "driver = webdriver.Chrome(str(chromedriver))\n",
    "driver.get(url)"
   ]
  },
  {
   "cell_type": "code",
   "execution_count": 8,
   "id": "interested-greece",
   "metadata": {},
   "outputs": [],
   "source": [
    "from unicodedata import normalize"
   ]
  },
  {
   "cell_type": "code",
   "execution_count": 9,
   "id": "noble-limitation",
   "metadata": {},
   "outputs": [
    {
     "data": {
      "text/plain": [
       "'Castrol GTX Ultraclean A3/B4 10W-40 4lt\\n41\\n4,9\\n41\\nαπό15,79 €\\n3,95 €/λίτρο\\nσε 29 καταστήματα'"
      ]
     },
     "execution_count": 9,
     "metadata": {},
     "output_type": "execute_result"
    }
   ],
   "source": [
    "normalize('NFKD', driver.find_element(By.CLASS_NAME, 'card-content').text)"
   ]
  },
  {
   "cell_type": "code",
   "execution_count": 132,
   "id": "industrial-preview",
   "metadata": {},
   "outputs": [
    {
     "data": {
      "text/plain": [
       "4.935333333333333"
      ]
     },
     "execution_count": 132,
     "metadata": {},
     "output_type": "execute_result"
    }
   ],
   "source": [
    "driver.execute_script(\"return document.body.scrollHeight/1500\")"
   ]
  },
  {
   "cell_type": "code",
   "execution_count": 142,
   "id": "positive-letters",
   "metadata": {},
   "outputs": [],
   "source": [
    "import time\n",
    "def scroll_down(driver, scrollby=1500):\n",
    "    max_y = driver.execute_script(\"return document.body.scrollHeight\")\n",
    "    go_y = scrollby\n",
    "    while go_y < max_y:\n",
    "        driver.execute_script(f\"window.scrollTo(0, {go_y});\")\n",
    "        go_y += scrollby\n",
    "        time.sleep(0.1)"
   ]
  },
  {
   "cell_type": "code",
   "execution_count": 61,
   "id": "moving-bridge",
   "metadata": {},
   "outputs": [],
   "source": [
    "import re\n",
    "def num_from_text(text):\n",
    "    \"\"\"\n",
    "    Finds and returns a number from a string. If number is splitted with comma\n",
    "    instead of a dot the two elements will be returned\n",
    "\n",
    "    :param text: str\n",
    "        text with number\n",
    "    :return: list\n",
    "        list of numbers\n",
    "    \"\"\"\n",
    "    pattern = r'[-+]?[.]?[\\d]+(?:,\\d\\d\\d)*[\\.]?\\d*(?:[eE][-+]?\\d+)?'\n",
    "    return re.findall(pattern, text)\n",
    "\n",
    "\n",
    "def fmtnumber(number: list):\n",
    "    \"\"\"\n",
    "    Formats a list of number as a single number\n",
    "\n",
    "    :param number: list\n",
    "        list of numbers\n",
    "    :return: str\n",
    "        single number\n",
    "    \"\"\"\n",
    "    if len(number) > 1:\n",
    "        return '.'.join(number)\n",
    "    else:\n",
    "        return number[0]"
   ]
  },
  {
   "cell_type": "code",
   "execution_count": null,
   "id": "tired-maximum",
   "metadata": {},
   "outputs": [],
   "source": [
    "fmtnumber(num_from_text(i.find_element(By.XPATH, f'//*[@id=\"sku-list\"]/li[{idx}]/div/div[2]/div/a').text))"
   ]
  },
  {
   "cell_type": "code",
   "execution_count": 157,
   "id": "italian-affair",
   "metadata": {},
   "outputs": [],
   "source": [
    "pages = len(driver.find_elements(By.XPATH, '//*[@id=\"categories_show\"]/div[1]/main/section/div[2]/div/ol/li'))"
   ]
  },
  {
   "cell_type": "code",
   "execution_count": null,
   "id": "radical-permission",
   "metadata": {},
   "outputs": [],
   "source": []
  },
  {
   "cell_type": "code",
   "execution_count": 167,
   "id": "regulated-subcommittee",
   "metadata": {},
   "outputs": [],
   "source": [
    "driver.find_element(By.XPATH, f'//*[@id=\"categories_show\"]/div[1]/main/section/div[2]/div/ol/li[{pages}]/a').click()"
   ]
  },
  {
   "cell_type": "code",
   "execution_count": null,
   "id": "dated-operations",
   "metadata": {},
   "outputs": [],
   "source": []
  },
  {
   "cell_type": "code",
   "execution_count": 13,
   "id": "flush-track",
   "metadata": {},
   "outputs": [
    {
     "data": {
      "text/plain": [
       "'https://b.scdn.gr/images/sku_main_images/012495/12495176/large_20200917110453_castrol_gtx_ultraclean_a3_b4_10w_40_4lt.jpeg'"
      ]
     },
     "execution_count": 13,
     "metadata": {},
     "output_type": "execute_result"
    }
   ],
   "source": [
    "driver.find_element(By.XPATH, '//*[@id=\"sku-list\"]/li').find_element(By.TAG_NAME, 'img').get_attribute('src')"
   ]
  },
  {
   "cell_type": "code",
   "execution_count": 14,
   "id": "handy-schema",
   "metadata": {},
   "outputs": [
    {
     "data": {
      "text/plain": [
       "'Castrol GTX Ultraclean A3/B4 10W-40 4lt'"
      ]
     },
     "execution_count": 14,
     "metadata": {},
     "output_type": "execute_result"
    }
   ],
   "source": [
    "driver.find_element(By.XPATH, '//*[@id=\"sku-list\"]/li').find_element(By.TAG_NAME, 'h2').text"
   ]
  },
  {
   "cell_type": "code",
   "execution_count": 15,
   "id": "earlier-restaurant",
   "metadata": {},
   "outputs": [
    {
     "data": {
      "text/plain": [
       "''"
      ]
     },
     "execution_count": 15,
     "metadata": {},
     "output_type": "execute_result"
    }
   ],
   "source": [
    "driver.find_element(By.XPATH, '//*[@id=\"sku-list\"]/li').find_elements(By.TAG_NAME, 'p')[-1].text"
   ]
  },
  {
   "cell_type": "code",
   "execution_count": 16,
   "id": "popular-revision",
   "metadata": {},
   "outputs": [
    {
     "data": {
      "text/plain": [
       "'από15,79 €'"
      ]
     },
     "execution_count": 16,
     "metadata": {},
     "output_type": "execute_result"
    }
   ],
   "source": [
    "driver.find_element(By.XPATH, '//*[@id=\"sku-list\"]/li').find_elements(By.TAG_NAME, 'a')[-1].text"
   ]
  },
  {
   "cell_type": "code",
   "execution_count": 21,
   "id": "sustainable-singles",
   "metadata": {},
   "outputs": [
    {
     "ename": "NoSuchElementException",
     "evalue": "Message: no such element: Unable to locate element: {\"method\":\"css selector\",\"selector\":\"buttons\"}\n  (Session info: chrome=87.0.4280.141)\n",
     "output_type": "error",
     "traceback": [
      "\u001b[1;31m---------------------------------------------------------------------------\u001b[0m",
      "\u001b[1;31mNoSuchElementException\u001b[0m                    Traceback (most recent call last)",
      "\u001b[1;32m<ipython-input-21-16557180cc16>\u001b[0m in \u001b[0;36m<module>\u001b[1;34m\u001b[0m\n\u001b[1;32m----> 1\u001b[1;33m \u001b[0mdriver\u001b[0m\u001b[1;33m.\u001b[0m\u001b[0mfind_element\u001b[0m\u001b[1;33m(\u001b[0m\u001b[0mBy\u001b[0m\u001b[1;33m.\u001b[0m\u001b[0mXPATH\u001b[0m\u001b[1;33m,\u001b[0m \u001b[1;34m'//*[@id=\"sku-list\"]/li'\u001b[0m\u001b[1;33m)\u001b[0m\u001b[1;33m.\u001b[0m\u001b[0mfind_element\u001b[0m\u001b[1;33m(\u001b[0m\u001b[0mBy\u001b[0m\u001b[1;33m.\u001b[0m\u001b[0mTAG_NAME\u001b[0m\u001b[1;33m,\u001b[0m \u001b[1;34m'buttons'\u001b[0m\u001b[1;33m)\u001b[0m\u001b[1;33m\u001b[0m\u001b[1;33m\u001b[0m\u001b[0m\n\u001b[0m",
      "\u001b[1;32m~\\miniconda3\\envs\\dsc\\lib\\site-packages\\selenium\\webdriver\\remote\\webelement.py\u001b[0m in \u001b[0;36mfind_element\u001b[1;34m(self, by, value)\u001b[0m\n\u001b[0;32m    657\u001b[0m \u001b[1;33m\u001b[0m\u001b[0m\n\u001b[0;32m    658\u001b[0m         return self._execute(Command.FIND_CHILD_ELEMENT,\n\u001b[1;32m--> 659\u001b[1;33m                              {\"using\": by, \"value\": value})['value']\n\u001b[0m\u001b[0;32m    660\u001b[0m \u001b[1;33m\u001b[0m\u001b[0m\n\u001b[0;32m    661\u001b[0m     \u001b[1;32mdef\u001b[0m \u001b[0mfind_elements\u001b[0m\u001b[1;33m(\u001b[0m\u001b[0mself\u001b[0m\u001b[1;33m,\u001b[0m \u001b[0mby\u001b[0m\u001b[1;33m=\u001b[0m\u001b[0mBy\u001b[0m\u001b[1;33m.\u001b[0m\u001b[0mID\u001b[0m\u001b[1;33m,\u001b[0m \u001b[0mvalue\u001b[0m\u001b[1;33m=\u001b[0m\u001b[1;32mNone\u001b[0m\u001b[1;33m)\u001b[0m\u001b[1;33m:\u001b[0m\u001b[1;33m\u001b[0m\u001b[1;33m\u001b[0m\u001b[0m\n",
      "\u001b[1;32m~\\miniconda3\\envs\\dsc\\lib\\site-packages\\selenium\\webdriver\\remote\\webelement.py\u001b[0m in \u001b[0;36m_execute\u001b[1;34m(self, command, params)\u001b[0m\n\u001b[0;32m    631\u001b[0m             \u001b[0mparams\u001b[0m \u001b[1;33m=\u001b[0m \u001b[1;33m{\u001b[0m\u001b[1;33m}\u001b[0m\u001b[1;33m\u001b[0m\u001b[1;33m\u001b[0m\u001b[0m\n\u001b[0;32m    632\u001b[0m         \u001b[0mparams\u001b[0m\u001b[1;33m[\u001b[0m\u001b[1;34m'id'\u001b[0m\u001b[1;33m]\u001b[0m \u001b[1;33m=\u001b[0m \u001b[0mself\u001b[0m\u001b[1;33m.\u001b[0m\u001b[0m_id\u001b[0m\u001b[1;33m\u001b[0m\u001b[1;33m\u001b[0m\u001b[0m\n\u001b[1;32m--> 633\u001b[1;33m         \u001b[1;32mreturn\u001b[0m \u001b[0mself\u001b[0m\u001b[1;33m.\u001b[0m\u001b[0m_parent\u001b[0m\u001b[1;33m.\u001b[0m\u001b[0mexecute\u001b[0m\u001b[1;33m(\u001b[0m\u001b[0mcommand\u001b[0m\u001b[1;33m,\u001b[0m \u001b[0mparams\u001b[0m\u001b[1;33m)\u001b[0m\u001b[1;33m\u001b[0m\u001b[1;33m\u001b[0m\u001b[0m\n\u001b[0m\u001b[0;32m    634\u001b[0m \u001b[1;33m\u001b[0m\u001b[0m\n\u001b[0;32m    635\u001b[0m     \u001b[1;32mdef\u001b[0m \u001b[0mfind_element\u001b[0m\u001b[1;33m(\u001b[0m\u001b[0mself\u001b[0m\u001b[1;33m,\u001b[0m \u001b[0mby\u001b[0m\u001b[1;33m=\u001b[0m\u001b[0mBy\u001b[0m\u001b[1;33m.\u001b[0m\u001b[0mID\u001b[0m\u001b[1;33m,\u001b[0m \u001b[0mvalue\u001b[0m\u001b[1;33m=\u001b[0m\u001b[1;32mNone\u001b[0m\u001b[1;33m)\u001b[0m\u001b[1;33m:\u001b[0m\u001b[1;33m\u001b[0m\u001b[1;33m\u001b[0m\u001b[0m\n",
      "\u001b[1;32m~\\miniconda3\\envs\\dsc\\lib\\site-packages\\selenium\\webdriver\\remote\\webdriver.py\u001b[0m in \u001b[0;36mexecute\u001b[1;34m(self, driver_command, params)\u001b[0m\n\u001b[0;32m    319\u001b[0m         \u001b[0mresponse\u001b[0m \u001b[1;33m=\u001b[0m \u001b[0mself\u001b[0m\u001b[1;33m.\u001b[0m\u001b[0mcommand_executor\u001b[0m\u001b[1;33m.\u001b[0m\u001b[0mexecute\u001b[0m\u001b[1;33m(\u001b[0m\u001b[0mdriver_command\u001b[0m\u001b[1;33m,\u001b[0m \u001b[0mparams\u001b[0m\u001b[1;33m)\u001b[0m\u001b[1;33m\u001b[0m\u001b[1;33m\u001b[0m\u001b[0m\n\u001b[0;32m    320\u001b[0m         \u001b[1;32mif\u001b[0m \u001b[0mresponse\u001b[0m\u001b[1;33m:\u001b[0m\u001b[1;33m\u001b[0m\u001b[1;33m\u001b[0m\u001b[0m\n\u001b[1;32m--> 321\u001b[1;33m             \u001b[0mself\u001b[0m\u001b[1;33m.\u001b[0m\u001b[0merror_handler\u001b[0m\u001b[1;33m.\u001b[0m\u001b[0mcheck_response\u001b[0m\u001b[1;33m(\u001b[0m\u001b[0mresponse\u001b[0m\u001b[1;33m)\u001b[0m\u001b[1;33m\u001b[0m\u001b[1;33m\u001b[0m\u001b[0m\n\u001b[0m\u001b[0;32m    322\u001b[0m             response['value'] = self._unwrap_value(\n\u001b[0;32m    323\u001b[0m                 response.get('value', None))\n",
      "\u001b[1;32m~\\miniconda3\\envs\\dsc\\lib\\site-packages\\selenium\\webdriver\\remote\\errorhandler.py\u001b[0m in \u001b[0;36mcheck_response\u001b[1;34m(self, response)\u001b[0m\n\u001b[0;32m    240\u001b[0m                 \u001b[0malert_text\u001b[0m \u001b[1;33m=\u001b[0m \u001b[0mvalue\u001b[0m\u001b[1;33m[\u001b[0m\u001b[1;34m'alert'\u001b[0m\u001b[1;33m]\u001b[0m\u001b[1;33m.\u001b[0m\u001b[0mget\u001b[0m\u001b[1;33m(\u001b[0m\u001b[1;34m'text'\u001b[0m\u001b[1;33m)\u001b[0m\u001b[1;33m\u001b[0m\u001b[1;33m\u001b[0m\u001b[0m\n\u001b[0;32m    241\u001b[0m             \u001b[1;32mraise\u001b[0m \u001b[0mexception_class\u001b[0m\u001b[1;33m(\u001b[0m\u001b[0mmessage\u001b[0m\u001b[1;33m,\u001b[0m \u001b[0mscreen\u001b[0m\u001b[1;33m,\u001b[0m \u001b[0mstacktrace\u001b[0m\u001b[1;33m,\u001b[0m \u001b[0malert_text\u001b[0m\u001b[1;33m)\u001b[0m\u001b[1;33m\u001b[0m\u001b[1;33m\u001b[0m\u001b[0m\n\u001b[1;32m--> 242\u001b[1;33m         \u001b[1;32mraise\u001b[0m \u001b[0mexception_class\u001b[0m\u001b[1;33m(\u001b[0m\u001b[0mmessage\u001b[0m\u001b[1;33m,\u001b[0m \u001b[0mscreen\u001b[0m\u001b[1;33m,\u001b[0m \u001b[0mstacktrace\u001b[0m\u001b[1;33m)\u001b[0m\u001b[1;33m\u001b[0m\u001b[1;33m\u001b[0m\u001b[0m\n\u001b[0m\u001b[0;32m    243\u001b[0m \u001b[1;33m\u001b[0m\u001b[0m\n\u001b[0;32m    244\u001b[0m     \u001b[1;32mdef\u001b[0m \u001b[0m_value_or_default\u001b[0m\u001b[1;33m(\u001b[0m\u001b[0mself\u001b[0m\u001b[1;33m,\u001b[0m \u001b[0mobj\u001b[0m\u001b[1;33m,\u001b[0m \u001b[0mkey\u001b[0m\u001b[1;33m,\u001b[0m \u001b[0mdefault\u001b[0m\u001b[1;33m)\u001b[0m\u001b[1;33m:\u001b[0m\u001b[1;33m\u001b[0m\u001b[1;33m\u001b[0m\u001b[0m\n",
      "\u001b[1;31mNoSuchElementException\u001b[0m: Message: no such element: Unable to locate element: {\"method\":\"css selector\",\"selector\":\"buttons\"}\n  (Session info: chrome=87.0.4280.141)\n"
     ]
    }
   ],
   "source": [
    "driver.find_element(By.XPATH, '//*[@id=\"sku-list\"]/li').find_element(By.TAG_NAME, 'buttons')"
   ]
  },
  {
   "cell_type": "code",
   "execution_count": 18,
   "id": "phantom-asbestos",
   "metadata": {},
   "outputs": [
    {
     "ename": "IndexError",
     "evalue": "list index out of range",
     "output_type": "error",
     "traceback": [
      "\u001b[1;31m---------------------------------------------------------------------------\u001b[0m",
      "\u001b[1;31mIndexError\u001b[0m                                Traceback (most recent call last)",
      "\u001b[1;32m<ipython-input-18-7700e9767d41>\u001b[0m in \u001b[0;36m<module>\u001b[1;34m\u001b[0m\n\u001b[0;32m      1\u001b[0m \u001b[0ma\u001b[0m \u001b[1;33m=\u001b[0m \u001b[1;33m[\u001b[0m\u001b[1;33m]\u001b[0m\u001b[1;33m\u001b[0m\u001b[1;33m\u001b[0m\u001b[0m\n\u001b[1;32m----> 2\u001b[1;33m \u001b[0ma\u001b[0m\u001b[1;33m[\u001b[0m\u001b[1;33m-\u001b[0m\u001b[1;36m1\u001b[0m\u001b[1;33m]\u001b[0m\u001b[1;33m\u001b[0m\u001b[1;33m\u001b[0m\u001b[0m\n\u001b[0m",
      "\u001b[1;31mIndexError\u001b[0m: list index out of range"
     ]
    }
   ],
   "source": [
    "a = []\n",
    "a[-1]"
   ]
  },
  {
   "cell_type": "code",
   "execution_count": null,
   "id": "sexual-voluntary",
   "metadata": {},
   "outputs": [],
   "source": [
    "//*[@id=\"sku-list\"]/li[4]/div"
   ]
  },
  {
   "cell_type": "code",
   "execution_count": 137,
   "id": "central-interface",
   "metadata": {},
   "outputs": [],
   "source": [
    "driver.execute_script(f\"window.scrollTo(0, window.scrollY + 1500);\")"
   ]
  },
  {
   "cell_type": "code",
   "execution_count": null,
   "id": "closed-radio",
   "metadata": {},
   "outputs": [],
   "source": [
    "s = {'sku_list':{'tag': ''}}"
   ]
  },
  {
   "cell_type": "code",
   "execution_count": 168,
   "id": "recognized-password",
   "metadata": {},
   "outputs": [],
   "source": [
    "scroll_down(driver)"
   ]
  },
  {
   "cell_type": "code",
   "execution_count": 169,
   "id": "eastern-product",
   "metadata": {},
   "outputs": [
    {
     "name": "stdout",
     "output_type": "stream",
     "text": [
      "Castrol Edge Professional A5 5W-30 1lt\n",
      "11.80\n",
      "https://d.scdn.gr/images/sku_main_images/016305/16305965/large_20181030101632_castrol_edge_professional_a5_5w_30_1lt.jpeg\n",
      "Castrol Edge C3 0W-30 1lt\n",
      "11.09\n",
      "https://d.scdn.gr/images/sku_main_images/013788/13788944/large_20180115165859_castrol_edge_0w_30_1lt.jpeg\n",
      "Castrol Magnatec Diesel B4 10W-40 4lt\n",
      "26.00\n",
      "https://d.scdn.gr/images/sku_main_images/017876/17876508/large_20201026142603_castrol_magnatec_diesel_10w_40_b4_5lt.jpeg\n",
      "Castrol CRB Turbomax 20W-50 20lt\n",
      "74.90\n",
      "https://d.scdn.gr/images/sku_main_images/018244/18244172/large_20190418142108_castrol_crb_turbomax_20w_50_20lt.jpeg\n",
      "Castrol GTX Ultraclean A3/B4 10W-40 208lt\n",
      "742.76\n",
      "https://a.scdn.gr/images/sku_main_images/018244/18244226/large_20190418142144_castrol_gtx_ultraclean_a3_b4_10w_40_208lt.jpeg\n",
      "Castrol Edge Professional C4 5W-30 1lt\n",
      "14.90\n",
      "https://c.scdn.gr/images/sku_main_images/017846/17846921/large_20190322141542_castrol_edge_professional_c4_5w_30_1lt.jpeg\n",
      "Castrol Edge FST 10W-60 1L\n",
      "11.40\n",
      "https://d.scdn.gr/images/sku_main_images/006138/6138677/large_20160114103010_castrol_edge_fst_10w_60_1l.jpeg\n",
      "Castrol Magnatec Stop-Start E 5W-20 5lt\n",
      "51.50\n",
      "https://b.scdn.gr/images/sku_main_images/017072/17072713/large_20190116121927_castrol_magnatec_stop_start_e_5w_20_5lt.jpeg\n",
      "Castrol Vecton Long Drain 10W-40 20lt E6/E9\n",
      "89.90\n",
      "https://d.scdn.gr/images/sku_main_images/010945/10945312/large_20170201113225_castrol_vecton_long_drain_10w_40_20lt_e6_e9.jpeg\n",
      "Castrol Edge Titanium FST 5W-30 1lt\n",
      "8.88\n",
      "https://d.scdn.gr/images/sku_main_images/008390/8390353/large_20160219104629_castrol_edge_titanium_fst_5w_30_1lt.jpeg\n",
      "Castrol Magnatec Professional OE 5W-40 1lt\n",
      "7.93\n",
      "https://a.scdn.gr/images/sku_main_images/012299/12299681/large_20170627092751_castrol_magnatec_professional_oe_5w_40_1lt.jpeg\n",
      "Castrol Edge Titanium FST 10W-60 1lt\n",
      "12.00\n",
      "https://b.scdn.gr/images/sku_main_images/008172/8172352/large_20160114103422_castrol_edge_titanium_fst_10w_60_1lt.jpeg\n",
      "Castrol Edge Supercar Titanium FST 10W-60 5lt\n",
      "48.50\n",
      "https://a.scdn.gr/images/sku_main_images/016008/16008806/large_20181003135849_castrol_edge_supercar_titanium_fst_10w_60_5lt.jpeg\n",
      "Castrol Edge Titanium FST 0W-30 5lt\n",
      "45.00\n",
      "https://a.scdn.gr/images/sku_main_images/016191/16191893/large_20181019145432_castrol_edge_titanium_fst_0w_30_5lt.jpeg\n",
      "Castrol GTX 20W-50 1L\n",
      "4.89\n",
      "https://b.scdn.gr/images/sku_main_images/006138/6138533/large_20150209142728_Castrol_20GTX_2020W-50_201L.png\n",
      "Castrol Edge Professional A5 0W-30 1lt\n",
      "12.00\n",
      "https://a.scdn.gr/images/sku_main_images/016008/16008976/large_20181003141039_castrol_edge_professional_a5_0w_30_1lt.jpeg\n",
      "Castrol Edge Professional BMW LL04 5W-30 1lt\n",
      "10.00\n",
      "https://a.scdn.gr/images/sku_main_images/010887/10887925/large_20170124172526_castrol_edge_professional_bmw_ll04_5w_30_1lt.jpeg\n",
      "Castrol Magnatec Stop-Start A3 5W-30 1lt\n",
      "10.00\n",
      "https://d.scdn.gr/images/sku_main_images/016008/16008815/large_20181003140047_castrol_magnatec_stop_start_a3_5w_30_1lt.jpeg\n",
      "Castrol Edge Titanium FST A3/B4 0W-40 4lt\n",
      "38.45\n",
      "https://c.scdn.gr/images/sku_main_images/008172/8172383/large_20160114103727_castrol_edge_titanium_fst_a3_b4_0w_40_4lt.jpeg\n",
      "Castrol Magnatec Professional 10W-40 1lt\n",
      "7.65\n",
      "https://c.scdn.gr/images/sku_main_images/008179/8179464/large_20160115154356_castrol_magnatec_professional_10w_40_1lt.jpeg\n",
      "Castrol Edge 5W-30 1L\n",
      "8.78\n",
      "https://c.scdn.gr/images/sku_main_images/006138/6138572/large_20190125162500_castrol_edge_5w_30_1l.jpeg\n",
      "Castrol Edge Titanium FST 5W-30 4lt\n",
      "31.00\n",
      "https://d.scdn.gr/images/sku_main_images/008223/8223949/large_20160205140404_castrol_edge_titanium_fst_5w_30_4lt.jpeg\n",
      "Castrol Edge 5W-30 4L\n",
      "30.95\n",
      "https://d.scdn.gr/images/sku_main_images/006138/6138590/large_20150313122852_castrol_edge_5w_30_4l.jpeg\n",
      "Castrol GTX High Mileage A3/B3 15W-40 4lt\n",
      "21.87\n",
      "https://d.scdn.gr/images/sku_main_images/009134/9134128/large_20180614155411_castrol_gtx_high_mileage_a3_b3_15w_40_4lt.jpeg\n",
      "Castrol Edge Professional FST LL III 5W-30 4lt\n",
      "43.50\n",
      "https://d.scdn.gr/images/sku_main_images/009942/9942695/large_20191108101053_castrol_edge_professional_fst_ll_iii_5w_30_4lt.jpeg\n",
      "Castrol Ford Magnatec Professional E 5W-20 5L\n",
      "41.90\n",
      "https://c.scdn.gr/images/sku_main_images/007879/7879027/large_20151116115123_castrol_ford_magnatec_professional_e_5w_20_5l.jpeg\n",
      "Castrol Magnatec 10W-40 A3/B4 5L\n",
      "29.99\n",
      "https://a.scdn.gr/images/sku_main_images/007048/7048344/large_20150622093824_castrol_magnatec_10w_40_a3_b4_5l.jpeg\n",
      "Castrol Edge 0W-40 1L\n",
      "9.85\n",
      "https://c.scdn.gr/images/sku_main_images/006138/6138746/large_20150209145739_castrol-0w40.jpg\n",
      "Castrol Magnatec Diesel 10W-40 B4 1L\n",
      "6.70\n",
      "https://b.scdn.gr/images/sku_main_images/006676/6676720/large_20150505100948_castrol_magnatec_diesel_10w_40_b4_1l.jpeg\n",
      "Castrol Edge Titanium FST A3/B4 0W-40 1lt\n",
      "12.90\n",
      "https://c.scdn.gr/images/sku_main_images/009997/9997218/large_20160930105820_castrol_edge_titanium_fst_a3_b4_0w_40_1lt.jpeg\n",
      "Castrol Edge Titanium FST C3 5W-30 5lt\n",
      "57.19\n",
      "https://d.scdn.gr/images/sku_main_images/008749/8749451/large_20160406163942_castrol_edge_titanium_fst_c3_5w_30_5lt.jpeg\n",
      "Castrol Ford Magnatec Professional E 5W-20 1L\n",
      "8.40\n",
      "https://a.scdn.gr/images/sku_main_images/007654/7654866/large_20151014123016_castrol_ford_magnatec_professional_e_5w_20_1l.jpeg\n",
      "Castrol Edge Titanium FST 0W-40 1lt\n",
      "11.89\n",
      "https://a.scdn.gr/images/sku_main_images/007756/7756116/large_20190513104231_castrol_edge_titanium_fst_0w_40_1lt.jpeg\n",
      "Castrol Magnatec Diesel 5W-40 DPF 1L\n",
      "6.98\n",
      "https://a.scdn.gr/images/sku_main_images/006676/6676096/large_20200902165619_castrol_magnatec_diesel_5w_40_dpf_1l.jpeg\n",
      "Castrol Magnatec C2 5W-30 4lt\n",
      "26.10\n",
      "https://d.scdn.gr/images/sku_main_images/007545/7545380/large_20201006091931_castrol_magnatec_c2_5w_30_4lt.jpeg\n",
      "Castrol GTX 10W-40 1L\n",
      "4.78\n",
      "https://c.scdn.gr/images/sku_main_images/006138/6138524/large_20150213204933_castrol_gtx_10w_40_1l.jpeg\n",
      "Castrol GTX 15W-40 A3/B3 5L\n",
      "21.00\n",
      "https://a.scdn.gr/images/sku_main_images/007048/7048410/large_20150622094013_castrol_gtx_15w_40_a3_b3_5l.jpeg\n",
      "Castrol Vecton Long Drain 10W-40 E7/CF 20L\n",
      "94.00\n",
      "https://c.scdn.gr/images/sku_main_images/006772/6772002/large_20150518114817_castrol_vecton_long_drain_10w_40_e7_cf_20l.jpeg\n",
      "Castrol Magnatec 5W-30 A5 4L\n",
      "31.20\n",
      "https://a.scdn.gr/images/sku_main_images/006137/6137634/large_20150209134446_5d36796a-3bcb-4c06-b457-8ecd3ef3fe55.jpg\n",
      "Castrol Magnatec 5W-30 A5 1L\n",
      "9.00\n",
      "https://b.scdn.gr/images/sku_main_images/006137/6137630/large_20190806140712_castrol_magnatec_5w_30_a5_1l.jpeg\n",
      "Castrol Edge 0W-30 4L\n",
      "43.20\n",
      "https://b.scdn.gr/images/sku_main_images/006138/6138828/large_20150209145447__CE_9B_CE_B9_CF_80_CE_B1_CE_BD_CF_84_CE_B9_CE_BA_CE_AC_20_CE_91_CF_85_CF_84_CE_BF_CE_BA_CE_B9_CE_BD_CE_AE_CF_84_CE_BF__38dfc61969b9674541d8a084447a6a3d.jpg\n",
      "Castrol Edge 0W-30 1L\n",
      "12.95\n",
      "https://a.scdn.gr/images/sku_main_images/006138/6138819/large_20200914114057_castrol_edge_0w_30_1l.jpeg\n",
      "Castrol Magnatec C2 5W-30 1lt\n",
      "7.74\n",
      "https://d.scdn.gr/images/sku_main_images/007545/7545385/large_20160224102439_castrol_magnatec_c2_5w_30_1lt.jpeg\n",
      "Castrol Edge Longlife III 5W-30 4L\n",
      "56.72\n",
      "https://a.scdn.gr/images/sku_main_images/006806/6806612/large_20150520102519_castrol_edge_longlife_iii_5w_30_4l.jpeg\n",
      "Castrol Tection 15W-40 20L\n",
      "68.00\n",
      "https://a.scdn.gr/images/sku_main_images/006806/6806885/large_20150520103950_castrol_tection_15w_40_20l.jpeg\n",
      "Castrol GTX 10W-40 4L\n",
      "34.00\n",
      "https://d.scdn.gr/images/sku_main_images/006138/6138527/large_20150209142621_emisenthetiko-lathi-aetokinetoe-castrol-gtx-10w-40-5lt-a6423-600x600.jpg\n",
      "Castrol Magnatec 5W-30 A3/B4 4L\n",
      "38.30\n",
      "https://b.scdn.gr/images/sku_main_images/006137/6137881/large_20200907103405_castrol_magnatec_5w_30_a3_b4_4l.jpeg\n",
      "Castrol Magnatec 5W-30 A1 1L\n",
      "9.50\n",
      "https://c.scdn.gr/images/sku_main_images/006137/6137672/large_20150209134642_MAGNATEC_205W-30_20A1-1LTR.JPG\n"
     ]
    }
   ],
   "source": [
    "for idx, i in enumerate(driver.find_elements(By.XPATH, '//*[@id=\"sku-list\"]/li'), 1):\n",
    "    print(i.find_element(By.XPATH, f'//*[@id=\"sku-list\"]/li[{idx}]/div/h2/a').text)\n",
    "    print(fmtnumber(num_from_text(i.find_element(By.XPATH, f'//*[@id=\"sku-list\"]/li[{idx}]/div/div[2]/div/a').text)))\n",
    "    print(i.find_element(By.XPATH, f'//*[@id=\"sku-list\"]/li[{idx}]/a/img').get_attribute('src'))"
   ]
  },
  {
   "cell_type": "code",
   "execution_count": 69,
   "id": "lucky-flavor",
   "metadata": {},
   "outputs": [
    {
     "name": "stdout",
     "output_type": "stream",
     "text": [
      "Castrol Magnatec 5W-30 A3/B4 1L\n",
      "https://b.scdn.gr/images/sku_main_images/006137/6137901/large_20150209140248_Castrol_20Magnatec_205W-30_20A3-B4_201L.jpg\n"
     ]
    }
   ],
   "source": [
    "# driver.find_element(By.ID, 'sku-list').find_elements(By.TAG_NAME, 'li')\n",
    "\n",
    "for i in driver.find_element(By.ID, 'sku-list').find_elements(By.TAG_NAME, 'li'):\n",
    "    print(i.find_element(By.TAG_NAME, 'div').find_element(By.TAG_NAME, 'h2').text)\n",
    "    print(i.find_element(By.TAG_NAME, 'img').get_attribute('src'))"
   ]
  },
  {
   "cell_type": "code",
   "execution_count": 170,
   "id": "natural-candidate",
   "metadata": {},
   "outputs": [
    {
     "name": "stdout",
     "output_type": "stream",
     "text": [
      "Castrol\n"
     ]
    }
   ],
   "source": [
    "for idx, i in enumerate(driver.find_elements(By.XPATH, '//*[@id=\"categories_show\"]/div[1]/main/section/div[1]/h2'),1):\n",
    "    print(i.text)"
   ]
  },
  {
   "cell_type": "code",
   "execution_count": 172,
   "id": "religious-stability",
   "metadata": {},
   "outputs": [
    {
     "data": {
      "text/plain": [
       "['filter',\n",
       " 'filter',\n",
       " 'filter',\n",
       " 'filter',\n",
       " 'filter',\n",
       " 'filter',\n",
       " 'filter',\n",
       " 'filter',\n",
       " 'filter',\n",
       " 'filter',\n",
       " 'filter',\n",
       " 'filter',\n",
       " 'filter',\n",
       " 'filter',\n",
       " 'filter',\n",
       " 'filter',\n",
       " 'filter',\n",
       " 'filter',\n",
       " 'filter',\n",
       " 'filter',\n",
       " 'filter',\n",
       " 'filter',\n",
       " 'filter',\n",
       " 'filter',\n",
       " 'filter',\n",
       " 'filter',\n",
       " 'filter',\n",
       " 'filter',\n",
       " 'filter',\n",
       " 'filter',\n",
       " 'filter',\n",
       " 'filter',\n",
       " 'filter',\n",
       " 'filter',\n",
       " 'filter',\n",
       " 'filter',\n",
       " 'filter',\n",
       " 'filter',\n",
       " 'filter',\n",
       " 'filter',\n",
       " 'filter',\n",
       " 'filter',\n",
       " 'filter',\n",
       " 'filter',\n",
       " 'filter',\n",
       " 'filter',\n",
       " 'filter',\n",
       " 'filter',\n",
       " 'filter',\n",
       " 'filter',\n",
       " 'filter',\n",
       " 'filter',\n",
       " 'filter',\n",
       " 'filter',\n",
       " 'filter',\n",
       " 'filter',\n",
       " 'filter',\n",
       " 'filter',\n",
       " 'filter',\n",
       " 'filter',\n",
       " 'filter',\n",
       " 'filter',\n",
       " 'filter',\n",
       " 'filter',\n",
       " 'filter',\n",
       " 'filter',\n",
       " 'filter',\n",
       " 'filter',\n",
       " 'filter',\n",
       " 'filter',\n",
       " 'filter',\n",
       " 'filter',\n",
       " 'filter',\n",
       " 'filter',\n",
       " 'filter',\n",
       " 'filter',\n",
       " 'filter',\n",
       " 'filter',\n",
       " 'filter',\n",
       " 'filter',\n",
       " 'filter',\n",
       " 'filter',\n",
       " 'filter',\n",
       " 'filter',\n",
       " 'filter',\n",
       " 'filter',\n",
       " 'filter',\n",
       " 'filter',\n",
       " 'filter',\n",
       " 'filter',\n",
       " 'filter',\n",
       " 'filter',\n",
       " 'filter',\n",
       " 'filter',\n",
       " 'filter',\n",
       " 'filter',\n",
       " 'filter',\n",
       " 'filter',\n",
       " 'filter',\n",
       " 'filter']"
      ]
     },
     "execution_count": 172,
     "metadata": {},
     "output_type": "execute_result"
    }
   ],
   "source": [
    "['filter'] * 100"
   ]
  },
  {
   "cell_type": "code",
   "execution_count": 34,
   "id": "vertical-transmission",
   "metadata": {},
   "outputs": [
    {
     "data": {
      "text/plain": [
       "[]"
      ]
     },
     "execution_count": 34,
     "metadata": {},
     "output_type": "execute_result"
    }
   ],
   "source": [
    "soup = BeautifulSoup(driver.page_source)\n",
    "a = multi_parse(soup, site_map['product_name']['tag'], site_map['product_name']['class'])\n",
    "\n",
    "a"
   ]
  },
  {
   "cell_type": "code",
   "execution_count": 62,
   "id": "liable-venezuela",
   "metadata": {},
   "outputs": [
    {
     "ename": "NoSuchElementException",
     "evalue": "Message: no such element: Unable to locate element: {\"method\":\"css selector\",\"selector\":\".list cf tile blp-enabled\"}\n  (Session info: chrome=87.0.4280.141)\n",
     "output_type": "error",
     "traceback": [
      "\u001b[1;31m---------------------------------------------------------------------------\u001b[0m",
      "\u001b[1;31mNoSuchElementException\u001b[0m                    Traceback (most recent call last)",
      "\u001b[1;32m<ipython-input-62-101861d45d89>\u001b[0m in \u001b[0;36m<module>\u001b[1;34m\u001b[0m\n\u001b[1;32m----> 1\u001b[1;33m \u001b[0mdriver\u001b[0m\u001b[1;33m.\u001b[0m\u001b[0mfind_elements_by_tag_name\u001b[0m\u001b[1;33m(\u001b[0m\u001b[1;34m'ol'\u001b[0m\u001b[1;33m)\u001b[0m\u001b[1;33m[\u001b[0m\u001b[1;36m2\u001b[0m\u001b[1;33m]\u001b[0m\u001b[1;33m.\u001b[0m\u001b[0mfind_element_by_class_name\u001b[0m\u001b[1;33m(\u001b[0m\u001b[1;34m'list cf tile blp-enabled'\u001b[0m\u001b[1;33m)\u001b[0m\u001b[1;33m\u001b[0m\u001b[1;33m\u001b[0m\u001b[0m\n\u001b[0m",
      "\u001b[1;32m~\\miniconda3\\envs\\dsc\\lib\\site-packages\\selenium\\webdriver\\remote\\webelement.py\u001b[0m in \u001b[0;36mfind_element_by_class_name\u001b[1;34m(self, name)\u001b[0m\n\u001b[0;32m    396\u001b[0m             \u001b[0melement\u001b[0m \u001b[1;33m=\u001b[0m \u001b[0melement\u001b[0m\u001b[1;33m.\u001b[0m\u001b[0mfind_element_by_class_name\u001b[0m\u001b[1;33m(\u001b[0m\u001b[1;34m'foo'\u001b[0m\u001b[1;33m)\u001b[0m\u001b[1;33m\u001b[0m\u001b[1;33m\u001b[0m\u001b[0m\n\u001b[0;32m    397\u001b[0m         \"\"\"\n\u001b[1;32m--> 398\u001b[1;33m         \u001b[1;32mreturn\u001b[0m \u001b[0mself\u001b[0m\u001b[1;33m.\u001b[0m\u001b[0mfind_element\u001b[0m\u001b[1;33m(\u001b[0m\u001b[0mby\u001b[0m\u001b[1;33m=\u001b[0m\u001b[0mBy\u001b[0m\u001b[1;33m.\u001b[0m\u001b[0mCLASS_NAME\u001b[0m\u001b[1;33m,\u001b[0m \u001b[0mvalue\u001b[0m\u001b[1;33m=\u001b[0m\u001b[0mname\u001b[0m\u001b[1;33m)\u001b[0m\u001b[1;33m\u001b[0m\u001b[1;33m\u001b[0m\u001b[0m\n\u001b[0m\u001b[0;32m    399\u001b[0m \u001b[1;33m\u001b[0m\u001b[0m\n\u001b[0;32m    400\u001b[0m     \u001b[1;32mdef\u001b[0m \u001b[0mfind_elements_by_class_name\u001b[0m\u001b[1;33m(\u001b[0m\u001b[0mself\u001b[0m\u001b[1;33m,\u001b[0m \u001b[0mname\u001b[0m\u001b[1;33m)\u001b[0m\u001b[1;33m:\u001b[0m\u001b[1;33m\u001b[0m\u001b[1;33m\u001b[0m\u001b[0m\n",
      "\u001b[1;32m~\\miniconda3\\envs\\dsc\\lib\\site-packages\\selenium\\webdriver\\remote\\webelement.py\u001b[0m in \u001b[0;36mfind_element\u001b[1;34m(self, by, value)\u001b[0m\n\u001b[0;32m    657\u001b[0m \u001b[1;33m\u001b[0m\u001b[0m\n\u001b[0;32m    658\u001b[0m         return self._execute(Command.FIND_CHILD_ELEMENT,\n\u001b[1;32m--> 659\u001b[1;33m                              {\"using\": by, \"value\": value})['value']\n\u001b[0m\u001b[0;32m    660\u001b[0m \u001b[1;33m\u001b[0m\u001b[0m\n\u001b[0;32m    661\u001b[0m     \u001b[1;32mdef\u001b[0m \u001b[0mfind_elements\u001b[0m\u001b[1;33m(\u001b[0m\u001b[0mself\u001b[0m\u001b[1;33m,\u001b[0m \u001b[0mby\u001b[0m\u001b[1;33m=\u001b[0m\u001b[0mBy\u001b[0m\u001b[1;33m.\u001b[0m\u001b[0mID\u001b[0m\u001b[1;33m,\u001b[0m \u001b[0mvalue\u001b[0m\u001b[1;33m=\u001b[0m\u001b[1;32mNone\u001b[0m\u001b[1;33m)\u001b[0m\u001b[1;33m:\u001b[0m\u001b[1;33m\u001b[0m\u001b[1;33m\u001b[0m\u001b[0m\n",
      "\u001b[1;32m~\\miniconda3\\envs\\dsc\\lib\\site-packages\\selenium\\webdriver\\remote\\webelement.py\u001b[0m in \u001b[0;36m_execute\u001b[1;34m(self, command, params)\u001b[0m\n\u001b[0;32m    631\u001b[0m             \u001b[0mparams\u001b[0m \u001b[1;33m=\u001b[0m \u001b[1;33m{\u001b[0m\u001b[1;33m}\u001b[0m\u001b[1;33m\u001b[0m\u001b[1;33m\u001b[0m\u001b[0m\n\u001b[0;32m    632\u001b[0m         \u001b[0mparams\u001b[0m\u001b[1;33m[\u001b[0m\u001b[1;34m'id'\u001b[0m\u001b[1;33m]\u001b[0m \u001b[1;33m=\u001b[0m \u001b[0mself\u001b[0m\u001b[1;33m.\u001b[0m\u001b[0m_id\u001b[0m\u001b[1;33m\u001b[0m\u001b[1;33m\u001b[0m\u001b[0m\n\u001b[1;32m--> 633\u001b[1;33m         \u001b[1;32mreturn\u001b[0m \u001b[0mself\u001b[0m\u001b[1;33m.\u001b[0m\u001b[0m_parent\u001b[0m\u001b[1;33m.\u001b[0m\u001b[0mexecute\u001b[0m\u001b[1;33m(\u001b[0m\u001b[0mcommand\u001b[0m\u001b[1;33m,\u001b[0m \u001b[0mparams\u001b[0m\u001b[1;33m)\u001b[0m\u001b[1;33m\u001b[0m\u001b[1;33m\u001b[0m\u001b[0m\n\u001b[0m\u001b[0;32m    634\u001b[0m \u001b[1;33m\u001b[0m\u001b[0m\n\u001b[0;32m    635\u001b[0m     \u001b[1;32mdef\u001b[0m \u001b[0mfind_element\u001b[0m\u001b[1;33m(\u001b[0m\u001b[0mself\u001b[0m\u001b[1;33m,\u001b[0m \u001b[0mby\u001b[0m\u001b[1;33m=\u001b[0m\u001b[0mBy\u001b[0m\u001b[1;33m.\u001b[0m\u001b[0mID\u001b[0m\u001b[1;33m,\u001b[0m \u001b[0mvalue\u001b[0m\u001b[1;33m=\u001b[0m\u001b[1;32mNone\u001b[0m\u001b[1;33m)\u001b[0m\u001b[1;33m:\u001b[0m\u001b[1;33m\u001b[0m\u001b[1;33m\u001b[0m\u001b[0m\n",
      "\u001b[1;32m~\\miniconda3\\envs\\dsc\\lib\\site-packages\\selenium\\webdriver\\remote\\webdriver.py\u001b[0m in \u001b[0;36mexecute\u001b[1;34m(self, driver_command, params)\u001b[0m\n\u001b[0;32m    319\u001b[0m         \u001b[0mresponse\u001b[0m \u001b[1;33m=\u001b[0m \u001b[0mself\u001b[0m\u001b[1;33m.\u001b[0m\u001b[0mcommand_executor\u001b[0m\u001b[1;33m.\u001b[0m\u001b[0mexecute\u001b[0m\u001b[1;33m(\u001b[0m\u001b[0mdriver_command\u001b[0m\u001b[1;33m,\u001b[0m \u001b[0mparams\u001b[0m\u001b[1;33m)\u001b[0m\u001b[1;33m\u001b[0m\u001b[1;33m\u001b[0m\u001b[0m\n\u001b[0;32m    320\u001b[0m         \u001b[1;32mif\u001b[0m \u001b[0mresponse\u001b[0m\u001b[1;33m:\u001b[0m\u001b[1;33m\u001b[0m\u001b[1;33m\u001b[0m\u001b[0m\n\u001b[1;32m--> 321\u001b[1;33m             \u001b[0mself\u001b[0m\u001b[1;33m.\u001b[0m\u001b[0merror_handler\u001b[0m\u001b[1;33m.\u001b[0m\u001b[0mcheck_response\u001b[0m\u001b[1;33m(\u001b[0m\u001b[0mresponse\u001b[0m\u001b[1;33m)\u001b[0m\u001b[1;33m\u001b[0m\u001b[1;33m\u001b[0m\u001b[0m\n\u001b[0m\u001b[0;32m    322\u001b[0m             response['value'] = self._unwrap_value(\n\u001b[0;32m    323\u001b[0m                 response.get('value', None))\n",
      "\u001b[1;32m~\\miniconda3\\envs\\dsc\\lib\\site-packages\\selenium\\webdriver\\remote\\errorhandler.py\u001b[0m in \u001b[0;36mcheck_response\u001b[1;34m(self, response)\u001b[0m\n\u001b[0;32m    240\u001b[0m                 \u001b[0malert_text\u001b[0m \u001b[1;33m=\u001b[0m \u001b[0mvalue\u001b[0m\u001b[1;33m[\u001b[0m\u001b[1;34m'alert'\u001b[0m\u001b[1;33m]\u001b[0m\u001b[1;33m.\u001b[0m\u001b[0mget\u001b[0m\u001b[1;33m(\u001b[0m\u001b[1;34m'text'\u001b[0m\u001b[1;33m)\u001b[0m\u001b[1;33m\u001b[0m\u001b[1;33m\u001b[0m\u001b[0m\n\u001b[0;32m    241\u001b[0m             \u001b[1;32mraise\u001b[0m \u001b[0mexception_class\u001b[0m\u001b[1;33m(\u001b[0m\u001b[0mmessage\u001b[0m\u001b[1;33m,\u001b[0m \u001b[0mscreen\u001b[0m\u001b[1;33m,\u001b[0m \u001b[0mstacktrace\u001b[0m\u001b[1;33m,\u001b[0m \u001b[0malert_text\u001b[0m\u001b[1;33m)\u001b[0m\u001b[1;33m\u001b[0m\u001b[1;33m\u001b[0m\u001b[0m\n\u001b[1;32m--> 242\u001b[1;33m         \u001b[1;32mraise\u001b[0m \u001b[0mexception_class\u001b[0m\u001b[1;33m(\u001b[0m\u001b[0mmessage\u001b[0m\u001b[1;33m,\u001b[0m \u001b[0mscreen\u001b[0m\u001b[1;33m,\u001b[0m \u001b[0mstacktrace\u001b[0m\u001b[1;33m)\u001b[0m\u001b[1;33m\u001b[0m\u001b[1;33m\u001b[0m\u001b[0m\n\u001b[0m\u001b[0;32m    243\u001b[0m \u001b[1;33m\u001b[0m\u001b[0m\n\u001b[0;32m    244\u001b[0m     \u001b[1;32mdef\u001b[0m \u001b[0m_value_or_default\u001b[0m\u001b[1;33m(\u001b[0m\u001b[0mself\u001b[0m\u001b[1;33m,\u001b[0m \u001b[0mobj\u001b[0m\u001b[1;33m,\u001b[0m \u001b[0mkey\u001b[0m\u001b[1;33m,\u001b[0m \u001b[0mdefault\u001b[0m\u001b[1;33m)\u001b[0m\u001b[1;33m:\u001b[0m\u001b[1;33m\u001b[0m\u001b[1;33m\u001b[0m\u001b[0m\n",
      "\u001b[1;31mNoSuchElementException\u001b[0m: Message: no such element: Unable to locate element: {\"method\":\"css selector\",\"selector\":\".list cf tile blp-enabled\"}\n  (Session info: chrome=87.0.4280.141)\n"
     ]
    }
   ],
   "source": [
    "driver.find_elements_by_tag_name('ol')[2].find_element_by_class_name('list cf tile blp-enabled')"
   ]
  },
  {
   "cell_type": "code",
   "execution_count": 57,
   "id": "hungarian-gates",
   "metadata": {},
   "outputs": [
    {
     "ename": "NoSuchElementException",
     "evalue": "Message: no such element: Unable to locate element: {\"method\":\"css selector\",\"selector\":\".js-sku-link \"}\n  (Session info: chrome=87.0.4280.141)\n",
     "output_type": "error",
     "traceback": [
      "\u001b[1;31m---------------------------------------------------------------------------\u001b[0m",
      "\u001b[1;31mNoSuchElementException\u001b[0m                    Traceback (most recent call last)",
      "\u001b[1;32m<ipython-input-57-fa958b1b9f4e>\u001b[0m in \u001b[0;36m<module>\u001b[1;34m\u001b[0m\n\u001b[0;32m      1\u001b[0m \u001b[1;32mfor\u001b[0m \u001b[0mi\u001b[0m \u001b[1;32min\u001b[0m \u001b[0mdriver\u001b[0m\u001b[1;33m.\u001b[0m\u001b[0mfind_elements_by_tag_name\u001b[0m\u001b[1;33m(\u001b[0m\u001b[1;34m'li'\u001b[0m\u001b[1;33m)\u001b[0m\u001b[1;33m:\u001b[0m\u001b[1;33m\u001b[0m\u001b[1;33m\u001b[0m\u001b[0m\n\u001b[1;32m----> 2\u001b[1;33m     \u001b[0mprint\u001b[0m\u001b[1;33m(\u001b[0m\u001b[0mi\u001b[0m\u001b[1;33m.\u001b[0m\u001b[0mfind_element_by_class_name\u001b[0m\u001b[1;33m(\u001b[0m\u001b[1;34m'js-sku-link '\u001b[0m\u001b[1;33m)\u001b[0m\u001b[1;33m)\u001b[0m\u001b[1;33m\u001b[0m\u001b[1;33m\u001b[0m\u001b[0m\n\u001b[0m",
      "\u001b[1;32m~\\miniconda3\\envs\\dsc\\lib\\site-packages\\selenium\\webdriver\\remote\\webelement.py\u001b[0m in \u001b[0;36mfind_element_by_class_name\u001b[1;34m(self, name)\u001b[0m\n\u001b[0;32m    396\u001b[0m             \u001b[0melement\u001b[0m \u001b[1;33m=\u001b[0m \u001b[0melement\u001b[0m\u001b[1;33m.\u001b[0m\u001b[0mfind_element_by_class_name\u001b[0m\u001b[1;33m(\u001b[0m\u001b[1;34m'foo'\u001b[0m\u001b[1;33m)\u001b[0m\u001b[1;33m\u001b[0m\u001b[1;33m\u001b[0m\u001b[0m\n\u001b[0;32m    397\u001b[0m         \"\"\"\n\u001b[1;32m--> 398\u001b[1;33m         \u001b[1;32mreturn\u001b[0m \u001b[0mself\u001b[0m\u001b[1;33m.\u001b[0m\u001b[0mfind_element\u001b[0m\u001b[1;33m(\u001b[0m\u001b[0mby\u001b[0m\u001b[1;33m=\u001b[0m\u001b[0mBy\u001b[0m\u001b[1;33m.\u001b[0m\u001b[0mCLASS_NAME\u001b[0m\u001b[1;33m,\u001b[0m \u001b[0mvalue\u001b[0m\u001b[1;33m=\u001b[0m\u001b[0mname\u001b[0m\u001b[1;33m)\u001b[0m\u001b[1;33m\u001b[0m\u001b[1;33m\u001b[0m\u001b[0m\n\u001b[0m\u001b[0;32m    399\u001b[0m \u001b[1;33m\u001b[0m\u001b[0m\n\u001b[0;32m    400\u001b[0m     \u001b[1;32mdef\u001b[0m \u001b[0mfind_elements_by_class_name\u001b[0m\u001b[1;33m(\u001b[0m\u001b[0mself\u001b[0m\u001b[1;33m,\u001b[0m \u001b[0mname\u001b[0m\u001b[1;33m)\u001b[0m\u001b[1;33m:\u001b[0m\u001b[1;33m\u001b[0m\u001b[1;33m\u001b[0m\u001b[0m\n",
      "\u001b[1;32m~\\miniconda3\\envs\\dsc\\lib\\site-packages\\selenium\\webdriver\\remote\\webelement.py\u001b[0m in \u001b[0;36mfind_element\u001b[1;34m(self, by, value)\u001b[0m\n\u001b[0;32m    657\u001b[0m \u001b[1;33m\u001b[0m\u001b[0m\n\u001b[0;32m    658\u001b[0m         return self._execute(Command.FIND_CHILD_ELEMENT,\n\u001b[1;32m--> 659\u001b[1;33m                              {\"using\": by, \"value\": value})['value']\n\u001b[0m\u001b[0;32m    660\u001b[0m \u001b[1;33m\u001b[0m\u001b[0m\n\u001b[0;32m    661\u001b[0m     \u001b[1;32mdef\u001b[0m \u001b[0mfind_elements\u001b[0m\u001b[1;33m(\u001b[0m\u001b[0mself\u001b[0m\u001b[1;33m,\u001b[0m \u001b[0mby\u001b[0m\u001b[1;33m=\u001b[0m\u001b[0mBy\u001b[0m\u001b[1;33m.\u001b[0m\u001b[0mID\u001b[0m\u001b[1;33m,\u001b[0m \u001b[0mvalue\u001b[0m\u001b[1;33m=\u001b[0m\u001b[1;32mNone\u001b[0m\u001b[1;33m)\u001b[0m\u001b[1;33m:\u001b[0m\u001b[1;33m\u001b[0m\u001b[1;33m\u001b[0m\u001b[0m\n",
      "\u001b[1;32m~\\miniconda3\\envs\\dsc\\lib\\site-packages\\selenium\\webdriver\\remote\\webelement.py\u001b[0m in \u001b[0;36m_execute\u001b[1;34m(self, command, params)\u001b[0m\n\u001b[0;32m    631\u001b[0m             \u001b[0mparams\u001b[0m \u001b[1;33m=\u001b[0m \u001b[1;33m{\u001b[0m\u001b[1;33m}\u001b[0m\u001b[1;33m\u001b[0m\u001b[1;33m\u001b[0m\u001b[0m\n\u001b[0;32m    632\u001b[0m         \u001b[0mparams\u001b[0m\u001b[1;33m[\u001b[0m\u001b[1;34m'id'\u001b[0m\u001b[1;33m]\u001b[0m \u001b[1;33m=\u001b[0m \u001b[0mself\u001b[0m\u001b[1;33m.\u001b[0m\u001b[0m_id\u001b[0m\u001b[1;33m\u001b[0m\u001b[1;33m\u001b[0m\u001b[0m\n\u001b[1;32m--> 633\u001b[1;33m         \u001b[1;32mreturn\u001b[0m \u001b[0mself\u001b[0m\u001b[1;33m.\u001b[0m\u001b[0m_parent\u001b[0m\u001b[1;33m.\u001b[0m\u001b[0mexecute\u001b[0m\u001b[1;33m(\u001b[0m\u001b[0mcommand\u001b[0m\u001b[1;33m,\u001b[0m \u001b[0mparams\u001b[0m\u001b[1;33m)\u001b[0m\u001b[1;33m\u001b[0m\u001b[1;33m\u001b[0m\u001b[0m\n\u001b[0m\u001b[0;32m    634\u001b[0m \u001b[1;33m\u001b[0m\u001b[0m\n\u001b[0;32m    635\u001b[0m     \u001b[1;32mdef\u001b[0m \u001b[0mfind_element\u001b[0m\u001b[1;33m(\u001b[0m\u001b[0mself\u001b[0m\u001b[1;33m,\u001b[0m \u001b[0mby\u001b[0m\u001b[1;33m=\u001b[0m\u001b[0mBy\u001b[0m\u001b[1;33m.\u001b[0m\u001b[0mID\u001b[0m\u001b[1;33m,\u001b[0m \u001b[0mvalue\u001b[0m\u001b[1;33m=\u001b[0m\u001b[1;32mNone\u001b[0m\u001b[1;33m)\u001b[0m\u001b[1;33m:\u001b[0m\u001b[1;33m\u001b[0m\u001b[1;33m\u001b[0m\u001b[0m\n",
      "\u001b[1;32m~\\miniconda3\\envs\\dsc\\lib\\site-packages\\selenium\\webdriver\\remote\\webdriver.py\u001b[0m in \u001b[0;36mexecute\u001b[1;34m(self, driver_command, params)\u001b[0m\n\u001b[0;32m    319\u001b[0m         \u001b[0mresponse\u001b[0m \u001b[1;33m=\u001b[0m \u001b[0mself\u001b[0m\u001b[1;33m.\u001b[0m\u001b[0mcommand_executor\u001b[0m\u001b[1;33m.\u001b[0m\u001b[0mexecute\u001b[0m\u001b[1;33m(\u001b[0m\u001b[0mdriver_command\u001b[0m\u001b[1;33m,\u001b[0m \u001b[0mparams\u001b[0m\u001b[1;33m)\u001b[0m\u001b[1;33m\u001b[0m\u001b[1;33m\u001b[0m\u001b[0m\n\u001b[0;32m    320\u001b[0m         \u001b[1;32mif\u001b[0m \u001b[0mresponse\u001b[0m\u001b[1;33m:\u001b[0m\u001b[1;33m\u001b[0m\u001b[1;33m\u001b[0m\u001b[0m\n\u001b[1;32m--> 321\u001b[1;33m             \u001b[0mself\u001b[0m\u001b[1;33m.\u001b[0m\u001b[0merror_handler\u001b[0m\u001b[1;33m.\u001b[0m\u001b[0mcheck_response\u001b[0m\u001b[1;33m(\u001b[0m\u001b[0mresponse\u001b[0m\u001b[1;33m)\u001b[0m\u001b[1;33m\u001b[0m\u001b[1;33m\u001b[0m\u001b[0m\n\u001b[0m\u001b[0;32m    322\u001b[0m             response['value'] = self._unwrap_value(\n\u001b[0;32m    323\u001b[0m                 response.get('value', None))\n",
      "\u001b[1;32m~\\miniconda3\\envs\\dsc\\lib\\site-packages\\selenium\\webdriver\\remote\\errorhandler.py\u001b[0m in \u001b[0;36mcheck_response\u001b[1;34m(self, response)\u001b[0m\n\u001b[0;32m    240\u001b[0m                 \u001b[0malert_text\u001b[0m \u001b[1;33m=\u001b[0m \u001b[0mvalue\u001b[0m\u001b[1;33m[\u001b[0m\u001b[1;34m'alert'\u001b[0m\u001b[1;33m]\u001b[0m\u001b[1;33m.\u001b[0m\u001b[0mget\u001b[0m\u001b[1;33m(\u001b[0m\u001b[1;34m'text'\u001b[0m\u001b[1;33m)\u001b[0m\u001b[1;33m\u001b[0m\u001b[1;33m\u001b[0m\u001b[0m\n\u001b[0;32m    241\u001b[0m             \u001b[1;32mraise\u001b[0m \u001b[0mexception_class\u001b[0m\u001b[1;33m(\u001b[0m\u001b[0mmessage\u001b[0m\u001b[1;33m,\u001b[0m \u001b[0mscreen\u001b[0m\u001b[1;33m,\u001b[0m \u001b[0mstacktrace\u001b[0m\u001b[1;33m,\u001b[0m \u001b[0malert_text\u001b[0m\u001b[1;33m)\u001b[0m\u001b[1;33m\u001b[0m\u001b[1;33m\u001b[0m\u001b[0m\n\u001b[1;32m--> 242\u001b[1;33m         \u001b[1;32mraise\u001b[0m \u001b[0mexception_class\u001b[0m\u001b[1;33m(\u001b[0m\u001b[0mmessage\u001b[0m\u001b[1;33m,\u001b[0m \u001b[0mscreen\u001b[0m\u001b[1;33m,\u001b[0m \u001b[0mstacktrace\u001b[0m\u001b[1;33m)\u001b[0m\u001b[1;33m\u001b[0m\u001b[1;33m\u001b[0m\u001b[0m\n\u001b[0m\u001b[0;32m    243\u001b[0m \u001b[1;33m\u001b[0m\u001b[0m\n\u001b[0;32m    244\u001b[0m     \u001b[1;32mdef\u001b[0m \u001b[0m_value_or_default\u001b[0m\u001b[1;33m(\u001b[0m\u001b[0mself\u001b[0m\u001b[1;33m,\u001b[0m \u001b[0mobj\u001b[0m\u001b[1;33m,\u001b[0m \u001b[0mkey\u001b[0m\u001b[1;33m,\u001b[0m \u001b[0mdefault\u001b[0m\u001b[1;33m)\u001b[0m\u001b[1;33m:\u001b[0m\u001b[1;33m\u001b[0m\u001b[1;33m\u001b[0m\u001b[0m\n",
      "\u001b[1;31mNoSuchElementException\u001b[0m: Message: no such element: Unable to locate element: {\"method\":\"css selector\",\"selector\":\".js-sku-link \"}\n  (Session info: chrome=87.0.4280.141)\n"
     ]
    }
   ],
   "source": [
    "for i in driver.find_elements_by_tag_name('li'):\n",
    "    print(i.get_attribute())"
   ]
  },
  {
   "cell_type": "code",
   "execution_count": null,
   "id": "nuclear-baking",
   "metadata": {},
   "outputs": [],
   "source": []
  },
  {
   "cell_type": "code",
   "execution_count": 36,
   "id": "stainless-austin",
   "metadata": {},
   "outputs": [
    {
     "ename": "TimeoutException",
     "evalue": "Message: \n",
     "output_type": "error",
     "traceback": [
      "\u001b[1;31m---------------------------------------------------------------------------\u001b[0m",
      "\u001b[1;31mTimeoutException\u001b[0m                          Traceback (most recent call last)",
      "\u001b[1;32m<ipython-input-36-56d3743ef887>\u001b[0m in \u001b[0;36m<module>\u001b[1;34m\u001b[0m\n\u001b[0;32m      1\u001b[0m to_click = WebDriverWait(driver, 5).until(\n\u001b[0;32m      2\u001b[0m                 ec.element_to_be_clickable((By.CLASS_NAME,\n\u001b[1;32m----> 3\u001b[1;33m                                             site_map['bt_next']['class'])))\n\u001b[0m\u001b[0;32m      4\u001b[0m \u001b[1;33m\u001b[0m\u001b[0m\n\u001b[0;32m      5\u001b[0m \u001b[0mto_click\u001b[0m\u001b[1;33m.\u001b[0m\u001b[0mclick\u001b[0m\u001b[1;33m(\u001b[0m\u001b[1;33m)\u001b[0m\u001b[1;33m\u001b[0m\u001b[1;33m\u001b[0m\u001b[0m\n",
      "\u001b[1;32m~\\miniconda3\\envs\\dsc\\lib\\site-packages\\selenium\\webdriver\\support\\wait.py\u001b[0m in \u001b[0;36muntil\u001b[1;34m(self, method, message)\u001b[0m\n\u001b[0;32m     78\u001b[0m             \u001b[1;32mif\u001b[0m \u001b[0mtime\u001b[0m\u001b[1;33m.\u001b[0m\u001b[0mtime\u001b[0m\u001b[1;33m(\u001b[0m\u001b[1;33m)\u001b[0m \u001b[1;33m>\u001b[0m \u001b[0mend_time\u001b[0m\u001b[1;33m:\u001b[0m\u001b[1;33m\u001b[0m\u001b[1;33m\u001b[0m\u001b[0m\n\u001b[0;32m     79\u001b[0m                 \u001b[1;32mbreak\u001b[0m\u001b[1;33m\u001b[0m\u001b[1;33m\u001b[0m\u001b[0m\n\u001b[1;32m---> 80\u001b[1;33m         \u001b[1;32mraise\u001b[0m \u001b[0mTimeoutException\u001b[0m\u001b[1;33m(\u001b[0m\u001b[0mmessage\u001b[0m\u001b[1;33m,\u001b[0m \u001b[0mscreen\u001b[0m\u001b[1;33m,\u001b[0m \u001b[0mstacktrace\u001b[0m\u001b[1;33m)\u001b[0m\u001b[1;33m\u001b[0m\u001b[1;33m\u001b[0m\u001b[0m\n\u001b[0m\u001b[0;32m     81\u001b[0m \u001b[1;33m\u001b[0m\u001b[0m\n\u001b[0;32m     82\u001b[0m     \u001b[1;32mdef\u001b[0m \u001b[0muntil_not\u001b[0m\u001b[1;33m(\u001b[0m\u001b[0mself\u001b[0m\u001b[1;33m,\u001b[0m \u001b[0mmethod\u001b[0m\u001b[1;33m,\u001b[0m \u001b[0mmessage\u001b[0m\u001b[1;33m=\u001b[0m\u001b[1;34m''\u001b[0m\u001b[1;33m)\u001b[0m\u001b[1;33m:\u001b[0m\u001b[1;33m\u001b[0m\u001b[1;33m\u001b[0m\u001b[0m\n",
      "\u001b[1;31mTimeoutException\u001b[0m: Message: \n"
     ]
    }
   ],
   "source": [
    "to_click = WebDriverWait(driver, 5).until(\n",
    "                ec.element_to_be_clickable((By.CLASS_NAME,\n",
    "                                            site_map['bt_next']['class'])))\n",
    "\n",
    "to_click.click()"
   ]
  }
 ],
 "metadata": {
  "kernelspec": {
   "display_name": "Python 3",
   "language": "python",
   "name": "python3"
  },
  "language_info": {
   "codemirror_mode": {
    "name": "ipython",
    "version": 3
   },
   "file_extension": ".py",
   "mimetype": "text/x-python",
   "name": "python",
   "nbconvert_exporter": "python",
   "pygments_lexer": "ipython3",
   "version": "3.8.8"
  }
 },
 "nbformat": 4,
 "nbformat_minor": 5
}
