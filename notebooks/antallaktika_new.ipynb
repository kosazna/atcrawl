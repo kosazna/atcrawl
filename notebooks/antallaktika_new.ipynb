{
 "cells": [
  {
   "cell_type": "code",
   "execution_count": 25,
   "source": [
    "from atcrawl.core.parser import *\r\n",
    "from atcrawl.utilities.funcs import *"
   ],
   "outputs": [],
   "metadata": {}
  },
  {
   "cell_type": "code",
   "execution_count": 26,
   "source": [
    "html = open(\"../antallaktina.txt\", encoding='utf-8').read()"
   ],
   "outputs": [],
   "metadata": {}
  },
  {
   "cell_type": "code",
   "execution_count": 27,
   "source": [
    "soup = BeautifulSoup(html, 'lxml')"
   ],
   "outputs": [],
   "metadata": {}
  },
  {
   "cell_type": "code",
   "execution_count": 28,
   "source": [
    "prices = multi_parse(soup, 'div', 'price')\r\n",
    "print(list(map(fmtnumber, map(num_from_text, prices))))"
   ],
   "outputs": [
    {
     "output_type": "stream",
     "name": "stdout",
     "text": [
      "['16.68', '16.68', '16.99', '17.14', '17.22', '17.61', '17.69', '18.16', '18.55', '18.63', '18.70', '18.78', '18.78', '18.94', '19.09', '19.17', '19.56', '19.56', '19.87', '20.11']\n"
     ]
    }
   ],
   "metadata": {}
  },
  {
   "cell_type": "code",
   "execution_count": 29,
   "source": [
    "old_prices = multi_parse(soup, 'div', 'old_price promo')\r\n",
    "print(list(map(fmtnumber, map(num_from_text, old_prices))))"
   ],
   "outputs": [
    {
     "output_type": "stream",
     "name": "stdout",
     "text": [
      "['21.38', '21.38', '21.78', '21.98', '22.08', '22.58', '22.68', '23.28', '23.78', '23.88', '23.98', '24.08', '24.08', '24.28', '24.48', '24.58', '25.08', '25.08', '25.48', '25.78']\n"
     ]
    }
   ],
   "metadata": {}
  },
  {
   "cell_type": "code",
   "execution_count": 30,
   "source": [
    "sku = multi_parse(soup, 'div', 'nr')\r\n",
    "skus = []\r\n",
    "for i in sku:\r\n",
    "    _ = i.split(':')[1].strip()\r\n",
    "    skus.append(_)\r\n",
    "skus"
   ],
   "outputs": [
    {
     "output_type": "execute_result",
     "data": {
      "text/plain": [
       "['16488',\n",
       " 'JQ1013576',\n",
       " '20961 10 704 00',\n",
       " 'LP565',\n",
       " 'ADV184206',\n",
       " 'P 85 020',\n",
       " '0 986 494 596',\n",
       " '1163600910',\n",
       " '8110 10544',\n",
       " 'TX 12-10',\n",
       " '66981404901',\n",
       " 'V10-8168',\n",
       " '301674',\n",
       " 'BP-10066',\n",
       " '2263.05',\n",
       " 'JQ101838',\n",
       " 'GDB1330',\n",
       " 'FDB5026',\n",
       " '37414',\n",
       " 'BPPE-2002']"
      ]
     },
     "metadata": {},
     "execution_count": 30
    }
   ],
   "metadata": {}
  },
  {
   "cell_type": "code",
   "execution_count": 31,
   "source": [
    "images = multi_parse(soup, 'div', 'listing-parent-pkw', text=False)\r\n",
    "srcs = []\r\n",
    "for image in images:\r\n",
    "    srcs.append(image.find('img').get('src'))\r\n",
    "srcs"
   ],
   "outputs": [
    {
     "output_type": "execute_result",
     "data": {
      "text/plain": [
       "['https://media.pkwteile.de/360_photos/1875770/preview.jpg',\n",
       " 'https://cdn.pkwteile.de/thumb?id=7832880&m=1&n=0&e=19&lng=gr&ccf=94077812',\n",
       " 'https://cdn.pkwteile.de/thumb?id=7873158&m=1&n=0&e=19&lng=gr&ccf=94077812',\n",
       " 'https://media.pkwteile.de/360_photos/7723545/preview.jpg',\n",
       " 'https://cdn.pkwteile.de/thumb?id=7645328&m=1&n=0&e=19&lng=gr&ccf=94077812',\n",
       " 'https://media.pkwteile.de/360_photos/1661875/preview.jpg',\n",
       " 'https://media.pkwteile.de/360_photos/7885053/preview.jpg',\n",
       " 'https://cdn.pkwteile.de/thumb?id=8176330&m=1&n=0&e=19&lng=gr&ccf=94077812',\n",
       " 'https://cdn.pkwteile.de/thumb?id=7215430&m=1&n=0&e=19&lng=gr&ccf=94077812',\n",
       " 'https://media.pkwteile.de/360_photos/13760316/preview.jpg',\n",
       " 'https://cdn.pkwteile.de/thumb?id=13157915&m=1&n=0&e=19&lng=gr&ccf=94077812',\n",
       " 'https://cdn.pkwteile.de/thumb?id=2215853&m=1&n=0&e=19&lng=gr&ccf=94077812',\n",
       " 'https://cdn.pkwteile.de/thumb?id=7950132&m=1&n=0&e=19&lng=gr&ccf=94077812',\n",
       " 'https://cdn.pkwteile.de/thumb?id=13832084&m=1&n=0&e=19&lng=gr&ccf=94077812',\n",
       " 'https://media.pkwteile.de/360_photos/9293067/preview.jpg',\n",
       " 'https://cdn.pkwteile.de/thumb?id=7832951&m=1&n=0&e=19&lng=gr&ccf=94077812',\n",
       " 'https://media.pkwteile.de/360_photos/2191943/preview.jpg',\n",
       " 'https://media.pkwteile.de/360_photos/12811168/preview.jpg',\n",
       " 'https://media.pkwteile.de/360_photos/7714279/preview.jpg',\n",
       " 'https://cdn.pkwteile.de/thumb?id=10795536&m=1&n=0&e=19&lng=gr&ccf=94077812']"
      ]
     },
     "metadata": {},
     "execution_count": 31
    }
   ],
   "metadata": {}
  },
  {
   "cell_type": "code",
   "execution_count": 32,
   "source": [
    "aval = multi_parse(soup, 'span', 'text_vers')\r\n",
    "aval"
   ],
   "outputs": [
    {
     "output_type": "execute_result",
     "data": {
      "text/plain": [
       "['ΔΙΑΘΕΣΙΜΟ',\n",
       " 'ΔΙΑΘΕΣΙΜΟ',\n",
       " 'ΔΙΑΘΕΣΙΜΟ',\n",
       " 'ΔΙΑΘΕΣΙΜΟ',\n",
       " 'ΔΙΑΘΕΣΙΜΟ',\n",
       " 'ΔΙΑΘΕΣΙΜΟ',\n",
       " 'ΔΙΑΘΕΣΙΜΟ',\n",
       " 'ΔΙΑΘΕΣΙΜΟ',\n",
       " 'ΔΙΑΘΕΣΙΜΟ',\n",
       " 'ΔΙΑΘΕΣΙΜΟ',\n",
       " 'ΔΙΑΘΕΣΙΜΟ',\n",
       " 'ΔΙΑΘΕΣΙΜΟ',\n",
       " 'ΔΙΑΘΕΣΙΜΟ',\n",
       " 'ΔΙΑΘΕΣΙΜΟ',\n",
       " 'ΔΙΑΘΕΣΙΜΟ',\n",
       " 'ΔΙΑΘΕΣΙΜΟ',\n",
       " 'ΔΙΑΘΕΣΙΜΟ',\n",
       " 'ΔΙΑΘΕΣΙΜΟ',\n",
       " 'ΔΙΑΘΕΣΙΜΟ',\n",
       " 'ΔΙΑΘΕΣΙΜΟ']"
      ]
     },
     "metadata": {},
     "execution_count": 32
    }
   ],
   "metadata": {}
  }
 ],
 "metadata": {
  "orig_nbformat": 4,
  "language_info": {
   "name": "python",
   "version": "3.8.10",
   "mimetype": "text/x-python",
   "codemirror_mode": {
    "name": "ipython",
    "version": 3
   },
   "pygments_lexer": "ipython3",
   "nbconvert_exporter": "python",
   "file_extension": ".py"
  },
  "kernelspec": {
   "name": "python3",
   "display_name": "Python 3.8.10 64-bit ('dsc': conda)"
  },
  "interpreter": {
   "hash": "fcbab4adb5514146ae7268d1b7ad1c19704476f96e30a8a2e4db8ed6c9938b48"
  }
 },
 "nbformat": 4,
 "nbformat_minor": 2
}