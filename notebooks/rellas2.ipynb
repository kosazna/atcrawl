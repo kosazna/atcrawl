{
 "cells": [
  {
   "cell_type": "code",
   "execution_count": 1,
   "source": [
    "from atcrawl.crawlers.rellasamortiser2.crawler import *\r\n",
    "from operator import attrgetter"
   ],
   "outputs": [],
   "metadata": {}
  },
  {
   "cell_type": "code",
   "execution_count": 2,
   "source": [
    "url = \"https://www.rellasamortiser.gr/el/products/amortiser/skoda\""
   ],
   "outputs": [],
   "metadata": {}
  },
  {
   "cell_type": "code",
   "execution_count": 3,
   "source": [
    "r = RellasAmortiser()\r\n",
    "r.set_init(url)"
   ],
   "outputs": [],
   "metadata": {}
  },
  {
   "cell_type": "code",
   "execution_count": 4,
   "source": [
    "r.fast_collect()"
   ],
   "outputs": [],
   "metadata": {}
  },
  {
   "cell_type": "code",
   "execution_count": 5,
   "source": [
    "r.collection.nitems"
   ],
   "outputs": [
    {
     "output_type": "execute_result",
     "data": {
      "text/plain": [
       "242"
      ]
     },
     "metadata": {},
     "execution_count": 5
    }
   ],
   "metadata": {}
  },
  {
   "cell_type": "code",
   "execution_count": 6,
   "source": [
    "r.collection.drop_duplicates()"
   ],
   "outputs": [],
   "metadata": {}
  },
  {
   "cell_type": "code",
   "execution_count": 7,
   "source": [
    "r.collection.sort(('model','price'))"
   ],
   "outputs": [],
   "metadata": {}
  },
  {
   "cell_type": "code",
   "execution_count": 8,
   "source": [
    "r.collection.nitems"
   ],
   "outputs": [
    {
     "output_type": "execute_result",
     "data": {
      "text/plain": [
       "205"
      ]
     },
     "metadata": {},
     "execution_count": 8
    }
   ],
   "metadata": {}
  },
  {
   "cell_type": "code",
   "execution_count": 9,
   "source": [
    "r.collection.to_dataframe()"
   ],
   "outputs": [
    {
     "output_type": "execute_result",
     "data": {
      "text/html": [
       "<div>\n",
       "<style scoped>\n",
       "    .dataframe tbody tr th:only-of-type {\n",
       "        vertical-align: middle;\n",
       "    }\n",
       "\n",
       "    .dataframe tbody tr th {\n",
       "        vertical-align: top;\n",
       "    }\n",
       "\n",
       "    .dataframe thead th {\n",
       "        text-align: right;\n",
       "    }\n",
       "</style>\n",
       "<table border=\"1\" class=\"dataframe\">\n",
       "  <thead>\n",
       "    <tr style=\"text-align: right;\">\n",
       "      <th></th>\n",
       "      <th>name</th>\n",
       "      <th>sku</th>\n",
       "      <th>price</th>\n",
       "      <th>model</th>\n",
       "      <th>year</th>\n",
       "      <th>manufacturer</th>\n",
       "    </tr>\n",
       "  </thead>\n",
       "  <tbody>\n",
       "    <tr>\n",
       "      <th>0</th>\n",
       "      <td>Αμορτισέρ για Skoda Citigo Monroe Original (20...</td>\n",
       "      <td>G7112 G2165</td>\n",
       "      <td>150.0</td>\n",
       "      <td>Skoda Citigo</td>\n",
       "      <td>2011-2018</td>\n",
       "      <td>Monroe</td>\n",
       "    </tr>\n",
       "    <tr>\n",
       "      <th>1</th>\n",
       "      <td>Αμορτισέρ για Skoda Citigo Sachs (2011-2018)</td>\n",
       "      <td>315375 315946</td>\n",
       "      <td>175.0</td>\n",
       "      <td>Skoda Citigo</td>\n",
       "      <td>2011-2018</td>\n",
       "      <td>Sachs</td>\n",
       "    </tr>\n",
       "    <tr>\n",
       "      <th>2</th>\n",
       "      <td>Αμορτισέρ για Skoda Citigo Bilstein B4 Origina...</td>\n",
       "      <td>22-222046 19-222073</td>\n",
       "      <td>195.0</td>\n",
       "      <td>Skoda Citigo</td>\n",
       "      <td>2011-2018</td>\n",
       "      <td>Bilstein</td>\n",
       "    </tr>\n",
       "    <tr>\n",
       "      <th>3</th>\n",
       "      <td>Αμορτισέρ για Skoda Citigo Bilstein B6 Sport (...</td>\n",
       "      <td>22-222084 24-222099</td>\n",
       "      <td>400.0</td>\n",
       "      <td>Skoda Citigo</td>\n",
       "      <td>2011-2018</td>\n",
       "      <td>Bilstein</td>\n",
       "    </tr>\n",
       "    <tr>\n",
       "      <th>4</th>\n",
       "      <td>Αμορτισέρ για Skoda Citigo Bilstein B8 Sprint ...</td>\n",
       "      <td>22-222107 24-222112</td>\n",
       "      <td>420.0</td>\n",
       "      <td>Skoda Citigo</td>\n",
       "      <td>2011-2018</td>\n",
       "      <td>Bilstein</td>\n",
       "    </tr>\n",
       "    <tr>\n",
       "      <th>...</th>\n",
       "      <td>...</td>\n",
       "      <td>...</td>\n",
       "      <td>...</td>\n",
       "      <td>...</td>\n",
       "      <td>...</td>\n",
       "      <td>...</td>\n",
       "    </tr>\n",
       "    <tr>\n",
       "      <th>200</th>\n",
       "      <td>Αμορτισέρ για Skoda Superb Koni Sport (2002-2008)</td>\n",
       "      <td>82-2488Sport 8040-1227</td>\n",
       "      <td>604.0</td>\n",
       "      <td>Skoda Superb</td>\n",
       "      <td>2002-2008</td>\n",
       "      <td>Koni</td>\n",
       "    </tr>\n",
       "    <tr>\n",
       "      <th>201</th>\n",
       "      <td>Αμορτισέρ για Skoda Superb Bilstein B6 Sport (...</td>\n",
       "      <td>24-229890 35-229872</td>\n",
       "      <td>685.0</td>\n",
       "      <td>Skoda Superb</td>\n",
       "      <td>2015-2020</td>\n",
       "      <td>Bilstein</td>\n",
       "    </tr>\n",
       "    <tr>\n",
       "      <th>202</th>\n",
       "      <td>Αμορτισέρ για Skoda Superb Koni Sport (2008-2015)</td>\n",
       "      <td>8741-1488Sport 8040-1352Sport</td>\n",
       "      <td>688.0</td>\n",
       "      <td>Skoda Superb</td>\n",
       "      <td>2008-2015</td>\n",
       "      <td>Koni</td>\n",
       "    </tr>\n",
       "    <tr>\n",
       "      <th>203</th>\n",
       "      <td>Αμορτισέρ για Skoda Superb Bilstein B8 Sprint ...</td>\n",
       "      <td>24-229937 35-229919</td>\n",
       "      <td>700.0</td>\n",
       "      <td>Skoda Superb</td>\n",
       "      <td>2015-2020</td>\n",
       "      <td>Bilstein</td>\n",
       "    </tr>\n",
       "    <tr>\n",
       "      <th>204</th>\n",
       "      <td>Αμορτισέρ για Skoda Superb Koni Sport (2015-2020)</td>\n",
       "      <td>8741-1572Sport 8240-1311Sport</td>\n",
       "      <td>736.0</td>\n",
       "      <td>Skoda Superb</td>\n",
       "      <td>2015-2020</td>\n",
       "      <td>Koni</td>\n",
       "    </tr>\n",
       "  </tbody>\n",
       "</table>\n",
       "<p>205 rows × 6 columns</p>\n",
       "</div>"
      ],
      "text/plain": [
       "                                                  name  \\\n",
       "0    Αμορτισέρ για Skoda Citigo Monroe Original (20...   \n",
       "1         Αμορτισέρ για Skoda Citigo Sachs (2011-2018)   \n",
       "2    Αμορτισέρ για Skoda Citigo Bilstein B4 Origina...   \n",
       "3    Αμορτισέρ για Skoda Citigo Bilstein B6 Sport (...   \n",
       "4    Αμορτισέρ για Skoda Citigo Bilstein B8 Sprint ...   \n",
       "..                                                 ...   \n",
       "200  Αμορτισέρ για Skoda Superb Koni Sport (2002-2008)   \n",
       "201  Αμορτισέρ για Skoda Superb Bilstein B6 Sport (...   \n",
       "202  Αμορτισέρ για Skoda Superb Koni Sport (2008-2015)   \n",
       "203  Αμορτισέρ για Skoda Superb Bilstein B8 Sprint ...   \n",
       "204  Αμορτισέρ για Skoda Superb Koni Sport (2015-2020)   \n",
       "\n",
       "                               sku  price         model       year  \\\n",
       "0                      G7112 G2165  150.0  Skoda Citigo  2011-2018   \n",
       "1                    315375 315946  175.0  Skoda Citigo  2011-2018   \n",
       "2              22-222046 19-222073  195.0  Skoda Citigo  2011-2018   \n",
       "3              22-222084 24-222099  400.0  Skoda Citigo  2011-2018   \n",
       "4              22-222107 24-222112  420.0  Skoda Citigo  2011-2018   \n",
       "..                             ...    ...           ...        ...   \n",
       "200         82-2488Sport 8040-1227  604.0  Skoda Superb  2002-2008   \n",
       "201            24-229890 35-229872  685.0  Skoda Superb  2015-2020   \n",
       "202  8741-1488Sport 8040-1352Sport  688.0  Skoda Superb  2008-2015   \n",
       "203            24-229937 35-229919  700.0  Skoda Superb  2015-2020   \n",
       "204  8741-1572Sport 8240-1311Sport  736.0  Skoda Superb  2015-2020   \n",
       "\n",
       "    manufacturer  \n",
       "0         Monroe  \n",
       "1          Sachs  \n",
       "2       Bilstein  \n",
       "3       Bilstein  \n",
       "4       Bilstein  \n",
       "..           ...  \n",
       "200         Koni  \n",
       "201     Bilstein  \n",
       "202         Koni  \n",
       "203     Bilstein  \n",
       "204         Koni  \n",
       "\n",
       "[205 rows x 6 columns]"
      ]
     },
     "metadata": {},
     "execution_count": 9
    }
   ],
   "metadata": {}
  }
 ],
 "metadata": {
  "orig_nbformat": 4,
  "language_info": {
   "name": "python",
   "version": "3.8.10",
   "mimetype": "text/x-python",
   "codemirror_mode": {
    "name": "ipython",
    "version": 3
   },
   "pygments_lexer": "ipython3",
   "nbconvert_exporter": "python",
   "file_extension": ".py"
  },
  "kernelspec": {
   "name": "python3",
   "display_name": "Python 3.8.10 64-bit ('dsc': conda)"
  },
  "interpreter": {
   "hash": "fcbab4adb5514146ae7268d1b7ad1c19704476f96e30a8a2e4db8ed6c9938b48"
  }
 },
 "nbformat": 4,
 "nbformat_minor": 2
}