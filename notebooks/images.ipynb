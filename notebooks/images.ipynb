{
 "metadata": {
  "language_info": {
   "codemirror_mode": {
    "name": "ipython",
    "version": 3
   },
   "file_extension": ".py",
   "mimetype": "text/x-python",
   "name": "python",
   "nbconvert_exporter": "python",
   "pygments_lexer": "ipython3",
   "version": "3.8.8"
  },
  "orig_nbformat": 2,
  "kernelspec": {
   "name": "python388jvsc74a57bd0fcbab4adb5514146ae7268d1b7ad1c19704476f96e30a8a2e4db8ed6c9938b48",
   "display_name": "Python 3.8.8 64-bit ('dsc': conda)"
  }
 },
 "nbformat": 4,
 "nbformat_minor": 2,
 "cells": [
  {
   "cell_type": "code",
   "execution_count": 1,
   "metadata": {},
   "outputs": [],
   "source": [
    "import pandas as pd\n",
    "from pathlib import Path\n",
    "import shutil"
   ]
  },
  {
   "cell_type": "code",
   "execution_count": 15,
   "metadata": {},
   "outputs": [],
   "source": [
    "images = list(Path(\"C:\\\\Users\\\\aznavouridis.k\\\\Desktop\\\\amortiser\").glob('*.jpg'))\n"
   ]
  },
  {
   "cell_type": "code",
   "execution_count": 18,
   "metadata": {},
   "outputs": [
    {
     "output_type": "execute_result",
     "data": {
      "text/plain": [
       "{'Bilstein B14 PSS': WindowsPath('C:/Users/aznavouridis.k/Desktop/amortiser/Bilstein B14 PSS.jpg'),\n",
       " 'Bilstein B4 Original': WindowsPath('C:/Users/aznavouridis.k/Desktop/amortiser/Bilstein B4 Original.jpg'),\n",
       " 'Bilstein B6 Off Road': WindowsPath('C:/Users/aznavouridis.k/Desktop/amortiser/Bilstein B6 Off Road.jpg'),\n",
       " 'Bilstein B6 Sport': WindowsPath('C:/Users/aznavouridis.k/Desktop/amortiser/Bilstein B6 Sport.jpg'),\n",
       " 'Bilstein B8 Sprint': WindowsPath('C:/Users/aznavouridis.k/Desktop/amortiser/Bilstein B8 Sprint.jpg'),\n",
       " 'Kayaba AGX': WindowsPath('C:/Users/aznavouridis.k/Desktop/amortiser/Kayaba AGX.jpg'),\n",
       " 'Kayaba Excel G': WindowsPath('C:/Users/aznavouridis.k/Desktop/amortiser/Kayaba Excel G.jpg'),\n",
       " 'Kayaba Gas-a-Just': WindowsPath('C:/Users/aznavouridis.k/Desktop/amortiser/Kayaba Gas-a-Just.jpg'),\n",
       " 'Kayaba Ultra SR': WindowsPath('C:/Users/aznavouridis.k/Desktop/amortiser/Kayaba Ultra SR.jpg'),\n",
       " 'Koni Heavy Track': WindowsPath('C:/Users/aznavouridis.k/Desktop/amortiser/Koni Heavy Track.jpg'),\n",
       " 'Koni Sport': WindowsPath('C:/Users/aznavouridis.k/Desktop/amortiser/Koni Sport.jpg'),\n",
       " 'Koni Street T': WindowsPath('C:/Users/aznavouridis.k/Desktop/amortiser/Koni Street T.jpg'),\n",
       " 'Monroe Adventure': WindowsPath('C:/Users/aznavouridis.k/Desktop/amortiser/Monroe Adventure.jpg'),\n",
       " 'Monroe OESpectrum': WindowsPath('C:/Users/aznavouridis.k/Desktop/amortiser/Monroe OESpectrum.jpg'),\n",
       " 'Monroe Original': WindowsPath('C:/Users/aznavouridis.k/Desktop/amortiser/Monroe Original.jpg'),\n",
       " 'Monroe Reflex': WindowsPath('C:/Users/aznavouridis.k/Desktop/amortiser/Monroe Reflex.jpg'),\n",
       " 'Sachs': WindowsPath('C:/Users/aznavouridis.k/Desktop/amortiser/Sachs.jpg')}"
      ]
     },
     "metadata": {},
     "execution_count": 18
    }
   ],
   "source": [
    "mapper = {image.stem:image for image in list(images)}\n",
    "mapper"
   ]
  },
  {
   "cell_type": "code",
   "execution_count": 29,
   "metadata": {},
   "outputs": [],
   "source": [
    "df = pd.read_excel(\"C:\\\\Users\\\\aznavouridis.k\\\\Desktop\\\\Terpos\\\\Rellas_10.xlsx\")"
   ]
  },
  {
   "cell_type": "code",
   "execution_count": 42,
   "metadata": {},
   "outputs": [],
   "source": [
    "def create_images(data, src_images, dst_images):\n",
    "    df = pd.read_excel(data)\n",
    "    source = list(Path(src_images).glob('*.jpg'))\n",
    "    source_mapper = {image.stem:image for image in source}\n",
    "\n",
    "    destination = Path(dst_images)\n",
    "\n",
    "    for i in df.itertuples():\n",
    "        image_name = None\n",
    "\n",
    "        for key, value in source_mapper.items():\n",
    "            if key in i.title:\n",
    "                image_name = key\n",
    "            else:\n",
    "                pass\n",
    "        \n",
    "        if image_name is not None:\n",
    "            src = source_mapper[image_name]\n",
    "            data_image_name = f\"{i.article_no}.jpg\"\n",
    "            dst = destination.joinpath(data_image_name)\n",
    "            shutil.copyfile(src, dst)\n",
    "            df.loc[i.Index, 'image'] = data_image_name\n",
    "    \n",
    "    try:\n",
    "        df.to_excel(data, index=False)\n",
    "    except PermissionError:\n",
    "        print(\"Το αρχέιο είναι ανοιχτό στο Excel. Κλείσε και ξαναπροσπάθησε.\")"
   ]
  },
  {
   "cell_type": "code",
   "execution_count": 31,
   "metadata": {},
   "outputs": [],
   "source": [
    "for i in df.itertuples():\n",
    "    image_name = None\n",
    "    for key, value in mapper.items():\n",
    "        if key in i.title:\n",
    "            image_name = key\n",
    "        else:\n",
    "            pass\n",
    "    \n",
    "    if image_name is not None:\n",
    "        src = mapper[image_name]\n",
    "        dst = Path(\"C:\\\\Users\\\\aznavouridis.k\\\\Desktop\\\\Terpos\\\\rellas_images\").joinpath(f\"{i.article_no}.jpg\")\n",
    "        shutil.copyfile(src, dst)\n",
    "        df.loc[i.Index, 'image'] = i.article_no"
   ]
  },
  {
   "cell_type": "code",
   "execution_count": 43,
   "metadata": {},
   "outputs": [
    {
     "output_type": "stream",
     "name": "stdout",
     "text": [
      "Το αρχέιο είναι ανοιχτό στο Excel. Κλείσε και ξαναπροσπάθησε.\n"
     ]
    }
   ],
   "source": [
    "_data = \"C:\\\\Users\\\\aznavouridis.k\\\\Desktop\\\\Terpos\\\\Rellas_10.xlsx\"\n",
    "_src = \"C:\\\\Users\\\\aznavouridis.k\\\\Desktop\\\\amortiser\"\n",
    "_dst = \"C:\\\\Users\\\\aznavouridis.k\\\\Desktop\\\\Terpos\\\\rellas_images\"\n",
    "\n",
    "create_images(_data, _src, _dst)"
   ]
  }
 ]
}