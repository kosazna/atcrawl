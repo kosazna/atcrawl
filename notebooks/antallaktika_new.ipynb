{
 "cells": [
  {
   "cell_type": "code",
   "execution_count": 1,
   "source": [
    "from atcrawl.core.parser import *\r\n",
    "from atcrawl.utilities.funcs import *\r\n",
    "from atcrawl.crawlers.antallaktika2 import *\r\n",
    "from pathlib import Path\r\n",
    "from atcrawl.core.sql import *\r\n",
    "import datetime"
   ],
   "outputs": [],
   "metadata": {}
  },
  {
   "cell_type": "code",
   "execution_count": null,
   "source": [
    "s = AntallaktikaOnline(\"D:/.temp/htmls\")\r\n",
    "asql = AtcrawlSQL(\"C:/Users/aznavouridis.k/.atcrawl/atcrawl.db\")\r\n",
    "\r\n",
    "s.proccess()"
   ],
   "outputs": [],
   "metadata": {}
  },
  {
   "cell_type": "code",
   "execution_count": null,
   "source": [
    "p = {'brand': 'SKODA', 'car': '1', 'discount': '-20'}\r\n",
    "asql.backup('antallaktikaonline.gr', str(p), s.collection)"
   ],
   "outputs": [],
   "metadata": {}
  },
  {
   "cell_type": "code",
   "execution_count": null,
   "source": [
    "cols, data = asql.get_records_from_jobid('antallaktikaonline', 1)"
   ],
   "outputs": [],
   "metadata": {}
  },
  {
   "cell_type": "code",
   "execution_count": null,
   "source": [
    "pd.DataFrame(data, columns=cols)"
   ],
   "outputs": [],
   "metadata": {}
  },
  {
   "cell_type": "code",
   "execution_count": null,
   "source": [
    "date = datetime.datetime.now().strftime('%Y-%m-%d %H:%M:%S')\r\n",
    "site_counter = asql.get_site_counter('antallaktikaonline.gr') + 1\r\n",
    "asql.update_job('antallaktikaonline.gr', site_counter, date, '', s.collection.nitems)\r\n",
    "last_job = asql.get_last_jobid()\r\n",
    "asql.update_antallaktika(s.collection.get_data('tuple'))\r\n",
    "asql.update_jobid('antallaktikaonline', last_job)"
   ],
   "outputs": [],
   "metadata": {}
  },
  {
   "cell_type": "code",
   "execution_count": null,
   "source": [],
   "outputs": [],
   "metadata": {}
  },
  {
   "cell_type": "code",
   "execution_count": null,
   "source": [
    "asql.get_records_from_jobid('antallaktikaonline', 7)"
   ],
   "outputs": [],
   "metadata": {}
  },
  {
   "cell_type": "code",
   "execution_count": null,
   "source": [
    "last_job = asql.get_last_jobid()"
   ],
   "outputs": [],
   "metadata": {}
  },
  {
   "cell_type": "code",
   "execution_count": null,
   "source": [
    "asql.update_antallaktika(s.collection.get_data('tuple'))"
   ],
   "outputs": [],
   "metadata": {}
  },
  {
   "cell_type": "code",
   "execution_count": null,
   "source": [
    "asql.update_jobid('antallaktikaonline', last_job)"
   ],
   "outputs": [],
   "metadata": {}
  },
  {
   "cell_type": "code",
   "execution_count": null,
   "source": [
    "s.collection.get_data('tuple')"
   ],
   "outputs": [],
   "metadata": {}
  },
  {
   "cell_type": "code",
   "execution_count": null,
   "source": [
    "AntallaktikaOnlineItem.__annotations__"
   ],
   "outputs": [],
   "metadata": {}
  },
  {
   "cell_type": "code",
   "execution_count": null,
   "source": [
    "antallaktika_properties"
   ],
   "outputs": [],
   "metadata": {}
  },
  {
   "cell_type": "code",
   "execution_count": null,
   "source": [
    "a = s.collection.to_dataframe(columns=antallaktika_properties)"
   ],
   "outputs": [],
   "metadata": {}
  },
  {
   "cell_type": "code",
   "execution_count": null,
   "source": [
    "k = {'meta0': 'SKODA',\r\n",
    "     'meta1': '1',\r\n",
    "     'meta3': '-25'}\r\n",
    "\r\n",
    "c = s.transform(**k)\r\n",
    "c\r\n"
   ],
   "outputs": [],
   "metadata": {}
  },
  {
   "cell_type": "code",
   "execution_count": null,
   "source": [
    "c.dtypes"
   ],
   "outputs": [],
   "metadata": {}
  },
  {
   "cell_type": "code",
   "execution_count": null,
   "source": [
    "def make_description(d1, d2):\r\n",
    "    if d1 and d2:\r\n",
    "        _d = f\"{d1}|{d2}\"\r\n",
    "    else:\r\n",
    "        _d = d1 if d1 else d2\r\n",
    "    \r\n",
    "    return _d"
   ],
   "outputs": [],
   "metadata": {}
  },
  {
   "cell_type": "code",
   "execution_count": null,
   "source": [
    "b = ['a', 'b', 'c']\r\n",
    "b.insert(2, 'd')\r\n",
    "b"
   ],
   "outputs": [],
   "metadata": {}
  },
  {
   "cell_type": "code",
   "execution_count": null,
   "source": [
    "a.apply(lambda row: make_description(row['recycler'], row['kit']), axis=1)"
   ],
   "outputs": [],
   "metadata": {}
  },
  {
   "cell_type": "code",
   "execution_count": null,
   "source": [
    "len(list(base.glob('*.htm')))"
   ],
   "outputs": [],
   "metadata": {}
  },
  {
   "cell_type": "code",
   "execution_count": null,
   "source": [
    "soup = BeautifulSoup(htmls[0], 'lxml')"
   ],
   "outputs": [],
   "metadata": {}
  },
  {
   "cell_type": "code",
   "execution_count": null,
   "source": [
    "products = multi_parse(soup, 'div', 'brand-products', text=False)\r\n",
    "len(products)"
   ],
   "outputs": [],
   "metadata": {}
  },
  {
   "cell_type": "code",
   "execution_count": null,
   "source": [
    "prices = multi_parse(soup, 'div', 'price')\r\n",
    "print(list(map(fmtnumber, map(num_from_text, prices))))"
   ],
   "outputs": [],
   "metadata": {}
  },
  {
   "cell_type": "code",
   "execution_count": null,
   "source": [
    "old_prices = multi_parse(soup, 'div', 'old_price promo')\r\n",
    "print(list(map(fmtnumber, map(num_from_text, old_prices))))"
   ],
   "outputs": [],
   "metadata": {}
  },
  {
   "cell_type": "code",
   "execution_count": null,
   "source": [
    "sku = multi_parse(soup, 'div', 'nr')\r\n",
    "skus = []\r\n",
    "for i in sku:\r\n",
    "    _ = i.split(':')[1].strip()\r\n",
    "    skus.append(_)\r\n",
    "skus"
   ],
   "outputs": [],
   "metadata": {}
  },
  {
   "cell_type": "code",
   "execution_count": null,
   "source": [
    "images = multi_parse(soup, 'div', 'listing-parent-pkw', text=False)\r\n",
    "srcs = []\r\n",
    "for image in images:\r\n",
    "    srcs.append(image.find('img').get('src'))\r\n",
    "srcs"
   ],
   "outputs": [],
   "metadata": {}
  },
  {
   "cell_type": "code",
   "execution_count": null,
   "source": [
    "aval = multi_parse(soup, 'span', 'text_vers')\r\n",
    "aval"
   ],
   "outputs": [],
   "metadata": {}
  }
 ],
 "metadata": {
  "orig_nbformat": 4,
  "language_info": {
   "name": "python",
   "version": "3.8.10",
   "mimetype": "text/x-python",
   "codemirror_mode": {
    "name": "ipython",
    "version": 3
   },
   "pygments_lexer": "ipython3",
   "nbconvert_exporter": "python",
   "file_extension": ".py"
  },
  "kernelspec": {
   "name": "python3",
   "display_name": "Python 3.8.10 64-bit ('dsc': conda)"
  },
  "interpreter": {
   "hash": "fcbab4adb5514146ae7268d1b7ad1c19704476f96e30a8a2e4db8ed6c9938b48"
  }
 },
 "nbformat": 4,
 "nbformat_minor": 2
}