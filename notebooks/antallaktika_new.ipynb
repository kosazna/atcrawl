{
 "cells": [
  {
   "cell_type": "code",
   "execution_count": 1,
   "source": [
    "from atcrawl.core.parser import *\r\n",
    "from atcrawl.utilities.funcs import *\r\n",
    "from atcrawl.crawlers.antallaktika2 import *\r\n",
    "from pathlib import Path\r\n",
    "from atcrawl.core.sql import *\r\n",
    "import datetime"
   ],
   "outputs": [],
   "metadata": {}
  },
  {
   "cell_type": "code",
   "execution_count": 2,
   "source": [
    "base = Path(\"D:/.temp/htmls\")\r\n",
    "htmls = []\r\n",
    "for f in base.glob('*.htm'):\r\n",
    "    htmls.append(open(f, encoding='utf-8').read())"
   ],
   "outputs": [],
   "metadata": {}
  },
  {
   "cell_type": "code",
   "execution_count": 3,
   "source": [
    "s = AntallaktikaOnline(\"D:/.temp/htmls\")\r\n",
    "asql = AtcrawlSQL(\"C:/Users/aznavouridis.k/.atcrawl/atcrawl.db\")"
   ],
   "outputs": [],
   "metadata": {}
  },
  {
   "cell_type": "code",
   "execution_count": 4,
   "source": [
    "s.proccess()"
   ],
   "outputs": [],
   "metadata": {}
  },
  {
   "cell_type": "code",
   "execution_count": 5,
   "source": [
    "date = datetime.datetime.now().strftime('%Y-%m-%d %H:%M:%S')\r\n",
    "site_counter = asql.get_site_counter('antallaktikaonline.gr') + 1\r\n",
    "asql.update_job('antallaktikaonline.gr', site_counter, date, '', s.collection.nitems)\r\n",
    "last_job = asql.get_last_jobid()\r\n",
    "asql.update_antallaktika(s.collection.get_data('tuple'))\r\n",
    "asql.update_jobid('antallaktikaonline', last_job)"
   ],
   "outputs": [],
   "metadata": {}
  },
  {
   "cell_type": "code",
   "execution_count": 6,
   "source": [
    "asql.get_records_from_jobid('antallaktikaonline', 7)"
   ],
   "outputs": [
    {
     "output_type": "execute_result",
     "data": {
      "text/plain": [
       "[('402B0029',\n",
       "  14.77,\n",
       "  16.78,\n",
       "  'ΔΙΑΘΕΣΙΜΟ',\n",
       "  'https://media.pkwteile.de/360_photos/7998953/preview.jpg',\n",
       "  '',\n",
       "  ''),\n",
       " ('402B1389',\n",
       "  15.82,\n",
       "  17.98,\n",
       "  'ΔΙΑΘΕΣΙΜΟ',\n",
       "  'https://media.pkwteile.de/360_photos/15784796/preview.jpg',\n",
       "  '',\n",
       "  ''),\n",
       " ('402B0019',\n",
       "  17.67,\n",
       "  20.08,\n",
       "  'ΔΙΑΘΕΣΙΜΟ',\n",
       "  'https://media.pkwteile.de/360_photos/7998976/preview.jpg',\n",
       "  '',\n",
       "  ''),\n",
       " ('402B0009',\n",
       "  18.55,\n",
       "  21.08,\n",
       "  'ΔΙΑΘΕΣΙΜΟ',\n",
       "  'https://media.pkwteile.de/360_photos/7998967/preview.jpg',\n",
       "  '',\n",
       "  ''),\n",
       " ('402B1336',\n",
       "  36.24,\n",
       "  41.18,\n",
       "  'ΔΙΑΘΕΣΙΜΟ',\n",
       "  'https://media.pkwteile.de/360_photos/14739889/preview.jpg',\n",
       "  '',\n",
       "  ''),\n",
       " ('22-0100-1',\n",
       "  15.29,\n",
       "  17.38,\n",
       "  'ΔΙΑΘΕΣΙΜΟ',\n",
       "  'https://media.pkwteile.de/360_photos/9264576/preview.jpg',\n",
       "  '',\n",
       "  ''),\n",
       " ('C2W001ABE',\n",
       "  16.61,\n",
       "  18.88,\n",
       "  'ΔΙΑΘΕΣΙΜΟ',\n",
       "  'https://cdn.pkwteile.de/thumb?id=3327798&m=1&n=0&e=19&lng=gr&ccf=94077812',\n",
       "  '',\n",
       "  ''),\n",
       " ('JQ1011082',\n",
       "  16.61,\n",
       "  18.88,\n",
       "  'ΔΙΑΘΕΣΙΜΟ',\n",
       "  'https://media.pkwteile.de/360_photos/7832572/preview.jpg',\n",
       "  '',\n",
       "  ''),\n",
       " ('822-100-1',\n",
       "  16.7,\n",
       "  18.98,\n",
       "  'ΔΙΑΘΕΣΙΜΟ',\n",
       "  'https://media.pkwteile.de/360_photos/7810737/preview.jpg',\n",
       "  '',\n",
       "  ''),\n",
       " ('TX 10-781',\n",
       "  16.79,\n",
       "  19.08,\n",
       "  'ΔΙΑΘΕΣΙΜΟ',\n",
       "  'https://media.pkwteile.de/360_photos/13760163/preview.jpg',\n",
       "  '',\n",
       "  ''),\n",
       " ('13046071172N-SET-MS',\n",
       "  16.97,\n",
       "  19.28,\n",
       "  'ΔΙΑΘΕΣΙΜΟ',\n",
       "  'https://media.pkwteile.de/360_photos/8946641/preview.jpg',\n",
       "  '',\n",
       "  ''),\n",
       " ('229986',\n",
       "  17.41,\n",
       "  19.78,\n",
       "  'ΔΙΑΘΕΣΙΜΟ',\n",
       "  'https://cdn.pkwteile.de/thumb?id=1997797&m=1&n=0&e=19&lng=gr&ccf=94077812',\n",
       "  '',\n",
       "  '1 - Σετ βοηθ. εξαρτημάτων, τακάκια φρένων (79451827);1 - Σετ βοηθ. εξαρτημάτων, τακάκια φρένων (7947211);1 - Σετ βοηθ. εξαρτημάτων, τακάκια φρένων (7947685);1 - Σετ βοηθ. εξαρτημάτων, τακάκια φρένων (7999263);'),\n",
       " ('JQ1012166',\n",
       "  17.67,\n",
       "  20.08,\n",
       "  'ΔΙΑΘΕΣΙΜΟ',\n",
       "  'https://cdn.pkwteile.de/thumb?id=7832711&m=1&n=0&e=19&lng=gr&ccf=94077812',\n",
       "  '',\n",
       "  ''),\n",
       " ('13046071112N-SET-MS',\n",
       "  17.85,\n",
       "  20.28,\n",
       "  'ΔΙΑΘΕΣΙΜΟ',\n",
       "  'https://media.pkwteile.de/360_photos/8946631/preview.jpg',\n",
       "  '',\n",
       "  ''),\n",
       " ('1170001',\n",
       "  18.2,\n",
       "  20.68,\n",
       "  'ΔΙΑΘΕΣΙΜΟ',\n",
       "  'https://cdn.pkwteile.de/thumb?id=7989249&m=1&n=0&e=19&lng=gr&ccf=94077812',\n",
       "  '',\n",
       "  ''),\n",
       " ('07.35.105',\n",
       "  18.29,\n",
       "  20.78,\n",
       "  'ΔΙΑΘΕΣΙΜΟ',\n",
       "  'https://cdn.pkwteile.de/thumb?id=8685736&m=1&n=0&e=19&lng=gr&ccf=94077812',\n",
       "  '',\n",
       "  ''),\n",
       " ('025 209 6117',\n",
       "  18.37,\n",
       "  20.88,\n",
       "  'ΔΙΑΘΕΣΙΜΟ',\n",
       "  'https://media.pkwteile.de/360_photos/2113142/preview.jpg',\n",
       "  '',\n",
       "  ''),\n",
       " ('301463',\n",
       "  18.37,\n",
       "  20.88,\n",
       "  'ΔΙΑΘΕΣΙΜΟ',\n",
       "  'https://cdn.pkwteile.de/thumb?id=7949851&m=1&n=0&e=19&lng=gr&ccf=94077812',\n",
       "  '',\n",
       "  ''),\n",
       " ('0263.05',\n",
       "  18.64,\n",
       "  21.18,\n",
       "  'ΔΙΑΘΕΣΙΜΟ',\n",
       "  'https://media.pkwteile.de/360_photos/2149949/preview.jpg',\n",
       "  '',\n",
       "  ''),\n",
       " ('13046071842N-SET-MS',\n",
       "  18.73,\n",
       "  21.28,\n",
       "  'ΔΙΑΘΕΣΙΜΟ',\n",
       "  'https://media.pkwteile.de/360_photos/8946705/preview.jpg',\n",
       "  '',\n",
       "  ''),\n",
       " ('JQ1013576',\n",
       "  18.81,\n",
       "  21.38,\n",
       "  'ΔΙΑΘΕΣΙΜΟ',\n",
       "  'https://cdn.pkwteile.de/thumb?id=7832880&m=1&n=0&e=19&lng=gr&ccf=94077812',\n",
       "  '',\n",
       "  ''),\n",
       " ('16488',\n",
       "  18.81,\n",
       "  21.38,\n",
       "  'ΔΙΑΘΕΣΙΜΟ',\n",
       "  'https://media.pkwteile.de/360_photos/1875770/preview.jpg',\n",
       "  '',\n",
       "  ''),\n",
       " ('20961 10 704 00',\n",
       "  19.17,\n",
       "  21.78,\n",
       "  'ΔΙΑΘΕΣΙΜΟ',\n",
       "  'https://cdn.pkwteile.de/thumb?id=7873158&m=1&n=0&e=19&lng=gr&ccf=94077812',\n",
       "  '',\n",
       "  ''),\n",
       " ('B110860',\n",
       "  19.43,\n",
       "  22.08,\n",
       "  'ΔΙΑΘΕΣΙΜΟ',\n",
       "  'https://cdn.pkwteile.de/thumb?id=10702850&m=1&n=0&e=19&lng=gr&ccf=94077812',\n",
       "  '',\n",
       "  ''),\n",
       " ('ADV184206',\n",
       "  19.43,\n",
       "  22.08,\n",
       "  'ΔΙΑΘΕΣΙΜΟ',\n",
       "  'https://cdn.pkwteile.de/thumb?id=7645328&m=1&n=0&e=19&lng=gr&ccf=94077812',\n",
       "  '',\n",
       "  ''),\n",
       " ('P 85 020',\n",
       "  19.87,\n",
       "  22.58,\n",
       "  'ΔΙΑΘΕΣΙΜΟ',\n",
       "  'https://media.pkwteile.de/360_photos/1661875/preview.jpg',\n",
       "  '',\n",
       "  ''),\n",
       " ('0 986 494 596',\n",
       "  19.96,\n",
       "  22.68,\n",
       "  'ΔΙΑΘΕΣΙΜΟ',\n",
       "  'https://media.pkwteile.de/360_photos/7885053/preview.jpg',\n",
       "  '',\n",
       "  ''),\n",
       " ('1163600910',\n",
       "  20.49,\n",
       "  23.28,\n",
       "  'ΔΙΑΘΕΣΙΜΟ',\n",
       "  'https://cdn.pkwteile.de/thumb?id=8176330&m=1&n=0&e=19&lng=gr&ccf=94077812',\n",
       "  '',\n",
       "  ''),\n",
       " ('LP565',\n",
       "  20.57,\n",
       "  23.38,\n",
       "  'ΔΙΑΘΕΣΙΜΟ',\n",
       "  'https://media.pkwteile.de/360_photos/7723545/preview.jpg',\n",
       "  '',\n",
       "  ''),\n",
       " ('2355402',\n",
       "  20.75,\n",
       "  23.58,\n",
       "  'ΔΙΑΘΕΣΙΜΟ',\n",
       "  'https://media.pkwteile.de/360_photos/1311471/preview.jpg',\n",
       "  '',\n",
       "  ''),\n",
       " ('TX 12-10',\n",
       "  20.93,\n",
       "  23.78,\n",
       "  'ΔΙΑΘΕΣΙΜΟ',\n",
       "  'https://media.pkwteile.de/360_photos/13760316/preview.jpg',\n",
       "  '',\n",
       "  ''),\n",
       " ('8110 10544',\n",
       "  20.93,\n",
       "  23.78,\n",
       "  'ΔΙΑΘΕΣΙΜΟ',\n",
       "  'https://cdn.pkwteile.de/thumb?id=7215430&m=1&n=0&e=19&lng=gr&ccf=94077812',\n",
       "  '',\n",
       "  ''),\n",
       " ('66981404901',\n",
       "  21.01,\n",
       "  23.88,\n",
       "  'ΔΙΑΘΕΣΙΜΟ',\n",
       "  'https://cdn.pkwteile.de/thumb?id=13157915&m=1&n=0&e=19&lng=gr&ccf=94077812',\n",
       "  '',\n",
       "  ''),\n",
       " ('301674',\n",
       "  21.19,\n",
       "  24.08,\n",
       "  'ΔΙΑΘΕΣΙΜΟ',\n",
       "  'https://cdn.pkwteile.de/thumb?id=7950132&m=1&n=0&e=19&lng=gr&ccf=94077812',\n",
       "  '',\n",
       "  ''),\n",
       " ('V10-8168',\n",
       "  21.19,\n",
       "  24.08,\n",
       "  'ΔΙΑΘΕΣΙΜΟ',\n",
       "  'https://cdn.pkwteile.de/thumb?id=2215853&m=1&n=0&e=19&lng=gr&ccf=94077812',\n",
       "  '',\n",
       "  ''),\n",
       " ('BP-10066',\n",
       "  21.37,\n",
       "  24.28,\n",
       "  'ΔΙΑΘΕΣΙΜΟ',\n",
       "  'https://cdn.pkwteile.de/thumb?id=13832084&m=1&n=0&e=19&lng=gr&ccf=94077812',\n",
       "  '',\n",
       "  ''),\n",
       " ('2263.05',\n",
       "  21.54,\n",
       "  24.48,\n",
       "  'ΔΙΑΘΕΣΙΜΟ',\n",
       "  'https://media.pkwteile.de/360_photos/9293067/preview.jpg',\n",
       "  '',\n",
       "  ''),\n",
       " ('JQ101838',\n",
       "  21.63,\n",
       "  24.58,\n",
       "  'ΔΙΑΘΕΣΙΜΟ',\n",
       "  'https://cdn.pkwteile.de/thumb?id=7832951&m=1&n=0&e=19&lng=gr&ccf=94077812',\n",
       "  '',\n",
       "  ''),\n",
       " ('FDB5026',\n",
       "  22.07,\n",
       "  25.08,\n",
       "  'ΔΙΑΘΕΣΙΜΟ',\n",
       "  'https://media.pkwteile.de/360_photos/12811168/preview.jpg',\n",
       "  '',\n",
       "  ''),\n",
       " ('GDB1330',\n",
       "  22.07,\n",
       "  25.08,\n",
       "  'ΔΙΑΘΕΣΙΜΟ',\n",
       "  'https://media.pkwteile.de/360_photos/2191943/preview.jpg',\n",
       "  '',\n",
       "  '')]"
      ]
     },
     "metadata": {},
     "execution_count": 6
    }
   ],
   "metadata": {}
  },
  {
   "cell_type": "code",
   "execution_count": 9,
   "source": [
    "last_job = asql.get_last_jobid()"
   ],
   "outputs": [],
   "metadata": {}
  },
  {
   "cell_type": "code",
   "execution_count": 11,
   "source": [
    "asql.update_antallaktika(s.collection.get_data('tuple'))"
   ],
   "outputs": [],
   "metadata": {}
  },
  {
   "cell_type": "code",
   "execution_count": 12,
   "source": [
    "asql.update_jobid('antallaktikaonline', last_job)"
   ],
   "outputs": [],
   "metadata": {}
  },
  {
   "cell_type": "code",
   "execution_count": null,
   "source": [
    "s.collection.get_data('tuple')"
   ],
   "outputs": [],
   "metadata": {}
  },
  {
   "cell_type": "code",
   "execution_count": null,
   "source": [
    "AntallaktikaOnlineItem.__annotations__"
   ],
   "outputs": [],
   "metadata": {}
  },
  {
   "cell_type": "code",
   "execution_count": null,
   "source": [
    "antallaktika_properties"
   ],
   "outputs": [],
   "metadata": {}
  },
  {
   "cell_type": "code",
   "execution_count": null,
   "source": [
    "a = s.collection.to_dataframe(columns=antallaktika_properties)"
   ],
   "outputs": [],
   "metadata": {}
  },
  {
   "cell_type": "code",
   "execution_count": null,
   "source": [
    "k = {'meta0': 'SKODA',\r\n",
    "     'meta1': '1',\r\n",
    "     'meta3': '-25'}\r\n",
    "\r\n",
    "c = s.transform(**k)\r\n",
    "c\r\n"
   ],
   "outputs": [],
   "metadata": {}
  },
  {
   "cell_type": "code",
   "execution_count": null,
   "source": [
    "c.dtypes"
   ],
   "outputs": [],
   "metadata": {}
  },
  {
   "cell_type": "code",
   "execution_count": null,
   "source": [
    "def make_description(d1, d2):\r\n",
    "    if d1 and d2:\r\n",
    "        _d = f\"{d1}|{d2}\"\r\n",
    "    else:\r\n",
    "        _d = d1 if d1 else d2\r\n",
    "    \r\n",
    "    return _d"
   ],
   "outputs": [],
   "metadata": {}
  },
  {
   "cell_type": "code",
   "execution_count": null,
   "source": [
    "b = ['a', 'b', 'c']\r\n",
    "b.insert(2, 'd')\r\n",
    "b"
   ],
   "outputs": [],
   "metadata": {}
  },
  {
   "cell_type": "code",
   "execution_count": null,
   "source": [
    "a.apply(lambda row: make_description(row['recycler'], row['kit']), axis=1)"
   ],
   "outputs": [],
   "metadata": {}
  },
  {
   "cell_type": "code",
   "execution_count": null,
   "source": [
    "len(list(base.glob('*.htm')))"
   ],
   "outputs": [],
   "metadata": {}
  },
  {
   "cell_type": "code",
   "execution_count": null,
   "source": [
    "soup = BeautifulSoup(htmls[0], 'lxml')"
   ],
   "outputs": [],
   "metadata": {}
  },
  {
   "cell_type": "code",
   "execution_count": null,
   "source": [
    "products = multi_parse(soup, 'div', 'brand-products', text=False)\r\n",
    "len(products)"
   ],
   "outputs": [],
   "metadata": {}
  },
  {
   "cell_type": "code",
   "execution_count": null,
   "source": [
    "prices = multi_parse(soup, 'div', 'price')\r\n",
    "print(list(map(fmtnumber, map(num_from_text, prices))))"
   ],
   "outputs": [],
   "metadata": {}
  },
  {
   "cell_type": "code",
   "execution_count": null,
   "source": [
    "old_prices = multi_parse(soup, 'div', 'old_price promo')\r\n",
    "print(list(map(fmtnumber, map(num_from_text, old_prices))))"
   ],
   "outputs": [],
   "metadata": {}
  },
  {
   "cell_type": "code",
   "execution_count": null,
   "source": [
    "sku = multi_parse(soup, 'div', 'nr')\r\n",
    "skus = []\r\n",
    "for i in sku:\r\n",
    "    _ = i.split(':')[1].strip()\r\n",
    "    skus.append(_)\r\n",
    "skus"
   ],
   "outputs": [],
   "metadata": {}
  },
  {
   "cell_type": "code",
   "execution_count": null,
   "source": [
    "images = multi_parse(soup, 'div', 'listing-parent-pkw', text=False)\r\n",
    "srcs = []\r\n",
    "for image in images:\r\n",
    "    srcs.append(image.find('img').get('src'))\r\n",
    "srcs"
   ],
   "outputs": [],
   "metadata": {}
  },
  {
   "cell_type": "code",
   "execution_count": null,
   "source": [
    "aval = multi_parse(soup, 'span', 'text_vers')\r\n",
    "aval"
   ],
   "outputs": [],
   "metadata": {}
  }
 ],
 "metadata": {
  "orig_nbformat": 4,
  "language_info": {
   "name": "python",
   "version": "3.8.10",
   "mimetype": "text/x-python",
   "codemirror_mode": {
    "name": "ipython",
    "version": 3
   },
   "pygments_lexer": "ipython3",
   "nbconvert_exporter": "python",
   "file_extension": ".py"
  },
  "kernelspec": {
   "name": "python3",
   "display_name": "Python 3.8.10 64-bit ('dsc': conda)"
  },
  "interpreter": {
   "hash": "fcbab4adb5514146ae7268d1b7ad1c19704476f96e30a8a2e4db8ed6c9938b48"
  }
 },
 "nbformat": 4,
 "nbformat_minor": 2
}