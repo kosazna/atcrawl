{
 "metadata": {
  "language_info": {
   "codemirror_mode": {
    "name": "ipython",
    "version": 3
   },
   "file_extension": ".py",
   "mimetype": "text/x-python",
   "name": "python",
   "nbconvert_exporter": "python",
   "pygments_lexer": "ipython3",
   "version": "3.8.8"
  },
  "orig_nbformat": 2,
  "kernelspec": {
   "name": "python388jvsc74a57bd0fcbab4adb5514146ae7268d1b7ad1c19704476f96e30a8a2e4db8ed6c9938b48",
   "display_name": "Python 3.8.8 64-bit ('dsc': conda)"
  }
 },
 "nbformat": 4,
 "nbformat_minor": 2,
 "cells": [
  {
   "cell_type": "code",
   "execution_count": 1,
   "metadata": {},
   "outputs": [],
   "source": [
    "from atcrawl.crawlers.rellasamortiser.crawler import *"
   ]
  },
  {
   "cell_type": "code",
   "execution_count": 2,
   "metadata": {},
   "outputs": [],
   "source": [
    "ra = RellasAmortiserBrand(\"https://www.rellasamortiser.gr/el/7010-dodge\")"
   ]
  },
  {
   "cell_type": "code",
   "execution_count": 3,
   "metadata": {},
   "outputs": [],
   "source": [
    "ra.collect()"
   ]
  },
  {
   "cell_type": "code",
   "execution_count": 2,
   "metadata": {},
   "outputs": [
    {
     "output_type": "stream",
     "name": "stdout",
     "text": [
      "Collecting products for Alfa Romeo...\n",
      "\n",
      "D:\\.temp\\.dev\\.aztool\\atcrawl\\crawlers\\rellasamortiser\\crawler.py:130: FutureWarning: The default value of regex will change from True to False in a future version. In addition, single character regular expressions will*not* be treated as literal strings when regex=True.\n",
      "  _data['retail_price'] = _data['retail_price'].astype(\n",
      "D:\\.temp\\.dev\\.aztool\\atcrawl\\crawlers\\rellasamortiser\\crawler.py:133: FutureWarning: The default value of regex will change from True to False in a future version. In addition, single character regular expressions will*not* be treated as literal strings when regex=True.\n",
      "  _data['price_after_discount'] = _data['price_after_discount'].str.replace(\n"
     ]
    }
   ],
   "source": [
    "ra = RellasAmortiser(\"https://www.rellasamortiser.gr/el/831-amortiser\")\n",
    "ra.pre_collect()\n",
    "ra.collect(\"C:\\\\Users\\\\aznavouridis.k\\\\Desktop\\\\Terpos\\\\rellas.xlsx\",meta0='2605', meta1='kostas', meta2='azna', discount=-20)\n",
    "ra.export(\"C:\\\\Users\\\\aznavouridis.k\\\\Desktop\\\\Terpos\\\\rellas.xlsx\")"
   ]
  },
  {
   "cell_type": "code",
   "execution_count": 40,
   "metadata": {},
   "outputs": [],
   "source": [
    "import re\n",
    "import pandas as pd"
   ]
  },
  {
   "cell_type": "code",
   "execution_count": 20,
   "metadata": {},
   "outputs": [],
   "source": [
    "test = \"ΚΑΘΡΕΦΤΗΣ ΜΗΧΑΝΙΚΟΣ ΜΕ ΝΤΙΖΕΣ ΑΡ Alffa Romeo 33 1983-1990\"\n",
    "brand = \"Alfa Romeo\""
   ]
  },
  {
   "cell_type": "code",
   "execution_count": 3,
   "metadata": {},
   "outputs": [],
   "source": [
    "pat = re.compile(brand)"
   ]
  },
  {
   "cell_type": "code",
   "execution_count": 23,
   "metadata": {},
   "outputs": [
    {
     "output_type": "error",
     "ename": "AttributeError",
     "evalue": "'NoneType' object has no attribute 'start'",
     "traceback": [
      "\u001b[1;31m---------------------------------------------------------------------------\u001b[0m",
      "\u001b[1;31mAttributeError\u001b[0m                            Traceback (most recent call last)",
      "\u001b[1;32m<ipython-input-23-03d67e94872a>\u001b[0m in \u001b[0;36m<module>\u001b[1;34m\u001b[0m\n\u001b[1;32m----> 1\u001b[1;33m \u001b[0mpat\u001b[0m\u001b[1;33m.\u001b[0m\u001b[0msearch\u001b[0m\u001b[1;33m(\u001b[0m\u001b[0mtest\u001b[0m\u001b[1;33m)\u001b[0m\u001b[1;33m.\u001b[0m\u001b[0mstart\u001b[0m\u001b[1;33m(\u001b[0m\u001b[1;33m)\u001b[0m\u001b[1;33m\u001b[0m\u001b[1;33m\u001b[0m\u001b[0m\n\u001b[0m",
      "\u001b[1;31mAttributeError\u001b[0m: 'NoneType' object has no attribute 'start'"
     ]
    }
   ],
   "source": [
    "pat.search(test).start()"
   ]
  },
  {
   "cell_type": "code",
   "execution_count": 19,
   "metadata": {},
   "outputs": [
    {
     "output_type": "execute_result",
     "data": {
      "text/plain": [
       "'ΚΑΘΡΕΦΤΗΣ ΜΗΧΑΝΙΚΟΣ ΜΕ ΝΤΙΖΕΣ ΑΡ'"
      ]
     },
     "metadata": {},
     "execution_count": 19
    }
   ],
   "source": [
    "test[:32]"
   ]
  },
  {
   "cell_type": "code",
   "execution_count": 42,
   "metadata": {},
   "outputs": [],
   "source": [
    "df = pd.read_excel(\"C:\\\\Users\\\\aznavouridis.k\\\\Desktop\\\\Terpos\\\\RA_10.xlsx\")"
   ]
  },
  {
   "cell_type": "code",
   "execution_count": 46,
   "metadata": {},
   "outputs": [],
   "source": [
    "a = df['details'].str.split(', ', expand=True)\n",
    "a.columns = ['model', 'year']"
   ]
  },
  {
   "cell_type": "code",
   "execution_count": 50,
   "metadata": {},
   "outputs": [],
   "source": [
    "model = a['model'].str.split(': ', expand=True)[1]\n",
    "year = a['year'].str.split(': ', expand=True)[1]\n"
   ]
  },
  {
   "cell_type": "code",
   "execution_count": 64,
   "metadata": {},
   "outputs": [],
   "source": [
    "title = \"Αμορτισέρ για Audi A3 Bilstein B4 Original (1996-2004)\"\n",
    "model = \"Audi A3\"\n",
    "year = \"(1996-2004)\""
   ]
  },
  {
   "cell_type": "code",
   "execution_count": 67,
   "metadata": {},
   "outputs": [
    {
     "output_type": "execute_result",
     "data": {
      "text/plain": [
       "'Bilstein'"
      ]
     },
     "metadata": {},
     "execution_count": 67
    }
   ],
   "source": [
    "title.split(model)[1].strip().split(' ')[0]"
   ]
  }
 ]
}