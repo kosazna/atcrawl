{
 "metadata": {
  "language_info": {
   "codemirror_mode": {
    "name": "ipython",
    "version": 3
   },
   "file_extension": ".py",
   "mimetype": "text/x-python",
   "name": "python",
   "nbconvert_exporter": "python",
   "pygments_lexer": "ipython3",
   "version": "3.8.8"
  },
  "orig_nbformat": 2,
  "kernelspec": {
   "name": "python388jvsc74a57bd0fcbab4adb5514146ae7268d1b7ad1c19704476f96e30a8a2e4db8ed6c9938b48",
   "display_name": "Python 3.8.8 64-bit ('dsc': conda)"
  }
 },
 "nbformat": 4,
 "nbformat_minor": 2,
 "cells": [
  {
   "cell_type": "code",
   "execution_count": 21,
   "metadata": {},
   "outputs": [],
   "source": [
    "from atcrawl.crawlers.rellasamortiser import *"
   ]
  },
  {
   "cell_type": "code",
   "execution_count": 2,
   "metadata": {},
   "outputs": [],
   "source": [
    "soup = request_soup(\"https://www.rellasamortiser.gr/el/476-vw-polo\")"
   ]
  },
  {
   "cell_type": "code",
   "execution_count": 5,
   "metadata": {},
   "outputs": [],
   "source": [
    "subcategories = soup.find_all(models.TAG, {'id': models.ID})\n",
    "all_models = {} \n",
    "\n",
    "for subcategory in subcategories:\n",
    "    _models = subcategory.find_all(\n",
    "        models.SUB.TAG, {\"class\": models.SUB.CLASS})\n",
    "\n",
    "    for model in _models:\n",
    "        model_name = model.text.strip()\n",
    "        model_link = soup.find(models.SUB.TAG, {\"class\": models.SUB.CLASS}).find('a').get(models.SUB.ATTRIBUTE)\n",
    "        all_models[model_name] = model_link"
   ]
  },
  {
   "cell_type": "code",
   "execution_count": 6,
   "metadata": {},
   "outputs": [
    {
     "output_type": "execute_result",
     "data": {
      "text/plain": [
       "{'VW Polo (1994-2002)': 'https://www.rellasamortiser.gr/el/477-vw-polo-1994-2002',\n",
       " 'VW Polo (2002-2008)': 'https://www.rellasamortiser.gr/el/477-vw-polo-1994-2002',\n",
       " 'VW Polo 6R (2009-2015)': 'https://www.rellasamortiser.gr/el/477-vw-polo-1994-2002'}"
      ]
     },
     "metadata": {},
     "execution_count": 6
    }
   ],
   "source": [
    "all_models"
   ]
  },
  {
   "cell_type": "code",
   "execution_count": 14,
   "metadata": {},
   "outputs": [
    {
     "output_type": "execute_result",
     "data": {
      "text/plain": [
       "'https://www.rellasamortiser.gr/el/477-vw-polo-1994-2002'"
      ]
     },
     "metadata": {},
     "execution_count": 14
    }
   ],
   "source": [
    "soup.find(models.SUB.TAG, {\"class\": models.SUB.CLASS}).find('a').get(models.SUB.ATTRIBUTE)"
   ]
  },
  {
   "cell_type": "code",
   "execution_count": 7,
   "metadata": {},
   "outputs": [],
   "source": [
    "soup = request_soup(\"https://www.rellasamortiser.gr/el/477-vw-polo-1994-2002\")"
   ]
  },
  {
   "cell_type": "code",
   "execution_count": 8,
   "metadata": {},
   "outputs": [
    {
     "output_type": "execute_result",
     "data": {
      "text/plain": [
       "[]"
      ]
     },
     "metadata": {},
     "execution_count": 8
    }
   ],
   "source": [
    "subcategories = soup.find_all(models.TAG, {'id': models.ID})\n",
    "subcategories"
   ]
  },
  {
   "cell_type": "code",
   "execution_count": 26,
   "metadata": {},
   "outputs": [
    {
     "output_type": "execute_result",
     "data": {
      "text/plain": [
       "'div'"
      ]
     },
     "metadata": {},
     "execution_count": 26
    }
   ],
   "source": [
    "models.SUB.TAG"
   ]
  },
  {
   "cell_type": "code",
   "execution_count": 39,
   "metadata": {},
   "outputs": [],
   "source": [
    "final_links = []\n",
    "\n",
    "def extract_links(url):\n",
    "    soup = request_soup(url)\n",
    "    links = []\n",
    "\n",
    "    subcategories = soup.find_all(models.TAG, {'id': models.ID})\n",
    "\n",
    "    if subcategories:\n",
    "        for subcategory in subcategories:\n",
    "            _models = subcategory.find_all(\n",
    "                models.SUB.TAG, {\"class\": models.SUB.CLASS})\n",
    "\n",
    "        for i in _models:\n",
    "            model_link = i.find('a').get(models.SUB.ATTRIBUTE)\n",
    "            links.append(model_link)\n",
    "\n",
    "        for link in links:\n",
    "            extract_links(link)\n",
    "    else:\n",
    "        final_links.append(url)\n",
    "    \n",
    "\n"
   ]
  },
  {
   "cell_type": "code",
   "execution_count": 38,
   "metadata": {},
   "outputs": [
    {
     "output_type": "execute_result",
     "data": {
      "text/plain": [
       "['https://www.rellasamortiser.gr/el/44-audi-a3-4x2-1996-2004',\n",
       " 'https://www.rellasamortiser.gr/el/6886-audi-a3-4x4-1996-2004',\n",
       " 'https://www.rellasamortiser.gr/el/7001-audi-a3-50mm-2004-2012',\n",
       " 'https://www.rellasamortiser.gr/el/7002-audi-a3-55mm-2004-2012',\n",
       " 'https://www.rellasamortiser.gr/el/47445-audi-a3-8v-50mm-2012-2019',\n",
       " 'https://www.rellasamortiser.gr/el/47447-audi-a3-8v-55mm-2012-2019']"
      ]
     },
     "metadata": {},
     "execution_count": 38
    }
   ],
   "source": [
    "extract_links(\"https://www.rellasamortiser.gr/el/43-audi-a3\")\n",
    "final_links"
   ]
  },
  {
   "cell_type": "code",
   "execution_count": 40,
   "metadata": {},
   "outputs": [
    {
     "output_type": "execute_result",
     "data": {
      "text/plain": [
       "['https://www.rellasamortiser.gr/el/44-audi-a3-4x2-1996-2004']"
      ]
     },
     "metadata": {},
     "execution_count": 40
    }
   ],
   "source": [
    "extract_links('https://www.rellasamortiser.gr/el/44-audi-a3-4x2-1996-2004')\n",
    "final_links"
   ]
  },
  {
   "cell_type": "code",
   "execution_count": 15,
   "metadata": {},
   "outputs": [
    {
     "output_type": "execute_result",
     "data": {
      "text/plain": [
       "['https://www.rellasamortiser.gr/el/44-audi-a3-4x2-1996-2004',\n",
       " 'https://www.rellasamortiser.gr/el/44-audi-a3-4x2-1996-2004',\n",
       " 'https://www.rellasamortiser.gr/el/44-audi-a3-4x2-1996-2004',\n",
       " 'https://www.rellasamortiser.gr/el/44-audi-a3-4x2-1996-2004',\n",
       " 'https://www.rellasamortiser.gr/el/44-audi-a3-4x2-1996-2004',\n",
       " 'https://www.rellasamortiser.gr/el/44-audi-a3-4x2-1996-2004']"
      ]
     },
     "metadata": {},
     "execution_count": 15
    }
   ],
   "source": [
    "final_links"
   ]
  }
 ]
}