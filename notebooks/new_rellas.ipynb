{
 "metadata": {
  "language_info": {
   "codemirror_mode": {
    "name": "ipython",
    "version": 3
   },
   "file_extension": ".py",
   "mimetype": "text/x-python",
   "name": "python",
   "nbconvert_exporter": "python",
   "pygments_lexer": "ipython3",
   "version": "3.8.8"
  },
  "orig_nbformat": 2,
  "kernelspec": {
   "name": "python388jvsc74a57bd0fcbab4adb5514146ae7268d1b7ad1c19704476f96e30a8a2e4db8ed6c9938b48",
   "display_name": "Python 3.8.8 64-bit ('dsc': conda)"
  }
 },
 "nbformat": 4,
 "nbformat_minor": 2,
 "cells": [
  {
   "cell_type": "code",
   "execution_count": 1,
   "metadata": {},
   "outputs": [],
   "source": [
    "from atcrawl.crawlers.rellasamortiser import *"
   ]
  },
  {
   "cell_type": "code",
   "execution_count": 2,
   "metadata": {},
   "outputs": [],
   "source": [
    "soup = request_soup(\"https://www.rellasamortiser.gr/el/476-vw-polo\")"
   ]
  },
  {
   "cell_type": "code",
   "execution_count": 5,
   "metadata": {},
   "outputs": [],
   "source": [
    "subcategories = soup.find_all(models.TAG, {'id': models.ID})\n",
    "all_models = {} \n",
    "\n",
    "for subcategory in subcategories:\n",
    "    _models = subcategory.find_all(\n",
    "        models.SUB.TAG, {\"class\": models.SUB.CLASS})\n",
    "\n",
    "    for model in _models:\n",
    "        model_name = model.text.strip()\n",
    "        model_link = soup.find(models.SUB.TAG, {\"class\": models.SUB.CLASS}).find('a').get(models.SUB.ATTRIBUTE)\n",
    "        all_models[model_name] = model_link"
   ]
  },
  {
   "cell_type": "code",
   "execution_count": 6,
   "metadata": {},
   "outputs": [
    {
     "output_type": "execute_result",
     "data": {
      "text/plain": [
       "{'VW Polo (1994-2002)': 'https://www.rellasamortiser.gr/el/477-vw-polo-1994-2002',\n",
       " 'VW Polo (2002-2008)': 'https://www.rellasamortiser.gr/el/477-vw-polo-1994-2002',\n",
       " 'VW Polo 6R (2009-2015)': 'https://www.rellasamortiser.gr/el/477-vw-polo-1994-2002'}"
      ]
     },
     "metadata": {},
     "execution_count": 6
    }
   ],
   "source": [
    "all_models"
   ]
  },
  {
   "cell_type": "code",
   "execution_count": 14,
   "metadata": {},
   "outputs": [
    {
     "output_type": "execute_result",
     "data": {
      "text/plain": [
       "'https://www.rellasamortiser.gr/el/477-vw-polo-1994-2002'"
      ]
     },
     "metadata": {},
     "execution_count": 14
    }
   ],
   "source": [
    "soup.find(models.SUB.TAG, {\"class\": models.SUB.CLASS}).find('a').get(models.SUB.ATTRIBUTE)"
   ]
  },
  {
   "cell_type": "code",
   "execution_count": 7,
   "metadata": {},
   "outputs": [],
   "source": [
    "soup = request_soup(\"https://www.rellasamortiser.gr/el/477-vw-polo-1994-2002\")"
   ]
  },
  {
   "cell_type": "code",
   "execution_count": 8,
   "metadata": {},
   "outputs": [
    {
     "output_type": "execute_result",
     "data": {
      "text/plain": [
       "[]"
      ]
     },
     "metadata": {},
     "execution_count": 8
    }
   ],
   "source": [
    "subcategories = soup.find_all(models.TAG, {'id': models.ID})\n",
    "subcategories"
   ]
  },
  {
   "cell_type": "code",
   "execution_count": 26,
   "metadata": {},
   "outputs": [
    {
     "output_type": "execute_result",
     "data": {
      "text/plain": [
       "'div'"
      ]
     },
     "metadata": {},
     "execution_count": 26
    }
   ],
   "source": [
    "models.SUB.TAG"
   ]
  },
  {
   "cell_type": "code",
   "execution_count": 39,
   "metadata": {},
   "outputs": [],
   "source": [
    "final_links = []\n",
    "\n",
    "def extract_links(url):\n",
    "    soup = request_soup(url)\n",
    "    links = []\n",
    "\n",
    "    subcategories = soup.find_all(models.TAG, {'id': models.ID})\n",
    "\n",
    "    if subcategories:\n",
    "        for subcategory in subcategories:\n",
    "            _models = subcategory.find_all(\n",
    "                models.SUB.TAG, {\"class\": models.SUB.CLASS})\n",
    "\n",
    "        for i in _models:\n",
    "            model_link = i.find('a').get(models.SUB.ATTRIBUTE)\n",
    "            links.append(model_link)\n",
    "\n",
    "        for link in links:\n",
    "            extract_links(link)\n",
    "    else:\n",
    "        final_links.append(url)\n",
    "    \n",
    "\n"
   ]
  },
  {
   "cell_type": "code",
   "execution_count": 38,
   "metadata": {},
   "outputs": [
    {
     "output_type": "execute_result",
     "data": {
      "text/plain": [
       "['https://www.rellasamortiser.gr/el/44-audi-a3-4x2-1996-2004',\n",
       " 'https://www.rellasamortiser.gr/el/6886-audi-a3-4x4-1996-2004',\n",
       " 'https://www.rellasamortiser.gr/el/7001-audi-a3-50mm-2004-2012',\n",
       " 'https://www.rellasamortiser.gr/el/7002-audi-a3-55mm-2004-2012',\n",
       " 'https://www.rellasamortiser.gr/el/47445-audi-a3-8v-50mm-2012-2019',\n",
       " 'https://www.rellasamortiser.gr/el/47447-audi-a3-8v-55mm-2012-2019']"
      ]
     },
     "metadata": {},
     "execution_count": 38
    }
   ],
   "source": [
    "extract_links(\"https://www.rellasamortiser.gr/el/43-audi-a3\")\n",
    "final_links"
   ]
  },
  {
   "cell_type": "code",
   "execution_count": 40,
   "metadata": {},
   "outputs": [
    {
     "output_type": "execute_result",
     "data": {
      "text/plain": [
       "['https://www.rellasamortiser.gr/el/44-audi-a3-4x2-1996-2004']"
      ]
     },
     "metadata": {},
     "execution_count": 40
    }
   ],
   "source": [
    "extract_links('https://www.rellasamortiser.gr/el/44-audi-a3-4x2-1996-2004')\n",
    "final_links"
   ]
  },
  {
   "cell_type": "code",
   "execution_count": 15,
   "metadata": {},
   "outputs": [
    {
     "output_type": "execute_result",
     "data": {
      "text/plain": [
       "['https://www.rellasamortiser.gr/el/44-audi-a3-4x2-1996-2004',\n",
       " 'https://www.rellasamortiser.gr/el/44-audi-a3-4x2-1996-2004',\n",
       " 'https://www.rellasamortiser.gr/el/44-audi-a3-4x2-1996-2004',\n",
       " 'https://www.rellasamortiser.gr/el/44-audi-a3-4x2-1996-2004',\n",
       " 'https://www.rellasamortiser.gr/el/44-audi-a3-4x2-1996-2004',\n",
       " 'https://www.rellasamortiser.gr/el/44-audi-a3-4x2-1996-2004']"
      ]
     },
     "metadata": {},
     "execution_count": 15
    }
   ],
   "source": [
    "final_links"
   ]
  },
  {
   "cell_type": "code",
   "execution_count": 2,
   "metadata": {},
   "outputs": [],
   "source": [
    "ra = RellasAmortiser(\"https://www.rellasamortiser.gr/el/43-audi-a3\")"
   ]
  },
  {
   "cell_type": "code",
   "execution_count": 3,
   "metadata": {},
   "outputs": [],
   "source": [
    "ra.pre_collect()"
   ]
  },
  {
   "cell_type": "code",
   "execution_count": 8,
   "metadata": {},
   "outputs": [
    {
     "output_type": "execute_result",
     "data": {
      "text/plain": [
       "True"
      ]
     },
     "metadata": {},
     "execution_count": 8
    }
   ],
   "source": [
    "ra.next_url()"
   ]
  },
  {
   "cell_type": "code",
   "execution_count": 9,
   "metadata": {},
   "outputs": [
    {
     "output_type": "execute_result",
     "data": {
      "text/plain": [
       "'https://www.rellasamortiser.gr/el/44-audi-a3-4x2-1996-2004'"
      ]
     },
     "metadata": {},
     "execution_count": 9
    }
   ],
   "source": [
    "ra.current_url"
   ]
  },
  {
   "cell_type": "code",
   "execution_count": 4,
   "metadata": {},
   "outputs": [],
   "source": [
    "_params = {'meta0': '2659',\n",
    "                   'meta1': 'test',\n",
    "                   'meta2': 'test',\n",
    "                   'meta3': '1',\n",
    "                   'brand': 'Audi',\n",
    "                   'discount': 20,\n",
    "                   'model': ''}"
   ]
  },
  {
   "cell_type": "code",
   "execution_count": 5,
   "metadata": {},
   "outputs": [
    {
     "output_type": "stream",
     "name": "stdout",
     "text": [
      "Collecting products for Audi A3 4X2 (1996-2004)...\n",
      "\n",
      "D:\\.temp\\.dev\\.aztool\\atcrawl\\crawlers\\rellasamortiser\\crawler.py:128: FutureWarning: The default value of regex will change from True to False in a future version. In addition, single character regular expressions will*not* be treated as literal strings when regex=True.\n",
      "  _data['retail_price'] = _data['retail_price'].astype(\n",
      "D:\\.temp\\.dev\\.aztool\\atcrawl\\crawlers\\rellasamortiser\\crawler.py:131: FutureWarning: The default value of regex will change from True to False in a future version. In addition, single character regular expressions will*not* be treated as literal strings when regex=True.\n",
      "  _data['price_after_discount'] = _data['price_after_discount'].str.replace(\n",
      "Collecting products for Audi A3 4X4 (1996-2004)...\n",
      "\n",
      "Collecting products for Audi A3 [50mm] (2004-2012)...\n",
      "\n",
      "Collecting products for Audi A3 [55mm] (2004-2012)...\n",
      "\n",
      "Collecting products for Audi A3 [8V] (50mm) Μονοκόμματος Άξονας (2012-2019)...\n",
      "\n",
      "Collecting products for Audi A3 [8V] (55mm) με Ψαλίδια (2012-2019)...\n",
      "\n"
     ]
    }
   ],
   "source": [
    "ra.collect(_params)"
   ]
  },
  {
   "cell_type": "code",
   "execution_count": 6,
   "metadata": {},
   "outputs": [],
   "source": [
    "ra.transform()"
   ]
  },
  {
   "cell_type": "code",
   "execution_count": 7,
   "metadata": {},
   "outputs": [
    {
     "output_type": "execute_result",
     "data": {
      "text/plain": [
       "ικός: G16496 23979   \n",
       "1   Γνήσιος κωδικός: 22-131607 19-127439 VNE-D160 ...   \n",
       "2                      Γνήσιος κωδικός: 334834 344459   \n",
       "3   Γνήσιος κωδικός: 22-139184 19-127439 VNE-D918 ...   \n",
       "4                      Γνήσιος κωδικός: 312267 311009   \n",
       "5                  Γνήσιος κωδικός: 742244SP 376068SP   \n",
       "6                      Γνήσιος κωδικός: 324703 354006   \n",
       "7                Γνήσιος κωδικός: 8750-1006 8050-1006   \n",
       "8                Γνήσιος κωδικός: 35-250869 24-178006   \n",
       "9   Γνήσιος κωδικός: 35-250845 24-172936 VE3-B375 ...   \n",
       "10  Γνήσιος κωδικός: 8710-1432Sport 80-2859Sport 8...   \n",
       "11                Γνήσιος κωδικός: 47-128347 HE5-C834   \n",
       "12                Γνήσιος κωδικός: 48-135238 GM5-D523   \n",
       "0   Γνήσιος κωδικός: 22-131614 19-127439 VNE-D161 ...   \n",
       "1                       Γνήσιος κωδικός: G16498 23979   \n",
       "2                      Γνήσιος κωδικός: 317574 311009   \n",
       "3                      Γνήσιος κωδικός: 335808 344459   \n",
       "4   Γνήσιος κωδικός: 22-139191 19-127439 VNE-D919 ...   \n",
       "5                  Γνήσιος κωδικός: 742242SP 376068SP   \n",
       "6                      Γνήσιος κωδικός: 325700 354006   \n",
       "7                Γνήσιος κωδικός: 8750-1005 8050-1006   \n",
       "8   Γνήσιος κωδικός: 35-108191 24-178006 VE3-A819 ...   \n",
       "9   Γνήσιος κωδικός: 35-108177 24-172936 VE3-A817 ...   \n",
       "10               Γνήσιος κωδικός: 8745-1006 8045-1084   \n",
       "11  Γνήσιος κωδικός: 8710-1431Sport 8040-1352Sport...   \n",
       "12                Γνήσιος κωδικός: 47-127708 HE5-C770   \n",
       "13                Γνήσιος κωδικός: 48-135245 GM5-D524   \n",
       "0                Γνήσιος κωδικός: 22-230522 19-232157   \n",
       "1                  Γνήσιος κωδικός: 742116SP 376194SP   \n",
       "2                      Γνήσιος κωδικός: 315910 315912   \n",
       "3                Γνήσιος κωδικός: 8750-1115 8250-1044   \n",
       "4                Γνήσιος κωδικός: 8745-1324 8245-1326   \n",
       "5                Γνήσιος κωδικός: 35-229902 24-229920   \n",
       "6                Γνήσιος κωδικός: 35-229865 24-229883   \n",
       "7      Γνήσιος κωδικός: 8741-1571Sport 8240-1296Sport   \n",
       "0                      Γνήσιος κωδικός: 315911 315913   \n",
       "1                  Γνήσιος κωδικός: 742117SP 376195SP   \n",
       "2                Γνήσιος κωδικός: 22-230539 19-230559   \n",
       "3                Γνήσιος κωδικός: 8750-1123 8250-1050   \n",
       "4                Γνήσιος κωδικός: 8745-1325 8245-1327   \n",
       "5                Γνήσιος κωδικός: 35-229872 24-229890   \n",
       "6                Γνήσιος κωδικός: 35-229919 24-229937   \n",
       "7      Γνήσιος κωδικός: 8741-1572Sport 8240-1297Sport   \n",
       "\n",
       "                                       meta_title_seo  \\\n",
       "0   test Αμορτισέρ για Audi A3 Bilstein B4 Origina...   \n",
       "1   test Αμορτισέρ για Audi A3 Monroe Original (19...   \n",
       "2        test Αμορτισέρ για Audi A3 Sachs (1996-2004)   \n",
       "3   test Αμορτισέρ για Audi A3 Kayaba Excel G (199...   \n",
       "4   test Αμορτισέρ για Audi A3 4X2 Monroe OESpectr...   \n",
       "5   test Αμορτισέρ για Audi A3 Bilstein B4 Origina...   \n",
       "6   test Αμορτισέρ για Audi A3 Kayaba Ultra SR (19...   \n",
       "7   test Αμορτισέρ για Audi A3 Koni Street T (1996...   \n",
       "8   test Αμορτισέρ για Audi A3 Kayaba AGX (1996-2004)   \n",
       "9   test Αμορτισέρ για Audi A3 Bilstein B6 Sport (...   \n",
       "10  test Αμορτισέρ για Audi A3 4X2 Koni Special Ac...   \n",
       "11  test Αμορτισέρ για Audi A3 Bilstein B8 Sprint ...   \n",
       "12  test Αμορτισέρ για Audi A3 4X2 Koni Sport (199...   \n",
       "0   test Αμορτισέρ για Audi A3 4X4 Monroe OESpectr...   \n",
       "1   test Αμορτισέρ για Audi A3 4X4 Koni Street T (...   \n",
       "2   test Ρυθμιζόμενη Ανάρτηση για Audi A3 4X4 Bils...   \n",
       "0   test Αμορτισέρ για Audi A3 [50mm] Monroe Origi...   \n",
       "1   test Αμορτισέρ για Audi A3 [50mm] Bilstein B4 ...   \n",
       "2   test Αμορτισέρ για Audi A3 [50mm] Kayaba Excel...   \n",
       "3   test Αμορτισέρ για Audi A3 [50mm] Bilstein B4 ...   \n",
       "4   test Αμορτισέρ για Audi A3 [50mm] Sachs (2004-...   \n",
       "5   test Αμορτισέρ για Audi A3 [50mm] Monroe OESpe...   \n",
       "6   test Αμορτισέρ για Audi A3 [50mm] Kayaba Ultra...   \n",
       "7   test Αμορτισέρ για Audi A3 [50mm] Koni Street ...   \n",
       "8   test Αμορτισέρ για Audi A3 [50mm] Bilstein B8 ...   \n",
       "9   test Αμορτισέρ για Audi A3 [50mm] Bilstein B6 ...   \n",
       "10  test Αμορτισέρ για Audi A3 [50mm] Koni Sport (...   \n",
       "11  test Ρυθμιζόμενη Ανάρτηση για Audi A3 [50mm] B...   \n",
       "12  test Ρυθμιζόμενη Ανάρτηση για Audi A3 [50mm] B...   \n",
       "0   test Αμορτισέρ για Audi A3 [55mm] Bilstein B4 ...   \n",
       "1   test Αμορτισέρ για Audi A3 [55mm] Monroe Origi...   \n",
       "2   test Αμορτισέρ για Audi A3 [55mm] Sachs (2004-...   \n",
       "3   test Αμορτισέρ για Audi A3 [55mm] Kayaba Excel...   \n",
       "4   test Αμορτισέρ για Audi A3 [55mm] Bilstein B4 ...   \n",
       "5   test Αμορτισέρ για Audi A3 [55mm] Monroe OESpe...   \n",
       "6   test Αμορτισέρ για Audi A3 [55mm] Kayaba Ultra...   \n",
       "7   test Αμορτισέρ για Audi A3 [55mm] Koni Street ...   \n",
       "8   test Αμορτισέρ για Audi A3 [55mm] Bilstein B8 ...   \n",
       "9   test Αμορτισέρ για Audi A3 [55mm] Bilstein B6 ...   \n",
       "10  test Αμορτισέρ για Audi A3 [55mm] Koni Special...   \n",
       "11  test Αμορτισέρ για Audi A3 [55mm] Koni Sport (...   \n",
       "12  test Ρυθμιζόμενη Ανάρτηση για Audi A3 [55mm] B...   \n",
       "13  test Ρυθμιζόμενη Ανάρτηση για Audi A3 [55mm] B...   \n",
       "0   test Αμορτισέρ για Audi A3 [8V] (50mm) Μονοκόμ...   \n",
       "1   test Αμορτισέρ για Audi A3 [8V] (50mm) Μονοκόμ...   \n",
       "2   test Αμορτισέρ για Audi A3 [8V] (50mm) Μονοκόμ...   \n",
       "3   test Αμορτισέρ για Audi A3 [8V] (50mm) Μονοκόμ...   \n",
       "4   test Αμορτισέρ για Audi A3 [8V] (50mm) Μονοκόμ...   \n",
       "5   test Αμορτισέρ για Audi A3 [8V] (50mm) Μονοκόμ...   \n",
       "6   test Αμορτισέρ για Audi A3 [8V] (50mm) Μονοκόμ...   \n",
       "7   test Αμορτισέρ για Audi A3 [8V] (50mm) Μονοκόμ...   \n",
       "0   test Αμορτισέρ για Audi A3 [8V] (55mm) με Ψαλί...   \n",
       "1   test Αμορτισέρ για Audi A3 [8V] (55mm) με Ψαλί...   \n",
       "2   test Αμορτισέρ για Audi A3 [8V] (55mm) με Ψαλί...   \n",
       "3   test Αμορτισέρ για Audi A3 [8V] (55mm) με Ψαλί...   \n",
       "4   test Αμορτισέρ για Audi A3 [8V] (55mm) με Ψαλί...   \n",
       "5   test Αμορτισέρ για Audi A3 [8V] (55mm) με Ψαλί...   \n",
       "6   test Αμορτισέρ για Audi A3 [8V] (55mm) με Ψαλί...   \n",
       "7   test Αμορτισέρ για Audi A3 [8V] (55mm) με Ψαλί...   \n",
       "\n",
       "                                              details retail_price  \\\n",
       "0         Μοντέλο: Audi A3 4X2, Χρονολογία: 1996-2004       135,00   \n",
       "1         Μοντέλο: Audi A3 4X2, Χρονολογία: 1996-2004       155,00   \n",
       "2         Μοντέλο: Audi A3 4X2, Χρονολογία: 1996-2004       160,00   \n",
       "3         Μοντέλο: Audi A3 4X2, Χρονολογία: 1996-2004       160,00   \n",
       "4         Μοντέλο: Audi A3 4X2, Χρονολογία: 1996-2004       200,00   \n",
       "5         Μοντέλο: Audi A3 4X2, Χρονολογία: 1996-2004       235,00   \n",
       "6         Μοντέλο: Audi A3 4X2, Χρονολογία: 1996-2004       265,00   \n",
       "7         Μοντέλο: Audi A3 4X2, Χρονολογία: 1996-2004       342,00   \n",
       "8         Μοντέλο: Audi A3 4X2, Χρονολογία: 1996-2004       475,00   \n",
       "9         Μοντέλο: Audi A3 4X2, Χρονολογία: 1996-2004       575,00   \n",
       "10        Μοντέλο: Audi A3 4X2, Χρονολογία: 1996-2004       588,00   \n",
       "11        Μοντέλο: Audi A3 4X2, Χρονολογία: 1996-2004       605,00   \n",
       "12        Μοντέλο: Audi A3 4X2, Χρονολογία: 1996-2004       696,00   \n",
       "0         Μοντέλο: Audi A3 4X4, Χρονολογία: 1996-2004       310,00   \n",
       "1         Μοντέλο: Audi A3 4X4, Χρονολογία: 1996-2004       478,00   \n",
       "2         Μοντέλο: Audi A3 4X4, Χρονολογία: 1996-2004       950,00   \n",
       "0      Μοντέλο: Audi A3 [50mm], Χρονολογία: 2004-2012       165,00   \n",
       "1      Μοντέλο: Audi A3 [50mm], Χρονολογία: 2004-2012       165,00   \n",
       "2      Μοντέλο: Audi A3 [50mm], Χρονολογία: 2004-2012       180,00   \n",
       "3      Μοντέλο: Audi A3 [50mm], Χρονολογία: 2004-2012       190,00   \n",
       "4      Μοντέλο: Audi A3 [50mm], Χρονολογία: 2004-2012       190,00   \n",
       "5      Μοντέλο: Audi A3 [50mm], Χρονολογία: 2004-2012       195,00   \n",
       "6      Μοντέλο: Audi A3 [50mm], Χρονολογία: 2004-2012       285,00   \n",
       "7      Μοντέλο: Audi A3 [50mm], Χρονολογία: 2004-2012       376,00   \n",
       "8      Μοντέλο: Audi A3 [50mm], Χρονολογία: 2004-2012       500,00   \n",
       "9      Μοντέλο: Audi A3 [50mm], Χρονολογία: 2004-2012       550,00   \n",
       "10     Μοντέλο: Audi A3 [50mm], Χρονολογία: 2004-2012       684,00   \n",
       "11     Μοντέλο: Audi A3 [50mm], Χρονολογία: 2004-2012      1020,00   \n",
       "12     Μοντέλο: Audi A3 [50mm], Χρονολογία: 2004-2012      1645,00   \n",
       "0      Μοντέλο: Audi A3 [55mm], Χρονολογία: 2004-2012       165,00   \n",
       "1      Μοντέλο: Audi A3 [55mm], Χρονολογία: 2004-2012       175,00   \n",
       "2      Μοντέλο: Audi A3 [55mm], Χρονολογία: 2004-2012       180,00   \n",
       "3      Μοντέλο: Audi A3 [55mm], Χρονολογία: 2004-2012       180,00   \n",
       "4      Μοντέλο: Audi A3 [55mm], Χρονολογία: 2004-2012       190,00   \n",
       "5      Μοντέλο: Audi A3 [55mm], Χρονολογία: 2004-2012       205,00   \n",
       "6      Μοντέλο: Audi A3 [55mm], Χρονολογία: 2004-2012       285,00   \n",
       "7      Μοντέλο: Audi A3 [55mm], Χρονολογία: 2004-2012       402,00   \n",
       "8      Μοντέλο: Audi A3 [55mm], Χρονολογία: 2004-2012       505,00   \n",
       "9      Μοντέλο: Audi A3 [55mm], Χρονολογία: 2004-2012       570,00   \n",
       "10     Μοντέλο: Audi A3 [55mm], Χρονολογία: 2004-2012       588,00   \n",
       "11     Μοντέλο: Audi A3 [55mm], Χρονολογία: 2004-2012       684,00   \n",
       "12     Μοντέλο: Audi A3 [55mm], Χρονολογία: 2004-2012      1035,00   \n",
       "13     Μοντέλο: Audi A3 [55mm], Χρονολογία: 2004-2012      1650,00   \n",
       "0   Μοντέλο: Audi A3 [8V] (50mm) Μονοκόμματος Άξον...       210,00   \n",
       "1   Μοντέλο: Audi A3 [8V] (50mm) Μονοκόμματος Άξον...       220,00   \n",
       "2   Μοντέλο: Audi A3 [8V] (50mm) Μονοκόμματος Άξον...       230,00   \n",
       "3   Μοντέλο: Audi A3 [8V] (50mm) Μονοκόμματος Άξον...       458,00   \n",
       "4   Μοντέλο: Audi A3 [8V] (50mm) Μονοκόμματος Άξον...       610,00   \n",
       "5   Μοντέλο: Audi A3 [8V] (50mm) Μονοκόμματος Άξον...       625,00   \n",
       "6   Μοντέλο: Audi A3 [8V] (50mm) Μονοκόμματος Άξον...       645,00   \n",
       "7   Μοντέλο: Audi A3 [8V] (50mm) Μονοκόμματος Άξον...       740,00   \n",
       "0   Μοντέλο: Audi A3 [8V] (55mm) με Ψαλίδια, Χρονο...       220,00   \n",
       "1   Μοντέλο: Audi A3 [8V] (55mm) με Ψαλίδια, Χρονο...       225,00   \n",
       "2   Μοντέλο: Audi A3 [8V] (55mm) με Ψαλίδια, Χρονο...       235,00   \n",
       "3   Μοντέλο: Audi A3 [8V] (55mm) με Ψαλίδια, Χρονο...       458,00   \n",
       "4   Μοντέλο: Audi A3 [8V] (55mm) με Ψαλίδια, Χρονο...       610,00   \n",
       "5   Μοντέλο: Audi A3 [8V] (55mm) με Ψαλίδια, Χρονο...       645,00   \n",
       "6   Μοντέλο: Audi A3 [8V] (55mm) με Ψαλίδια, Χρονο...       665,00   \n",
       "7   Μοντέλο: Audi A3 [8V] (55mm) με Ψαλίδια, Χρονο...       740,00   \n",
       "\n",
       "   price_after_discount id_category image  \\\n",
       "0                 162,0        2659         \n",
       "1                 186,0        2659         \n",
       "2                 192,0        2659         \n",
       "3                 192,0        2659         \n",
       "4                 240,0        2659         \n",
       "5                 282,0        2659         \n",
       "6                 318,0        2659         \n",
       "7                 410,4        2659         \n",
       "8                 570,0        2659         \n",
       "9                 690,0        2659         \n",
       "10                705,6        2659         \n",
       "11                726,0        2659         \n",
       "12                835,2        2659         \n",
       "0                 372,0        2659         \n",
       "1                 573,6        2659         \n",
       "2                1140,0        2659         \n",
       "0                 198,0        2659         \n",
       "1                 198,0        2659         \n",
       "2                 216,0        2659         \n",
       "3                 228,0        2659         \n",
       "4                 228,0        2659         \n",
       "5                 234,0        2659         \n",
       "6                 342,0        2659         \n",
       "7                 451,2        2659         \n",
       "8                 600,0        2659         \n",
       "9                 660,0        2659         \n",
       "10                820,8        2659         \n",
       "11               1224,0        2659         \n",
       "12               1974,0        2659         \n",
       "0                 198,0        2659         \n",
       "1                 210,0        2659         \n",
       "2                 216,0        2659         \n",
       "3                 216,0        2659         \n",
       "4                 228,0        2659         \n",
       "5                 246,0        2659         \n",
       "6                 342,0        2659         \n",
       "7                 482,4        2659         \n",
       "8                 606,0        2659         \n",
       "9                 684,0        2659         \n",
       "10                705,6        2659         \n",
       "11                820,8        2659         \n",
       "12               1242,0        2659         \n",
       "13               1980,0        2659         \n",
       "0                 252,0        2659         \n",
       "1                 264,0        2659         \n",
       "2                 276,0        2659         \n",
       "3                 549,6        2659         \n",
       "4                 732,0        2659         \n",
       "5                 750,0        2659         \n",
       "6                 774,0        2659         \n",
       "7                 888,0        2659         \n",
       "0                 264,0        2659         \n",
       "1                 270,0        2659         \n",
       "2                 282,0        2659         \n",
       "3                 549,6        2659         \n",
       "4                 732,0        2659         \n",
       "5                 774,0        2659         \n",
       "6                 798,0        2659         \n",
       "7                 888,0        2659         \n",
       "\n",
       "                                             meta_seo  \\\n",
       "0   test Αμορτισέρ για Audi A3 Bilstein B4 Origina...   \n",
       "1   test Αμορτισέρ για Audi A3 Monroe Original (19...   \n",
       "2        test Αμορτισέρ για Audi A3 Sachs (1996-2004)   \n",
       "3   test Αμορτισέρ για Audi A3 Kayaba Excel G (199...   \n",
       "4   test Αμορτισέρ για Audi A3 4X2 Monroe OESpectr...   \n",
       "5   test Αμορτισέρ για Audi A3 Bilstein B4 Origina...   \n",
       "6   test Αμορτισέρ για Audi A3 Kayaba Ultra SR (19...   \n",
       "7   test Αμορτισέρ για Audi A3 Koni Street T (1996...   \n",
       "8   test Αμορτισέρ για Audi A3 Kayaba AGX (1996-2004)   \n",
       "9   test Αμορτισέρ για Audi A3 Bilstein B6 Sport (...   \n",
       "10  test Αμορτισέρ για Audi A3 4X2 Koni Special Ac...   \n",
       "11  test Αμορτισέρ για Audi A3 Bilstein B8 Sprint ...   \n",
       "12  test Αμορτισέρ για Audi A3 4X2 Koni Sport (199...   \n",
       "0   test Αμορτισέρ για Audi A3 4X4 Monroe OESpectr...   \n",
       "1   test Αμορτισέρ για Audi A3 4X4 Koni Street T (...   \n",
       "2   test Ρυθμιζόμενη Ανάρτηση για Audi A3 4X4 Bils...   \n",
       "0   test Αμορτισέρ για Audi A3 [50mm] Monroe Origi...   \n",
       "1   test Αμορτισέρ για Audi A3 [50mm] Bilstein B4 ...   \n",
       "2   test Αμορτισέρ για Audi A3 [50mm] Kayaba Excel...   \n",
       "3   test Αμορτισέρ για Audi A3 [50mm] Bilstein B4 ...   \n",
       "4   test Αμορτισέρ για Audi A3 [50mm] Sachs (2004-...   \n",
       "5   test Αμορτισέρ για Audi A3 [50mm] Monroe OESpe...   \n",
       "6   test Αμορτισέρ για Audi A3 [50mm] Kayaba Ultra...   \n",
       "7   test Αμορτισέρ για Audi A3 [50mm] Koni Street ...   \n",
       "8   test Αμορτισέρ για Audi A3 [50mm] Bilstein B8 ...   \n",
       "9   test Αμορτισέρ για Audi A3 [50mm] Bilstein B6 ...   \n",
       "10  test Αμορτισέρ για Audi A3 [50mm] Koni Sport (...   \n",
       "11  test Ρυθμιζόμενη Ανάρτηση για Audi A3 [50mm] B...   \n",
       "12  test Ρυθμιζόμενη Ανάρτηση για Audi A3 [50mm] B...   \n",
       "0   test Αμορτισέρ για Audi A3 [55mm] Bilstein B4 ...   \n",
       "1   test Αμορτισέρ για Audi A3 [55mm] Monroe Origi...   \n",
       "2   test Αμορτισέρ για Audi A3 [55mm] Sachs (2004-...   \n",
       "3   test Αμορτισέρ για Audi A3 [55mm] Kayaba Excel...   \n",
       "4   test Αμορτισέρ για Audi A3 [55mm] Bilstein B4 ...   \n",
       "5   test Αμορτισέρ για Audi A3 [55mm] Monroe OESpe...   \n",
       "6   test Αμορτισέρ για Audi A3 [55mm] Kayaba Ultra...   \n",
       "7   test Αμορτισέρ για Audi A3 [55mm] Koni Street ...   \n",
       "8   test Αμορτισέρ για Audi A3 [55mm] Bilstein B8 ...   \n",
       "9   test Αμορτισέρ για Audi A3 [55mm] Bilstein B6 ...   \n",
       "10  test Αμορτισέρ για Audi A3 [55mm] Koni Special...   \n",
       "11  test Αμορτισέρ για Audi A3 [55mm] Koni Sport (...   \n",
       "12  test Ρυθμιζόμενη Ανάρτηση για Audi A3 [55mm] B...   \n",
       "13  test Ρυθμιζόμενη Ανάρτηση για Audi A3 [55mm] B...   \n",
       "0   test Αμορτισέρ για Audi A3 [8V] (50mm) Μονοκόμ...   \n",
       "1   test Αμορτισέρ για Audi A3 [8V] (50mm) Μονοκόμ...   \n",
       "2   test Αμορτισέρ για Audi A3 [8V] (50mm) Μονοκόμ...   \n",
       "3   test Αμορτισέρ για Audi A3 [8V] (50mm) Μονοκόμ...   \n",
       "4   test Αμορτισέρ για Audi A3 [8V] (50mm) Μονοκόμ...   \n",
       "5   test Αμορτισέρ για Audi A3 [8V] (50mm) Μονοκόμ...   \n",
       "6   test Αμορτισέρ για Audi A3 [8V] (50mm) Μονοκόμ...   \n",
       "7   test Αμορτισέρ για Audi A3 [8V] (50mm) Μονοκόμ...   \n",
       "0   test Αμορτισέρ για Audi A3 [8V] (55mm) με Ψαλί...   \n",
       "1   test Αμορτισέρ για Audi A3 [8V] (55mm) με Ψαλί...   \n",
       "2   test Αμορτισέρ για Audi A3 [8V] (55mm) με Ψαλί...   \n",
       "3   test Αμορτισέρ για Audi A3 [8V] (55mm) με Ψαλί...   \n",
       "4   test Αμορτισέρ για Audi A3 [8V] (55mm) με Ψαλί...   \n",
       "5   test Αμορτισέρ για Audi A3 [8V] (55mm) με Ψαλί...   \n",
       "6   test Αμορτισέρ για Audi A3 [8V] (55mm) με Ψαλί...   \n",
       "7   test Αμορτισέρ για Audi A3 [8V] (55mm) με Ψαλί...   \n",
       "\n",
       "                                    extra_description skroutz  \n",
       "0   Αμορτισέρ για Audi A3 Bilstein B4 Original (19...       1  \n",
       "1   Αμορτισέρ για Audi A3 Monroe Original (1996-2004)       1  \n",
       "2             Αμορτισέρ για Audi A3 Sachs (1996-2004)       1  \n",
       "3    Αμορτισέρ για Audi A3 Kayaba Excel G (1996-2004)       1  \n",
       "4   Αμορτισέρ για Audi A3 4X2 Monroe OESpectrum (1...       1  \n",
       "5   Αμορτισέρ για Audi A3 Bilstein B4 Original Spo...       1  \n",
       "6   Αμορτισέρ για Audi A3 Kayaba Ultra SR (1996-2004)       1  \n",
       "7     Αμορτισέρ για Audi A3 Koni Street T (1996-2004)       1  \n",
       "8        Αμορτισέρ για Audi A3 Kayaba AGX (1996-2004)       1  \n",
       "9   Αμορτισέρ για Audi A3 Bilstein B6 Sport (1996-...       1  \n",
       "10  Αμορτισέρ για Audi A3 4X2 Koni Special Active ...       1  \n",
       "11  Αμορτισέρ για Audi A3 Bilstein B8 Sprint (1996...       1  \n",
       "12   Αμορτισέρ για Audi A3 4X2 Koni Sport (1996-2004)       1  \n",
       "0   Αμορτισέρ για Audi A3 4X4 Monroe OESpectrum (1...       1  \n",
       "1   Αμορτισέρ για Audi A3 4X4 Koni Street T (1996-...       1  \n",
       "2   Ρυθμιζόμενη Ανάρτηση για Audi A3 4X4 Bilstein ...       1  \n",
       "0   Αμορτισέρ για Audi A3 [50mm] Monroe Original (...       1  \n",
       "1   Αμορτισέρ για Audi A3 [50mm] Bilstein B4 Origi...       1  \n",
       "2   Αμορτισέρ για Audi A3 [50mm] Kayaba Excel G (2...       1  \n",
       "3   Αμορτισέρ για Audi A3 [50mm] Bilstein B4 Origi...       1  \n",
       "4      Αμορτισέρ για Audi A3 [50mm] Sachs (2004-2012)       1  \n",
       "5   Αμορτισέρ για Audi A3 [50mm] Monroe OESpectrum...       1  \n",
       "6   Αμορτισέρ για Audi A3 [50mm] Kayaba Ultra SR (...       1  \n",
       "7   Αμορτισέρ για Audi A3 [50mm] Koni Street T (20...       1  \n",
       "8   Αμορτισέρ για Audi A3 [50mm] Bilstein B8 Sprin...       1  \n",
       "9   Αμορτισέρ για Audi A3 [50mm] Bilstein B6 Sport...       1  \n",
       "10  Αμορτισέρ για Audi A3 [50mm] Koni Sport (2004-...       1  \n",
       "11  Ρυθμιζόμενη Ανάρτηση για Audi A3 [50mm] Bilste...       1  \n",
       "12  Ρυθμιζόμενη Ανάρτηση για Audi A3 [50mm] Bilste...       1  \n",
       "0   Αμορτισέρ για Audi A3 [55mm] Bilstein B4 Origi...       1  \n",
       "1   Αμορτισέρ για Audi A3 [55mm] Monroe Original (...       1  \n",
       "2      Αμορτισέρ για Audi A3 [55mm] Sachs (2004-2012)       1  \n",
       "3   Αμορτισέρ για Audi A3 [55mm] Kayaba Excel G (2...       1  \n",
       "4   Αμορτισέρ για Audi A3 [55mm] Bilstein B4 Origi...       1  \n",
       "5   Αμορτισέρ για Audi A3 [55mm] Monroe OESpectrum...       1  \n",
       "6   Αμορτισέρ για Audi A3 [55mm] Kayaba Ultra SR (...       1  \n",
       "7   Αμορτισέρ για Audi A3 [55mm] Koni Street T (20...       1  \n",
       "8   Αμορτισέρ για Audi A3 [55mm] Bilstein B8 Sprin...       1  \n",
       "9   Αμορτισέρ για Audi A3 [55mm] Bilstein B6 Sport...       1  \n",
       "10  Αμορτισέρ για Audi A3 [55mm] Koni Special Acti...       1  \n",
       "11  Αμορτισέρ για Audi A3 [55mm] Koni Sport (2004-...       1  \n",
       "12  Ρυθμιζόμενη Ανάρτηση για Audi A3 [55mm] Bilste...       1  \n",
       "13  Ρυθμιζόμενη Ανάρτηση για Audi A3 [55mm] Bilste...       1  \n",
       "0   Αμορτισέρ για Audi A3 [8V] (50mm) Μονοκόμματος...       1  \n",
       "1   Αμορτισέρ για Audi A3 [8V] (50mm) Μονοκόμματος...       1  \n",
       "2   Αμορτισέρ για Audi A3 [8V] (50mm) Μονοκόμματος...       1  \n",
       "3   Αμορτισέρ για Audi A3 [8V] (50mm) Μονοκόμματος...       1  \n",
       "4   Αμορτισέρ για Audi A3 [8V] (50mm) Μονοκόμματος...       1  \n",
       "5   Αμορτισέρ για Audi A3 [8V] (50mm) Μονοκόμματος...       1  \n",
       "6   Αμορτισέρ για Audi A3 [8V] (50mm) Μονοκόμματος...       1  \n",
       "7   Αμορτισέρ για Audi A3 [8V] (50mm) Μονοκόμματος...       1  \n",
       "0   Αμορτισέρ για Audi A3 [8V] (55mm) με Ψαλίδια S...       1  \n",
       "1   Αμορτισέρ για Audi A3 [8V] (55mm) με Ψαλίδια M...       1  \n",
       "2   Αμορτισέρ για Audi A3 [8V] (55mm) με Ψαλίδια B...       1  \n",
       "3   Αμορτισέρ για Audi A3 [8V] (55mm) με Ψαλίδια K...       1  \n",
       "4   Αμορτισέρ για Audi A3 [8V] (55mm) με Ψαλίδια K...       1  \n",
       "5   Αμορτισέρ για Audi A3 [8V] (55mm) με Ψαλίδια B...       1  \n",
       "6   Αμορτισέρ για Audi A3 [8V] (55mm) με Ψαλίδια B...       1  \n",
       "7   Αμορτισέρ για Audi A3 [8V] (55mm) με Ψαλίδια K...       1  "
      ],
      "text/html": "<div>\n<style scoped>\n    .dataframe tbody tr th:only-of-type {\n        vertical-align: middle;\n    }\n\n    .dataframe tbody tr th {\n        vertical-align: top;\n    }\n\n    .dataframe thead th {\n        text-align: right;\n    }\n</style>\n<table border=\"1\" class=\"dataframe\">\n  <thead>\n    <tr style=\"text-align: right;\">\n      <th></th>\n      <th>brand</th>\n      <th>article_no</th>\n      <th>title</th>\n      <th>description</th>\n      <th>meta_title_seo</th>\n      <th>details</th>\n      <th>retail_price</th>\n      <th>price_after_discount</th>\n      <th>id_category</th>\n      <th>image</th>\n      <th>meta_seo</th>\n      <th>extra_description</th>\n      <th>skroutz</th>\n    </tr>\n  </thead>\n  <tbody>\n    <tr>\n      <th>0</th>\n      <td>Audi</td>\n      <td></td>\n      <td>Αμορτισέρ για Audi A3 Bilstein B4 Original (19...</td>\n      <td>Γνήσιος κωδικός: 22-045744 19-029429 VNE-4574 ...</td>\n      <td>test Αμορτισέρ για Audi A3 Bilstein B4 Origina...</td>\n      <td>Μοντέλο: Audi A3 4X2, Χρονολογία: 1996-2004</td>\n      <td>135,00</td>\n      <td>162,0</td>\n      <td>2659</td>\n      <td></td>\n      <td>test Αμορτισέρ για Audi A3 Bilstein B4 Origina...</td>\n      <td>Αμορτισέρ για Audi A3 Bilstein B4 Original (19...</td>\n      <td>1</td>\n    </tr>\n    <tr>\n      <th>1</th>\n      <td>Audi</td>\n      <td></td>\n      <td>Αμορτισέρ για Audi A3 Monroe Original (1996-2004)</td>\n      <td>Γνήσιος κωδικός: G16264 23890</td>\n      <td>test Αμορτισέρ για Audi A3 Monroe Original (19...</td>\n      <td>Μοντέλο: Audi A3 4X2, Χρονολογία: 1996-2004</td>\n      <td>155,00</td>\n      <td>186,0</td>\n      <td>2659</td>\n      <td></td>\n      <td>test Αμορτισέρ για Audi A3 Monroe Original (19...</td>\n      <td>Αμορτισέρ για Audi A3 Monroe Original (1996-2004)</td>\n      <td>1</td>\n    </tr>\n    <tr>\n      <th>2</th>\n      <td>Audi</td>\n      <td></td>\n      <td>Αμορτισέρ για Audi A3 Sachs (1996-2004)</td>\n      <td>Γνήσιος κωδικός: 200954 556268</td>\n      <td>test Αμορτισέρ για Audi A3 Sachs (1996-2004)</td>\n      <td>Μοντέλο: Audi A3 4X2, Χρονολογία: 1996-2004</td>\n      <td>160,00</td>\n      <td>192,0</td>\n      <td>2659</td>\n      <td></td>\n      <td>test Αμορτισέρ για Audi A3 Sachs (1996-2004)</td>\n      <td>Αμορτισέρ για Audi A3 Sachs (1996-2004)</td>\n      <td>1</td>\n    </tr>\n    <tr>\n      <th>3</th>\n      <td>Audi</td>\n      <td></td>\n      <td>Αμορτισέρ για Audi A3 Kayaba Excel G (1996-2004)</td>\n      <td>Γνήσιος κωδικός: 333713 343348</td>\n      <td>test Αμορτισέρ για Audi A3 Kayaba Excel G (199...</td>\n      <td>Μοντέλο: Audi A3 4X2, Χρονολογία: 1996-2004</td>\n      <td>160,00</td>\n      <td>192,0</td>\n      <td>2659</td>\n      <td></td>\n      <td>test Αμορτισέρ για Audi A3 Kayaba Excel G (199...</td>\n      <td>Αμορτισέρ για Audi A3 Kayaba Excel G (1996-2004)</td>\n      <td>1</td>\n    </tr>\n    <tr>\n      <th>4</th>\n      <td>Audi</td>\n      <td></td>\n      <td>Αμορτισέρ για Audi A3 4X2 Monroe OESpectrum (1...</td>\n      <td>Γνήσιος κωδικός: 742258SP 376225SP</td>\n      <td>test Αμορτισέρ για Audi A3 4X2 Monroe OESpectr...</td>\n      <td>Μοντέλο: Audi A3 4X2, Χρονολογία: 1996-2004</td>\n      <td>200,00</td>\n      <td>240,0</td>\n      <td>2659</td>\n      <td></td>\n      <td>test Αμορτισέρ για Audi A3 4X2 Monroe OESpectr...</td>\n      <td>Αμορτισέρ για Audi A3 4X2 Monroe OESpectrum (1...</td>\n      <td>1</td>\n    </tr>\n    <tr>\n      <th>5</th>\n      <td>Audi</td>\n      <td></td>\n      <td>Αμορτισέρ για Audi A3 Bilstein B4 Original Spo...</td>\n      <td>Γνήσιος κωδικός: 22-045751 19-029177</td>\n      <td>test Αμορτισέρ για Audi A3 Bilstein B4 Origina...</td>\n      <td>Μοντέλο: Audi A3 4X2, Χρονολογία: 1996-2004</td>\n      <td>235,00</td>\n      <td>282,0</td>\n      <td>2659</td>\n      <td></td>\n      <td>test Αμορτισέρ για Audi A3 Bilstein B4 Origina...</td>\n      <td>Αμορτισέρ για Audi A3 Bilstein B4 Original Spo...</td>\n      <td>1</td>\n    </tr>\n    <tr>\n      <th>6</th>\n      <td>Audi</td>\n      <td></td>\n      <td>Αμορτισέρ για Audi A3 Kayaba Ultra SR (1996-2004)</td>\n      <td>Γνήσιος κωδικός: 324016 243037</td>\n      <td>test Αμορτισέρ για Audi A3 Kayaba Ultra SR (19...</td>\n      <td>Μοντέλο: Audi A3 4X2, Χρονολογία: 1996-2004</td>\n      <td>265,00</td>\n      <td>318,0</td>\n      <td>2659</td>\n      <td></td>\n      <td>test Αμορτισέρ για Audi A3 Kayaba Ultra SR (19...</td>\n      <td>Αμορτισέρ για Audi A3 Kayaba Ultra SR (1996-2004)</td>\n      <td>1</td>\n    </tr>\n    <tr>\n      <th>7</th>\n      <td>Audi</td>\n      <td></td>\n      <td>Αμορτισέρ για Audi A3 Koni Street T (1996-2004)</td>\n      <td>Γνήσιος κωδικός: 8750-1002 8050-1001</td>\n      <td>test Αμορτισέρ για Audi A3 Koni Street T (1996...</td>\n      <td>Μοντέλο: Audi A3 4X2, Χρονολογία: 1996-2004</td>\n      <td>342,00</td>\n      <td>410,4</td>\n      <td>2659</td>\n      <td></td>\n      <td>test Αμορτισέρ για Audi A3 Koni Street T (1996...</td>\n      <td>Αμορτισέρ για Audi A3 Koni Street T (1996-2004)</td>\n      <td>1</td>\n    </tr>\n    <tr>\n      <th>8</th>\n      <td>Audi</td>\n      <td></td>\n      <td>Αμορτισέρ για Audi A3 Kayaba AGX (1996-2004)</td>\n      <td>Γνήσιος κωδικός: 734033 743029</td>\n      <td>test Αμορτισέρ για Audi A3 Kayaba AGX (1996-2004)</td>\n      <td>Μοντέλο: Audi A3 4X2, Χρονολογία: 1996-2004</td>\n      <td>475,00</td>\n      <td>570,0</td>\n      <td>2659</td>\n      <td></td>\n      <td>test Αμορτισέρ για Audi A3 Kayaba AGX (1996-2004)</td>\n      <td>Αμορτισέρ για Audi A3 Kayaba AGX (1996-2004)</td>\n      <td>1</td>\n    </tr>\n    <tr>\n      <th>9</th>\n      <td>Audi</td>\n      <td></td>\n      <td>Αμορτισέρ για Audi A3 Bilstein B6 Sport (1996-...</td>\n      <td>Γνήσιος κωδικός: 35-044079 24-026239</td>\n      <td>test Αμορτισέρ για Audi A3 Bilstein B6 Sport (...</td>\n      <td>Μοντέλο: Audi A3 4X2, Χρονολογία: 1996-2004</td>\n      <td>575,00</td>\n      <td>690,0</td>\n      <td>2659</td>\n      <td></td>\n      <td>test Αμορτισέρ για Audi A3 Bilstein B6 Sport (...</td>\n      <td>Αμορτισέρ για Audi A3 Bilstein B6 Sport (1996-...</td>\n      <td>1</td>\n    </tr>\n    <tr>\n      <th>10</th>\n      <td>Audi</td>\n      <td></td>\n      <td>Αμορτισέρ για Audi A3 4X2 Koni Special Active ...</td>\n      <td>Γνήσιος κωδικός: 8745-1029 8045-1083</td>\n      <td>test Αμορτισέρ για Audi A3 4X2 Koni Special Ac...</td>\n      <td>Μοντέλο: Audi A3 4X2, Χρονολογία: 1996-2004</td>\n      <td>588,00</td>\n      <td>705,6</td>\n      <td>2659</td>\n      <td></td>\n      <td>test Αμορτισέρ για Audi A3 4X2 Koni Special Ac...</td>\n      <td>Αμορτισέρ για Audi A3 4X2 Koni Special Active ...</td>\n      <td>1</td>\n    </tr>\n    <tr>\n      <th>11</th>\n      <td>Audi</td>\n      <td></td>\n      <td>Αμορτισέρ για Audi A3 Bilstein B8 Sprint (1996...</td>\n      <td>Γνήσιος κωδικός: 35-044086 24-026246 VE3-4408 ...</td>\n      <td>test Αμορτισέρ για Audi A3 Bilstein B8 Sprint ...</td>\n      <td>Μοντέλο: Audi A3 4X2, Χρονολογία: 1996-2004</td>\n      <td>605,00</td>\n      <td>726,0</td>\n      <td>2659</td>\n      <td></td>\n      <td>test Αμορτισέρ για Audi A3 Bilstein B8 Sprint ...</td>\n      <td>Αμορτισέρ για Audi A3 Bilstein B8 Sprint (1996...</td>\n      <td>1</td>\n    </tr>\n    <tr>\n      <th>12</th>\n      <td>Audi</td>\n      <td></td>\n      <td>Αμορτισέρ για Audi A3 4X2 Koni Sport (1996-2004)</td>\n      <td>Γνήσιος κωδικός: 8710-1385Sport 80-2761Sport</td>\n      <td>test Αμορτισέρ για Audi A3 4X2 Koni Sport (199...</td>\n      <td>Μοντέλο: Audi A3 4X2, Χρονολογία: 1996-2004</td>\n      <td>696,00</td>\n      <td>835,2</td>\n      <td>2659</td>\n      <td></td>\n      <td>test Αμορτισέρ για Audi A3 4X2 Koni Sport (199...</td>\n      <td>Αμορτισέρ για Audi A3 4X2 Koni Sport (1996-2004)</td>\n      <td>1</td>\n    </tr>\n    <tr>\n      <th>0</th>\n      <td>Audi</td>\n      <td></td>\n      <td>Αμορτισέρ για Audi A3 4X4 Monroe OESpectrum (1...</td>\n      <td>Γνήσιος κωδικός: 742043SP 376055SP</td>\n      <td>test Αμορτισέρ για Audi A3 4X4 Monroe OESpectr...</td>\n      <td>Μοντέλο: Audi A3 4X4, Χρονολογία: 1996-2004</td>\n      <td>310,00</td>\n      <td>372,0</td>\n      <td>2659</td>\n      <td></td>\n      <td>test Αμορτισέρ για Audi A3 4X4 Monroe OESpectr...</td>\n      <td>Αμορτισέρ για Audi A3 4X4 Monroe OESpectrum (1...</td>\n      <td>1</td>\n    </tr>\n    <tr>\n      <th>1</th>\n      <td>Audi</td>\n      <td></td>\n      <td>Αμορτισέρ για Audi A3 4X4 Koni Street T (1996-...</td>\n      <td>Γνήσιος κωδικός: 8750-1062 8050-1086</td>\n      <td>test Αμορτισέρ για Audi A3 4X4 Koni Street T (...</td>\n      <td>Μοντέλο: Audi A3 4X4, Χρονολογία: 1996-2004</td>\n      <td>478,00</td>\n      <td>573,6</td>\n      <td>2659</td>\n      <td></td>\n      <td>test Αμορτισέρ για Audi A3 4X4 Koni Street T (...</td>\n      <td>Αμορτισέρ για Audi A3 4X4 Koni Street T (1996-...</td>\n      <td>1</td>\n    </tr>\n    <tr>\n      <th>2</th>\n      <td>Audi</td>\n      <td></td>\n      <td>Ρυθμιζόμενη Ανάρτηση για Audi A3 4X4 Bilstein ...</td>\n      <td>Γνήσιος κωδικός: 47-080416</td>\n      <td>test Ρυθμιζόμενη Ανάρτηση για Audi A3 4X4 Bils...</td>\n      <td>Μοντέλο: Audi A3 4X4, Χρονολογία: 1996-2004</td>\n      <td>950,00</td>\n      <td>1140,0</td>\n      <td>2659</td>\n      <td></td>\n      <td>test Ρυθμιζόμενη Ανάρτηση για Audi A3 4X4 Bils...</td>\n      <td>Ρυθμιζόμενη Ανάρτηση για Audi A3 4X4 Bilstein ...</td>\n      <td>1</td>\n    </tr>\n    <tr>\n      <th>0</th>\n      <td>Audi</td>\n      <td></td>\n      <td>Αμορτισέρ για Audi A3 [50mm] Monroe Original (...</td>\n      <td>Γνήσιος κωδικός: G16496 23979</td>\n      <td>test Αμορτισέρ για Audi A3 [50mm] Monroe Origi...</td>\n      <td>Μοντέλο: Audi A3 [50mm], Χρονολογία: 2004-2012</td>\n      <td>165,00</td>\n      <td>198,0</td>\n      <td>2659</td>\n      <td></td>\n      <td>test Αμορτισέρ για Audi A3 [50mm] Monroe Origi...</td>\n      <td>Αμορτισέρ για Audi A3 [50mm] Monroe Original (...</td>\n      <td>1</td>\n    </tr>\n    <tr>\n      <th>1</th>\n      <td>Audi</td>\n      <td></td>\n      <td>Αμορτισέρ για Audi A3 [50mm] Bilstein B4 Origi...</td>\n      <td>Γνήσιος κωδικός: 22-131607 19-127439 VNE-D160 ...</td>\n      <td>test Αμορτισέρ για Audi A3 [50mm] Bilstein B4 ...</td>\n      <td>Μοντέλο: Audi A3 [50mm], Χρονολογία: 2004-2012</td>\n      <td>165,00</td>\n      <td>198,0</td>\n      <td>2659</td>\n      <td></td>\n      <td>test Αμορτισέρ για Audi A3 [50mm] Bilstein B4 ...</td>\n      <td>Αμορτισέρ για Audi A3 [50mm] Bilstein B4 Origi...</td>\n      <td>1</td>\n    </tr>\n    <tr>\n      <th>2</th>\n      <td>Audi</td>\n      <td></td>\n      <td>Αμορτισέρ για Audi A3 [50mm] Kayaba Excel G (2...</td>\n      <td>Γνήσιος κωδικός: 334834 344459</td>\n      <td>test Αμορτισέρ για Audi A3 [50mm] Kayaba Excel...</td>\n      <td>Μοντέλο: Audi A3 [50mm], Χρονολογία: 2004-2012</td>\n      <td>180,00</td>\n      <td>216,0</td>\n      <td>2659</td>\n      <td></td>\n      <td>test Αμορτισέρ για Audi A3 [50mm] Kayaba Excel...</td>\n      <td>Αμορτισέρ για Audi A3 [50mm] Kayaba Excel G (2...</td>\n      <td>1</td>\n    </tr>\n    <tr>\n      <th>3</th>\n      <td>Audi</td>\n      <td></td>\n      <td>Αμορτισέρ για Audi A3 [50mm] Bilstein B4 Origi...</td>\n      <td>Γνήσιος κωδικός: 22-139184 19-127439 VNE-D918 ...</td>\n      <td>test Αμορτισέρ για Audi A3 [50mm] Bilstein B4 ...</td>\n      <td>Μοντέλο: Audi A3 [50mm], Χρονολογία: 2004-2012</td>\n      <td>190,00</td>\n      <td>228,0</td>\n      <td>2659</td>\n      <td></td>\n      <td>test Αμορτισέρ για Audi A3 [50mm] Bilstein B4 ...</td>\n      <td>Αμορτισέρ για Audi A3 [50mm] Bilstein B4 Origi...</td>\n      <td>1</td>\n    </tr>\n    <tr>\n      <th>4</th>\n      <td>Audi</td>\n      <td></td>\n      <td>Αμορτισέρ για Audi A3 [50mm] Sachs (2004-2012)</td>\n      <td>Γνήσιος κωδικός: 312267 311009</td>\n      <td>test Αμορτισέρ για Audi A3 [50mm] Sachs (2004-...</td>\n      <td>Μοντέλο: Audi A3 [50mm], Χρονολογία: 2004-2012</td>\n      <td>190,00</td>\n      <td>228,0</td>\n      <td>2659</td>\n      <td></td>\n      <td>test Αμορτισέρ για Audi A3 [50mm] Sachs (2004-...</td>\n      <td>Αμορτισέρ για Audi A3 [50mm] Sachs (2004-2012)</td>\n      <td>1</td>\n    </tr>\n    <tr>\n      <th>5</th>\n      <td>Audi</td>\n      <td></td>\n      <td>Αμορτισέρ για Audi A3 [50mm] Monroe OESpectrum...</td>\n      <td>Γνήσιος κωδικός: 742244SP 376068SP</td>\n      <td>test Αμορτισέρ για Audi A3 [50mm] Monroe OESpe...</td>\n      <td>Μοντέλο: Audi A3 [50mm], Χρονολογία: 2004-2012</td>\n      <td>195,00</td>\n      <td>234,0</td>\n      <td>2659</td>\n      <td></td>\n      <td>test Αμορτισέρ για Audi A3 [50mm] Monroe OESpe...</td>\n      <td>Αμορτισέρ για Audi A3 [50mm] Monroe OESpectrum...</td>\n      <td>1</td>\n    </tr>\n    <tr>\n      <th>6</th>\n      <td>Audi</td>\n      <td></td>\n      <td>Αμορτισέρ για Audi A3 [50mm] Kayaba Ultra SR (...</td>\n      <td>Γνήσιος κωδικός: 324703 354006</td>\n      <td>test Αμορτισέρ για Audi A3 [50mm] Kayaba Ultra...</td>\n      <td>Μοντέλο: Audi A3 [50mm], Χρονολογία: 2004-2012</td>\n      <td>285,00</td>\n      <td>342,0</td>\n      <td>2659</td>\n      <td></td>\n      <td>test Αμορτισέρ για Audi A3 [50mm] Kayaba Ultra...</td>\n      <td>Αμορτισέρ για Audi A3 [50mm] Kayaba Ultra SR (...</td>\n      <td>1</td>\n    </tr>\n    <tr>\n      <th>7</th>\n      <td>Audi</td>\n      <td></td>\n      <td>Αμορτισέρ για Audi A3 [50mm] Koni Street T (20...</td>\n      <td>Γνήσιος κωδικός: 8750-1006 8050-1006</td>\n      <td>test Αμορτισέρ για Audi A3 [50mm] Koni Street ...</td>\n      <td>Μοντέλο: Audi A3 [50mm], Χρονολογία: 2004-2012</td>\n      <td>376,00</td>\n      <td>451,2</td>\n      <td>2659</td>\n      <td></td>\n      <td>test Αμορτισέρ για Audi A3 [50mm] Koni Street ...</td>\n      <td>Αμορτισέρ για Audi A3 [50mm] Koni Street T (20...</td>\n      <td>1</td>\n    </tr>\n    <tr>\n      <th>8</th>\n      <td>Audi</td>\n      <td></td>\n      <td>Αμορτισέρ για Audi A3 [50mm] Bilstein B8 Sprin...</td>\n      <td>Γνήσιος κωδικός: 35-250869 24-178006</td>\n      <td>test Αμορτισέρ για Audi A3 [50mm] Bilstein B8 ...</td>\n      <td>Μοντέλο: Audi A3 [50mm], Χρονολογία: 2004-2012</td>\n      <td>500,00</td>\n      <td>600,0</td>\n      <td>2659</td>\n      <td></td>\n      <td>test Αμορτισέρ για Audi A3 [50mm] Bilstein B8 ...</td>\n      <td>Αμορτισέρ για Audi A3 [50mm] Bilstein B8 Sprin...</td>\n      <td>1</td>\n    </tr>\n    <tr>\n      <th>9</th>\n      <td>Audi</td>\n      <td></td>\n      <td>Αμορτισέρ για Audi A3 [50mm] Bilstein B6 Sport...</td>\n      <td>Γνήσιος κωδικός: 35-250845 24-172936 VE3-B375 ...</td>\n      <td>test Αμορτισέρ για Audi A3 [50mm] Bilstein B6 ...</td>\n      <td>Μοντέλο: Audi A3 [50mm], Χρονολογία: 2004-2012</td>\n      <td>550,00</td>\n      <td>660,0</td>\n      <td>2659</td>\n      <td></td>\n      <td>test Αμορτισέρ για Audi A3 [50mm] Bilstein B6 ...</td>\n      <td>Αμορτισέρ για Audi A3 [50mm] Bilstein B6 Sport...</td>\n      <td>1</td>\n    </tr>\n    <tr>\n      <th>10</th>\n      <td>Audi</td>\n      <td></td>\n      <td>Αμορτισέρ για Audi A3 [50mm] Koni Sport (2004-...</td>\n      <td>Γνήσιος κωδικός: 8710-1432Sport 80-2859Sport 8...</td>\n      <td>test Αμορτισέρ για Audi A3 [50mm] Koni Sport (...</td>\n      <td>Μοντέλο: Audi A3 [50mm], Χρονολογία: 2004-2012</td>\n      <td>684,00</td>\n      <td>820,8</td>\n      <td>2659</td>\n      <td></td>\n      <td>test Αμορτισέρ για Audi A3 [50mm] Koni Sport (...</td>\n      <td>Αμορτισέρ για Audi A3 [50mm] Koni Sport (2004-...</td>\n      <td>1</td>\n    </tr>\n    <tr>\n      <th>11</th>\n      <td>Audi</td>\n      <td></td>\n      <td>Ρυθμιζόμενη Ανάρτηση για Audi A3 [50mm] Bilste...</td>\n      <td>Γνήσιος κωδικός: 47-128347 HE5-C834</td>\n      <td>test Ρυθμιζόμενη Ανάρτηση για Audi A3 [50mm] B...</td>\n      <td>Μοντέλο: Audi A3 [50mm], Χρονολογία: 2004-2012</td>\n      <td>1020,00</td>\n      <td>1224,0</td>\n      <td>2659</td>\n      <td></td>\n      <td>test Ρυθμιζόμενη Ανάρτηση για Audi A3 [50mm] B...</td>\n      <td>Ρυθμιζόμενη Ανάρτηση για Audi A3 [50mm] Bilste...</td>\n      <td>1</td>\n    </tr>\n    <tr>\n      <th>12</th>\n      <td>Audi</td>\n      <td></td>\n      <td>Ρυθμιζόμενη Ανάρτηση για Audi A3 [50mm] Bilste...</td>\n      <td>Γνήσιος κωδικός: 48-135238 GM5-D523</td>\n      <td>test Ρυθμιζόμενη Ανάρτηση για Audi A3 [50mm] B...</td>\n      <td>Μοντέλο: Audi A3 [50mm], Χρονολογία: 2004-2012</td>\n      <td>1645,00</td>\n      <td>1974,0</td>\n      <td>2659</td>\n      <td></td>\n      <td>test Ρυθμιζόμενη Ανάρτηση για Audi A3 [50mm] B...</td>\n      <td>Ρυθμιζόμενη Ανάρτηση για Audi A3 [50mm] Bilste...</td>\n      <td>1</td>\n    </tr>\n    <tr>\n      <th>0</th>\n      <td>Audi</td>\n      <td></td>\n      <td>Αμορτισέρ για Audi A3 [55mm] Bilstein B4 Origi...</td>\n      <td>Γνήσιος κωδικός: 22-131614 19-127439 VNE-D161 ...</td>\n      <td>test Αμορτισέρ για Audi A3 [55mm] Bilstein B4 ...</td>\n      <td>Μοντέλο: Audi A3 [55mm], Χρονολογία: 2004-2012</td>\n      <td>165,00</td>\n      <td>198,0</td>\n      <td>2659</td>\n      <td></td>\n      <td>test Αμορτισέρ για Audi A3 [55mm] Bilstein B4 ...</td>\n      <td>Αμορτισέρ για Audi A3 [55mm] Bilstein B4 Origi...</td>\n      <td>1</td>\n    </tr>\n    <tr>\n      <th>1</th>\n      <td>Audi</td>\n      <td></td>\n      <td>Αμορτισέρ για Audi A3 [55mm] Monroe Original (...</td>\n      <td>Γνήσιος κωδικός: G16498 23979</td>\n      <td>test Αμορτισέρ για Audi A3 [55mm] Monroe Origi...</td>\n      <td>Μοντέλο: Audi A3 [55mm], Χρονολογία: 2004-2012</td>\n      <td>175,00</td>\n      <td>210,0</td>\n      <td>2659</td>\n      <td></td>\n      <td>test Αμορτισέρ για Audi A3 [55mm] Monroe Origi...</td>\n      <td>Αμορτισέρ για Audi A3 [55mm] Monroe Original (...</td>\n      <td>1</td>\n    </tr>\n    <tr>\n      <th>2</th>\n      <td>Audi</td>\n      <td></td>\n      <td>Αμορτισέρ για Audi A3 [55mm] Sachs (2004-2012)</td>\n      <td>Γνήσιος κωδικός: 317574 311009</td>\n      <td>test Αμορτισέρ για Audi A3 [55mm] Sachs (2004-...</td>\n      <td>Μοντέλο: Audi A3 [55mm], Χρονολογία: 2004-2012</td>\n      <td>180,00</td>\n      <td>216,0</td>\n      <td>2659</td>\n      <td></td>\n      <td>test Αμορτισέρ για Audi A3 [55mm] Sachs (2004-...</td>\n      <td>Αμορτισέρ για Audi A3 [55mm] Sachs (2004-2012)</td>\n      <td>1</td>\n    </tr>\n    <tr>\n      <th>3</th>\n      <td>Audi</td>\n      <td></td>\n      <td>Αμορτισέρ για Audi A3 [55mm] Kayaba Excel G (2...</td>\n      <td>Γνήσιος κωδικός: 335808 344459</td>\n      <td>test Αμορτισέρ για Audi A3 [55mm] Kayaba Excel...</td>\n      <td>Μοντέλο: Audi A3 [55mm], Χρονολογία: 2004-2012</td>\n      <td>180,00</td>\n      <td>216,0</td>\n      <td>2659</td>\n      <td></td>\n      <td>test Αμορτισέρ για Audi A3 [55mm] Kayaba Excel...</td>\n      <td>Αμορτισέρ για Audi A3 [55mm] Kayaba Excel G (2...</td>\n      <td>1</td>\n    </tr>\n    <tr>\n      <th>4</th>\n      <td>Audi</td>\n      <td></td>\n      <td>Αμορτισέρ για Audi A3 [55mm] Bilstein B4 Origi...</td>\n      <td>Γνήσιος κωδικός: 22-139191 19-127439 VNE-D919 ...</td>\n      <td>test Αμορτισέρ για Audi A3 [55mm] Bilstein B4 ...</td>\n      <td>Μοντέλο: Audi A3 [55mm], Χρονολογία: 2004-2012</td>\n      <td>190,00</td>\n      <td>228,0</td>\n      <td>2659</td>\n      <td></td>\n      <td>test Αμορτισέρ για Audi A3 [55mm] Bilstein B4 ...</td>\n      <td>Αμορτισέρ για Audi A3 [55mm] Bilstein B4 Origi...</td>\n      <td>1</td>\n    </tr>\n    <tr>\n      <th>5</th>\n      <td>Audi</td>\n      <td></td>\n      <td>Αμορτισέρ για Audi A3 [55mm] Monroe OESpectrum...</td>\n      <td>Γνήσιος κωδικός: 742242SP 376068SP</td>\n      <td>test Αμορτισέρ για Audi A3 [55mm] Monroe OESpe...</td>\n      <td>Μοντέλο: Audi A3 [55mm], Χρονολογία: 2004-2012</td>\n      <td>205,00</td>\n      <td>246,0</td>\n      <td>2659</td>\n      <td></td>\n      <td>test Αμορτισέρ για Audi A3 [55mm] Monroe OESpe...</td>\n      <td>Αμορτισέρ για Audi A3 [55mm] Monroe OESpectrum...</td>\n      <td>1</td>\n    </tr>\n    <tr>\n      <th>6</th>\n      <td>Audi</td>\n      <td></td>\n      <td>Αμορτισέρ για Audi A3 [55mm] Kayaba Ultra SR (...</td>\n      <td>Γνήσιος κωδικός: 325700 354006</td>\n      <td>test Αμορτισέρ για Audi A3 [55mm] Kayaba Ultra...</td>\n      <td>Μοντέλο: Audi A3 [55mm], Χρονολογία: 2004-2012</td>\n      <td>285,00</td>\n      <td>342,0</td>\n      <td>2659</td>\n      <td></td>\n      <td>test Αμορτισέρ για Audi A3 [55mm] Kayaba Ultra...</td>\n      <td>Αμορτισέρ για Audi A3 [55mm] Kayaba Ultra SR (...</td>\n      <td>1</td>\n    </tr>\n    <tr>\n      <th>7</th>\n      <td>Audi</td>\n      <td></td>\n      <td>Αμορτισέρ για Audi A3 [55mm] Koni Street T (20...</td>\n      <td>Γνήσιος κωδικός: 8750-1005 8050-1006</td>\n      <td>test Αμορτισέρ για Audi A3 [55mm] Koni Street ...</td>\n      <td>Μοντέλο: Audi A3 [55mm], Χρονολογία: 2004-2012</td>\n      <td>402,00</td>\n      <td>482,4</td>\n      <td>2659</td>\n      <td></td>\n      <td>test Αμορτισέρ για Audi A3 [55mm] Koni Street ...</td>\n      <td>Αμορτισέρ για Audi A3 [55mm] Koni Street T (20...</td>\n      <td>1</td>\n    </tr>\n    <tr>\n      <th>8</th>\n      <td>Audi</td>\n      <td></td>\n      <td>Αμορτισέρ για Audi A3 [55mm] Bilstein B8 Sprin...</td>\n      <td>Γνήσιος κωδικός: 35-108191 24-178006 VE3-A819 ...</td>\n      <td>test Αμορτισέρ για Audi A3 [55mm] Bilstein B8 ...</td>\n      <td>Μοντέλο: Audi A3 [55mm], Χρονολογία: 2004-2012</td>\n      <td>505,00</td>\n      <td>606,0</td>\n      <td>2659</td>\n      <td></td>\n      <td>test Αμορτισέρ για Audi A3 [55mm] Bilstein B8 ...</td>\n      <td>Αμορτισέρ για Audi A3 [55mm] Bilstein B8 Sprin...</td>\n      <td>1</td>\n    </tr>\n    <tr>\n      <th>9</th>\n      <td>Audi</td>\n      <td></td>\n      <td>Αμορτισέρ για Audi A3 [55mm] Bilstein B6 Sport...</td>\n      <td>Γνήσιος κωδικός: 35-108177 24-172936 VE3-A817 ...</td>\n      <td>test Αμορτισέρ για Audi A3 [55mm] Bilstein B6 ...</td>\n      <td>Μοντέλο: Audi A3 [55mm], Χρονολογία: 2004-2012</td>\n      <td>570,00</td>\n      <td>684,0</td>\n      <td>2659</td>\n      <td></td>\n      <td>test Αμορτισέρ για Audi A3 [55mm] Bilstein B6 ...</td>\n      <td>Αμορτισέρ για Audi A3 [55mm] Bilstein B6 Sport...</td>\n      <td>1</td>\n    </tr>\n    <tr>\n      <th>10</th>\n      <td>Audi</td>\n      <td></td>\n      <td>Αμορτισέρ για Audi A3 [55mm] Koni Special Acti...</td>\n      <td>Γνήσιος κωδικός: 8745-1006 8045-1084</td>\n      <td>test Αμορτισέρ για Audi A3 [55mm] Koni Special...</td>\n      <td>Μοντέλο: Audi A3 [55mm], Χρονολογία: 2004-2012</td>\n      <td>588,00</td>\n      <td>705,6</td>\n      <td>2659</td>\n      <td></td>\n      <td>test Αμορτισέρ για Audi A3 [55mm] Koni Special...</td>\n      <td>Αμορτισέρ για Audi A3 [55mm] Koni Special Acti...</td>\n      <td>1</td>\n    </tr>\n    <tr>\n      <th>11</th>\n      <td>Audi</td>\n      <td></td>\n      <td>Αμορτισέρ για Audi A3 [55mm] Koni Sport (2004-...</td>\n      <td>Γνήσιος κωδικός: 8710-1431Sport 8040-1352Sport...</td>\n      <td>test Αμορτισέρ για Audi A3 [55mm] Koni Sport (...</td>\n      <td>Μοντέλο: Audi A3 [55mm], Χρονολογία: 2004-2012</td>\n      <td>684,00</td>\n      <td>820,8</td>\n      <td>2659</td>\n      <td></td>\n      <td>test Αμορτισέρ για Audi A3 [55mm] Koni Sport (...</td>\n      <td>Αμορτισέρ για Audi A3 [55mm] Koni Sport (2004-...</td>\n      <td>1</td>\n    </tr>\n    <tr>\n      <th>12</th>\n      <td>Audi</td>\n      <td></td>\n      <td>Ρυθμιζόμενη Ανάρτηση για Audi A3 [55mm] Bilste...</td>\n      <td>Γνήσιος κωδικός: 47-127708 HE5-C770</td>\n      <td>test Ρυθμιζόμενη Ανάρτηση για Audi A3 [55mm] B...</td>\n      <td>Μοντέλο: Audi A3 [55mm], Χρονολογία: 2004-2012</td>\n      <td>1035,00</td>\n      <td>1242,0</td>\n      <td>2659</td>\n      <td></td>\n      <td>test Ρυθμιζόμενη Ανάρτηση για Audi A3 [55mm] B...</td>\n      <td>Ρυθμιζόμενη Ανάρτηση για Audi A3 [55mm] Bilste...</td>\n      <td>1</td>\n    </tr>\n    <tr>\n      <th>13</th>\n      <td>Audi</td>\n      <td></td>\n      <td>Ρυθμιζόμενη Ανάρτηση για Audi A3 [55mm] Bilste...</td>\n      <td>Γνήσιος κωδικός: 48-135245 GM5-D524</td>\n      <td>test Ρυθμιζόμενη Ανάρτηση για Audi A3 [55mm] B...</td>\n      <td>Μοντέλο: Audi A3 [55mm], Χρονολογία: 2004-2012</td>\n      <td>1650,00</td>\n      <td>1980,0</td>\n      <td>2659</td>\n      <td></td>\n      <td>test Ρυθμιζόμενη Ανάρτηση για Audi A3 [55mm] B...</td>\n      <td>Ρυθμιζόμενη Ανάρτηση για Audi A3 [55mm] Bilste...</td>\n      <td>1</td>\n    </tr>\n    <tr>\n      <th>0</th>\n      <td>Audi</td>\n      <td></td>\n      <td>Αμορτισέρ για Audi A3 [8V] (50mm) Μονοκόμματος...</td>\n      <td>Γνήσιος κωδικός: 22-230522 19-232157</td>\n      <td>test Αμορτισέρ για Audi A3 [8V] (50mm) Μονοκόμ...</td>\n      <td>Μοντέλο: Audi A3 [8V] (50mm) Μονοκόμματος Άξον...</td>\n      <td>210,00</td>\n      <td>252,0</td>\n      <td>2659</td>\n      <td></td>\n      <td>test Αμορτισέρ για Audi A3 [8V] (50mm) Μονοκόμ...</td>\n      <td>Αμορτισέρ για Audi A3 [8V] (50mm) Μονοκόμματος...</td>\n      <td>1</td>\n    </tr>\n    <tr>\n      <th>1</th>\n      <td>Audi</td>\n      <td></td>\n      <td>Αμορτισέρ για Audi A3 [8V] (50mm) Μονοκόμματος...</td>\n      <td>Γνήσιος κωδικός: 742116SP 376194SP</td>\n      <td>test Αμορτισέρ για Audi A3 [8V] (50mm) Μονοκόμ...</td>\n      <td>Μοντέλο: Audi A3 [8V] (50mm) Μονοκόμματος Άξον...</td>\n      <td>220,00</td>\n      <td>264,0</td>\n      <td>2659</td>\n      <td></td>\n      <td>test Αμορτισέρ για Audi A3 [8V] (50mm) Μονοκόμ...</td>\n      <td>Αμορτισέρ για Audi A3 [8V] (50mm) Μονοκόμματος...</td>\n      <td>1</td>\n    </tr>\n    <tr>\n      <th>2</th>\n      <td>Audi</td>\n      <td></td>\n      <td>Αμορτισέρ για Audi A3 [8V] (50mm) Μονοκόμματος...</td>\n      <td>Γνήσιος κωδικός: 315910 315912</td>\n      <td>test Αμορτισέρ για Audi A3 [8V] (50mm) Μονοκόμ...</td>\n      <td>Μοντέλο: Audi A3 [8V] (50mm) Μονοκόμματος Άξον...</td>\n      <td>230,00</td>\n      <td>276,0</td>\n      <td>2659</td>\n      <td></td>\n      <td>test Αμορτισέρ για Audi A3 [8V] (50mm) Μονοκόμ...</td>\n      <td>Αμορτισέρ για Audi A3 [8V] (50mm) Μονοκόμματος...</td>\n      <td>1</td>\n    </tr>\n    <tr>\n      <th>3</th>\n      <td>Audi</td>\n      <td></td>\n      <td>Αμορτισέρ για Audi A3 [8V] (50mm) Μονοκόμματος...</td>\n      <td>Γνήσιος κωδικός: 8750-1115 8250-1044</td>\n      <td>test Αμορτισέρ για Audi A3 [8V] (50mm) Μονοκόμ...</td>\n      <td>Μοντέλο: Audi A3 [8V] (50mm) Μονοκόμματος Άξον...</td>\n      <td>458,00</td>\n      <td>549,6</td>\n      <td>2659</td>\n      <td></td>\n      <td>test Αμορτισέρ για Audi A3 [8V] (50mm) Μονοκόμ...</td>\n      <td>Αμορτισέρ για Audi A3 [8V] (50mm) Μονοκόμματος...</td>\n      <td>1</td>\n    </tr>\n    <tr>\n      <th>4</th>\n      <td>Audi</td>\n      <td></td>\n      <td>Αμορτισέρ για Audi A3 [8V] (50mm) Μονοκόμματος...</td>\n      <td>Γνήσιος κωδικός: 8745-1324 8245-1326</td>\n      <td>test Αμορτισέρ για Audi A3 [8V] (50mm) Μονοκόμ...</td>\n      <td>Μοντέλο: Audi A3 [8V] (50mm) Μονοκόμματος Άξον...</td>\n      <td>610,00</td>\n      <td>732,0</td>\n      <td>2659</td>\n      <td></td>\n      <td>test Αμορτισέρ για Audi A3 [8V] (50mm) Μονοκόμ...</td>\n      <td>Αμορτισέρ για Audi A3 [8V] (50mm) Μονοκόμματος...</td>\n      <td>1</td>\n    </tr>\n    <tr>\n      <th>5</th>\n      <td>Audi</td>\n      <td></td>\n      <td>Αμορτισέρ για Audi A3 [8V] (50mm) Μονοκόμματος...</td>\n      <td>Γνήσιος κωδικός: 35-229902 24-229920</td>\n      <td>test Αμορτισέρ για Audi A3 [8V] (50mm) Μονοκόμ...</td>\n      <td>Μοντέλο: Audi A3 [8V] (50mm) Μονοκόμματος Άξον...</td>\n      <td>625,00</td>\n      <td>750,0</td>\n      <td>2659</td>\n      <td></td>\n      <td>test Αμορτισέρ για Audi A3 [8V] (50mm) Μονοκόμ...</td>\n      <td>Αμορτισέρ για Audi A3 [8V] (50mm) Μονοκόμματος...</td>\n      <td>1</td>\n    </tr>\n    <tr>\n      <th>6</th>\n      <td>Audi</td>\n      <td></td>\n      <td>Αμορτισέρ για Audi A3 [8V] (50mm) Μονοκόμματος...</td>\n      <td>Γνήσιος κωδικός: 35-229865 24-229883</td>\n      <td>test Αμορτισέρ για Audi A3 [8V] (50mm) Μονοκόμ...</td>\n      <td>Μοντέλο: Audi A3 [8V] (50mm) Μονοκόμματος Άξον...</td>\n      <td>645,00</td>\n      <td>774,0</td>\n      <td>2659</td>\n      <td></td>\n      <td>test Αμορτισέρ για Audi A3 [8V] (50mm) Μονοκόμ...</td>\n      <td>Αμορτισέρ για Audi A3 [8V] (50mm) Μονοκόμματος...</td>\n      <td>1</td>\n    </tr>\n    <tr>\n      <th>7</th>\n      <td>Audi</td>\n      <td></td>\n      <td>Αμορτισέρ για Audi A3 [8V] (50mm) Μονοκόμματος...</td>\n      <td>Γνήσιος κωδικός: 8741-1571Sport 8240-1296Sport</td>\n      <td>test Αμορτισέρ για Audi A3 [8V] (50mm) Μονοκόμ...</td>\n      <td>Μοντέλο: Audi A3 [8V] (50mm) Μονοκόμματος Άξον...</td>\n      <td>740,00</td>\n      <td>888,0</td>\n      <td>2659</td>\n      <td></td>\n      <td>test Αμορτισέρ για Audi A3 [8V] (50mm) Μονοκόμ...</td>\n      <td>Αμορτισέρ για Audi A3 [8V] (50mm) Μονοκόμματος...</td>\n      <td>1</td>\n    </tr>\n    <tr>\n      <th>0</th>\n      <td>Audi</td>\n      <td></td>\n      <td>Αμορτισέρ για Audi A3 [8V] (55mm) με Ψαλίδια S...</td>\n      <td>Γνήσιος κωδικός: 315911 315913</td>\n      <td>test Αμορτισέρ για Audi A3 [8V] (55mm) με Ψαλί...</td>\n      <td>Μοντέλο: Audi A3 [8V] (55mm) με Ψαλίδια, Χρονο...</td>\n      <td>220,00</td>\n      <td>264,0</td>\n      <td>2659</td>\n      <td></td>\n      <td>test Αμορτισέρ για Audi A3 [8V] (55mm) με Ψαλί...</td>\n      <td>Αμορτισέρ για Audi A3 [8V] (55mm) με Ψαλίδια S...</td>\n      <td>1</td>\n    </tr>\n    <tr>\n      <th>1</th>\n      <td>Audi</td>\n      <td></td>\n      <td>Αμορτισέρ για Audi A3 [8V] (55mm) με Ψαλίδια M...</td>\n      <td>Γνήσιος κωδικός: 742117SP 376195SP</td>\n      <td>test Αμορτισέρ για Audi A3 [8V] (55mm) με Ψαλί...</td>\n      <td>Μοντέλο: Audi A3 [8V] (55mm) με Ψαλίδια, Χρονο...</td>\n      <td>225,00</td>\n      <td>270,0</td>\n      <td>2659</td>\n      <td></td>\n      <td>test Αμορτισέρ για Audi A3 [8V] (55mm) με Ψαλί...</td>\n      <td>Αμορτισέρ για Audi A3 [8V] (55mm) με Ψαλίδια M...</td>\n      <td>1</td>\n    </tr>\n    <tr>\n      <th>2</th>\n      <td>Audi</td>\n      <td></td>\n      <td>Αμορτισέρ για Audi A3 [8V] (55mm) με Ψαλίδια B...</td>\n      <td>Γνήσιος κωδικός: 22-230539 19-230559</td>\n      <td>test Αμορτισέρ για Audi A3 [8V] (55mm) με Ψαλί...</td>\n      <td>Μοντέλο: Audi A3 [8V] (55mm) με Ψαλίδια, Χρονο...</td>\n      <td>235,00</td>\n      <td>282,0</td>\n      <td>2659</td>\n      <td></td>\n      <td>test Αμορτισέρ για Audi A3 [8V] (55mm) με Ψαλί...</td>\n      <td>Αμορτισέρ για Audi A3 [8V] (55mm) με Ψαλίδια B...</td>\n      <td>1</td>\n    </tr>\n    <tr>\n      <th>3</th>\n      <td>Audi</td>\n      <td></td>\n      <td>Αμορτισέρ για Audi A3 [8V] (55mm) με Ψαλίδια K...</td>\n      <td>Γνήσιος κωδικός: 8750-1123 8250-1050</td>\n      <td>test Αμορτισέρ για Audi A3 [8V] (55mm) με Ψαλί...</td>\n      <td>Μοντέλο: Audi A3 [8V] (55mm) με Ψαλίδια, Χρονο...</td>\n      <td>458,00</td>\n      <td>549,6</td>\n      <td>2659</td>\n      <td></td>\n      <td>test Αμορτισέρ για Audi A3 [8V] (55mm) με Ψαλί...</td>\n      <td>Αμορτισέρ για Audi A3 [8V] (55mm) με Ψαλίδια K...</td>\n      <td>1</td>\n    </tr>\n    <tr>\n      <th>4</th>\n      <td>Audi</td>\n      <td></td>\n      <td>Αμορτισέρ για Audi A3 [8V] (55mm) με Ψαλίδια K...</td>\n      <td>Γνήσιος κωδικός: 8745-1325 8245-1327</td>\n      <td>test Αμορτισέρ για Audi A3 [8V] (55mm) με Ψαλί...</td>\n      <td>Μοντέλο: Audi A3 [8V] (55mm) με Ψαλίδια, Χρονο...</td>\n      <td>610,00</td>\n      <td>732,0</td>\n      <td>2659</td>\n      <td></td>\n      <td>test Αμορτισέρ για Audi A3 [8V] (55mm) με Ψαλί...</td>\n      <td>Αμορτισέρ για Audi A3 [8V] (55mm) με Ψαλίδια K...</td>\n      <td>1</td>\n    </tr>\n    <tr>\n      <th>5</th>\n      <td>Audi</td>\n      <td></td>\n      <td>Αμορτισέρ για Audi A3 [8V] (55mm) με Ψαλίδια B...</td>\n      <td>Γνήσιος κωδικός: 35-229872 24-229890</td>\n      <td>test Αμορτισέρ για Audi A3 [8V] (55mm) με Ψαλί...</td>\n      <td>Μοντέλο: Audi A3 [8V] (55mm) με Ψαλίδια, Χρονο...</td>\n      <td>645,00</td>\n      <td>774,0</td>\n      <td>2659</td>\n      <td></td>\n      <td>test Αμορτισέρ για Audi A3 [8V] (55mm) με Ψαλί...</td>\n      <td>Αμορτισέρ για Audi A3 [8V] (55mm) με Ψαλίδια B...</td>\n      <td>1</td>\n    </tr>\n    <tr>\n      <th>6</th>\n      <td>Audi</td>\n      <td></td>\n      <td>Αμορτισέρ για Audi A3 [8V] (55mm) με Ψαλίδια B...</td>\n      <td>Γνήσιος κωδικός: 35-229919 24-229937</td>\n      <td>test Αμορτισέρ για Audi A3 [8V] (55mm) με Ψαλί...</td>\n      <td>Μοντέλο: Audi A3 [8V] (55mm) με Ψαλίδια, Χρονο...</td>\n      <td>665,00</td>\n      <td>798,0</td>\n      <td>2659</td>\n      <td></td>\n      <td>test Αμορτισέρ για Audi A3 [8V] (55mm) με Ψαλί...</td>\n      <td>Αμορτισέρ για Audi A3 [8V] (55mm) με Ψαλίδια B...</td>\n      <td>1</td>\n    </tr>\n    <tr>\n      <th>7</th>\n      <td>Audi</td>\n      <td></td>\n      <td>Αμορτισέρ για Audi A3 [8V] (55mm) με Ψαλίδια K...</td>\n      <td>Γνήσιος κωδικός: 8741-1572Sport 8240-1297Sport</td>\n      <td>test Αμορτισέρ για Audi A3 [8V] (55mm) με Ψαλί...</td>\n      <td>Μοντέλο: Audi A3 [8V] (55mm) με Ψαλίδια, Χρονο...</td>\n      <td>740,00</td>\n      <td>888,0</td>\n      <td>2659</td>\n      <td></td>\n      <td>test Αμορτισέρ για Audi A3 [8V] (55mm) με Ψαλί...</td>\n      <td>Αμορτισέρ για Audi A3 [8V] (55mm) με Ψαλίδια K...</td>\n      <td>1</td>\n    </tr>\n  </tbody>\n</table>\n</div>"
     },
     "metadata": {},
     "execution_count": 7
    }
   ],
   "source": [
    "ra.data"
   ]
  }
 ]
}