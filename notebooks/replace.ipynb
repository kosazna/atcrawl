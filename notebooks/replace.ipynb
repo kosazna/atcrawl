{
 "metadata": {
  "language_info": {
   "codemirror_mode": {
    "name": "ipython",
    "version": 3
   },
   "file_extension": ".py",
   "mimetype": "text/x-python",
   "name": "python",
   "nbconvert_exporter": "python",
   "pygments_lexer": "ipython3",
   "version": "3.8.8"
  },
  "orig_nbformat": 4,
  "kernelspec": {
   "name": "python3",
   "display_name": "Python 3.8.8 64-bit ('dsc': conda)"
  },
  "interpreter": {
   "hash": "fcbab4adb5514146ae7268d1b7ad1c19704476f96e30a8a2e4db8ed6c9938b48"
  }
 },
 "nbformat": 4,
 "nbformat_minor": 2,
 "cells": [
  {
   "cell_type": "code",
   "execution_count": 1,
   "metadata": {},
   "outputs": [],
   "source": [
    "import pandas as pd\n",
    "import re"
   ]
  },
  {
   "cell_type": "code",
   "execution_count": 35,
   "metadata": {},
   "outputs": [],
   "source": [
    "test_file = \"C:/Users/aznavouridis.k/Desktop/Terpos/GBG_15.xlsx\"\n",
    "replacements = \"C:/Users/aznavouridis.k/Desktop/Terpos/GBG_replacements.xlsx\""
   ]
  },
  {
   "cell_type": "code",
   "execution_count": 66,
   "metadata": {},
   "outputs": [],
   "source": [
    "df = pd.read_excel(test_file)\n",
    "rep = pd.read_excel(replacements)"
   ]
  },
  {
   "cell_type": "code",
   "execution_count": 60,
   "metadata": {},
   "outputs": [],
   "source": [
    "rep['word'] = rep['word'].str.replace('.', '\\.', regex=True)"
   ]
  },
  {
   "cell_type": "code",
   "execution_count": 67,
   "metadata": {},
   "outputs": [
    {
     "output_type": "execute_result",
     "data": {
      "text/plain": [
       "      word replacement\n",
       "0   ΠΑΡΑΘ.    ΠΑΡΑΘΥΡΟ\n",
       "1  ΒΕΝΤΙΛ.  ΒΕΝΤΙΛΑΤΕΡ\n",
       "2     ΕΜΠ.      ΕΜΠΡΟΣ\n",
       "3     ΨΥΓ.      ΨΥΓΕΙΟ\n",
       "4   ΗΛΕΚΤ.  ΗΛΕΚΤΡΙΚΟΣ"
      ],
      "text/html": "<div>\n<style scoped>\n    .dataframe tbody tr th:only-of-type {\n        vertical-align: middle;\n    }\n\n    .dataframe tbody tr th {\n        vertical-align: top;\n    }\n\n    .dataframe thead th {\n        text-align: right;\n    }\n</style>\n<table border=\"1\" class=\"dataframe\">\n  <thead>\n    <tr style=\"text-align: right;\">\n      <th></th>\n      <th>word</th>\n      <th>replacement</th>\n    </tr>\n  </thead>\n  <tbody>\n    <tr>\n      <th>0</th>\n      <td>ΠΑΡΑΘ.</td>\n      <td>ΠΑΡΑΘΥΡΟ</td>\n    </tr>\n    <tr>\n      <th>1</th>\n      <td>ΒΕΝΤΙΛ.</td>\n      <td>ΒΕΝΤΙΛΑΤΕΡ</td>\n    </tr>\n    <tr>\n      <th>2</th>\n      <td>ΕΜΠ.</td>\n      <td>ΕΜΠΡΟΣ</td>\n    </tr>\n    <tr>\n      <th>3</th>\n      <td>ΨΥΓ.</td>\n      <td>ΨΥΓΕΙΟ</td>\n    </tr>\n    <tr>\n      <th>4</th>\n      <td>ΗΛΕΚΤ.</td>\n      <td>ΗΛΕΚΤΡΙΚΟΣ</td>\n    </tr>\n  </tbody>\n</table>\n</div>"
     },
     "metadata": {},
     "execution_count": 67
    }
   ],
   "source": [
    "rep"
   ]
  },
  {
   "cell_type": "code",
   "execution_count": 8,
   "metadata": {},
   "outputs": [
    {
     "output_type": "execute_result",
     "data": {
      "text/plain": [
       "0     test ΒΕΝΤΙΛ.ΨΥΓΕΙΟΥ ΚΟΜΠ.Χ.Α/C Alfa Romeo 33 1...\n",
       "1     test ΓΡΥΛΛΟΣ ΠΑΡΑΘ. ΕΜΠΡΟΣ ΗΛΕΚΤ. (ΕΥΡΩΠΗ) ΑΡ ...\n",
       "2     test ΓΡΥΛΛΟΣ ΠΑΡΑΘ. ΕΜΠΡΟΣ ΗΛΕΚΤ. (ΕΥΡΩΠΗ) ΔΕ ...\n",
       "3      test ΓΩΝΙΑ ΦΛΑΣ ΛΕΥΚΗ ΑΡ Alfa Romeo 33 1983-1990\n",
       "4      test ΓΩΝΙΑ ΦΛΑΣ ΛΕΥΚΗ ΔΕ Alfa Romeo 33 1983-1990\n",
       "5     test ΔΙΑΚΟΠΤΗΣ ΠΑΡΑΘ. ΕΜΠ. (Διπλός) (Καφέ φίσα...\n",
       "6     test ΔΙΑΚΟΠΤΗΣ ΠΑΡΑΘ. ΕΜΠ. (Διπλός) (Καφέ φίσα...\n",
       "7     test ΚΑΘΡΕΦΤΗΣ ΜΗΧΑΝΙΚΟΣ ΜΕ ΝΤΙΖΕΣ ΑΡ Alfa Rom...\n",
       "8     test ΚΑΘΡΕΦΤΗΣ ΜΗΧΑΝΙΚΟΣ ΜΕ ΝΤΙΖΕΣ ΔΕ Alfa Rom...\n",
       "9              test ΚΑΠΩ ΕΜΠΡΟΣ Alfa Romeo 33 1983-1990\n",
       "10              test ΜΑΡΣΠΙΕ ΑΡ Alfa Romeo 33 1983-1990\n",
       "11              test ΜΑΡΣΠΙΕ ΔΕ Alfa Romeo 33 1983-1990\n",
       "12                   test ΜΑΣΚΑ Alfa Romeo 33 1983-1990\n",
       "13    test ΜΕΤΩΠΗ ΕΜΠΡΟΣ (26cm) Alfa Romeo 33 1983-1990\n",
       "14    test ΜΕΤΩΠΗ ΕΜΠΡΟΣ (26cm) Alfa Romeo 33 1983-1990\n",
       "15           test ΠΟΡΤΑ ΠΙΣΩ 5η Alfa Romeo 33 1983-1990\n",
       "16    test ΠΡΟΒ.ΟΜΙΧΛΗΣ MARELLI LAA340 Alfa Romeo 33...\n",
       "17    test ΠΡΟΦΥΛΑΚΤΗΡΑΣ ΕΜΠΡΟΣΘΙΟΣ Alfa Romeo 33 19...\n",
       "18      test ΠΡΟΦΥΛΑΚΤΗΡΑΣ ΠΙΣΩ Alfa Romeo 33 1983-1990\n",
       "19           test ΣΗΜΑ ΜΟΝΤΕΛΟΥ Alfa Romeo 33 1983-1990\n",
       "20           test ΣΗΜΑ ΜΟΝΤΕΛΟΥ Alfa Romeo 33 1983-1990\n",
       "21        test ΤΡΑΒΕΡΣΑ ΨΥΓΕΙΟΥ Alfa Romeo 33 1983-1990\n",
       "22             test ΦΛΑΣ ΦΤΕΡΟΥ Alfa Romeo 33 1983-1990\n",
       "23           test ΦΡΥΔΙ ΠΙΣΩ ΑΡ Alfa Romeo 33 1983-1990\n",
       "24           test ΦΡΥΔΙ ΠΙΣΩ ΔΕ Alfa Romeo 33 1983-1990\n",
       "25         test ΦΤΕΡΟ ΕΜΠΡΟΣ ΑΡ Alfa Romeo 33 1983-1990\n",
       "26         test ΦΤΕΡΟ ΕΜΠΡΟΣ ΔΕ Alfa Romeo 33 1983-1990\n",
       "27    test ΧΕΡΟΥΛΙ ΠΟΡΤΑΣ ΕΜ./ΟΠ. ΕΞΩ. Alfa Romeo 33...\n",
       "28     test ΨΥΓ.1,2-1,3 (54x25) Alfa Romeo 33 1983-1990\n",
       "Name: meta_title_seo, dtype: object"
      ]
     },
     "metadata": {},
     "execution_count": 8
    }
   ],
   "source": [
    "test"
   ]
  },
  {
   "cell_type": "code",
   "execution_count": 20,
   "metadata": {},
   "outputs": [],
   "source": [
    "def remove_overspace(text):\n",
    "    return re.sub(' {2,}', ' ', text)"
   ]
  },
  {
   "cell_type": "code",
   "execution_count": 75,
   "metadata": {},
   "outputs": [],
   "source": [
    "test = df[\"meta_title_seo\"]\n",
    "\n",
    "for i in rep.itertuples(index=False):\n",
    "    # test = test.apply(lambda s: re.sub(i.word, f\"{i.replacement} \", s))\n",
    "    test = test.str.replace(i.word, f\"{i.replacement} \", regex=False)\n",
    "\n",
    "test = test.apply(remove_overspace)"
   ]
  },
  {
   "cell_type": "code",
   "execution_count": 68,
   "metadata": {},
   "outputs": [],
   "source": [
    "d = dict(zip(rep['word'], rep['replacement']))"
   ]
  },
  {
   "cell_type": "code",
   "execution_count": 72,
   "metadata": {},
   "outputs": [
    {
     "output_type": "execute_result",
     "data": {
      "text/plain": [
       "{'(\\\\b)ΠΑΡΑΘ\\\\.(\\\\b)': '\\\\1ΠΑΡΑΘΥΡΟ \\\\2',\n",
       " '(\\\\b)ΒΕΝΤΙΛ\\\\.(\\\\b)': '\\\\1ΒΕΝΤΙΛΑΤΕΡ \\\\2',\n",
       " '(\\\\b)ΕΜΠ\\\\.(\\\\b)': '\\\\1ΕΜΠΡΟΣ \\\\2',\n",
       " '(\\\\b)ΨΥΓ\\\\.(\\\\b)': '\\\\1ΨΥΓΕΙΟ \\\\2',\n",
       " '(\\\\b)ΗΛΕΚΤ\\\\.(\\\\b)': '\\\\1ΗΛΕΚΤΡΙΚΟΣ \\\\2'}"
      ]
     },
     "metadata": {},
     "execution_count": 72
    }
   ],
   "source": [
    "d2 = {r'(\\b){}(\\b)'.format(k.replace('.', r'\\.')):r'\\1{} \\2'.format(v) for k,v in d.items()}\n",
    "d2"
   ]
  },
  {
   "cell_type": "code",
   "execution_count": 73,
   "metadata": {},
   "outputs": [],
   "source": [
    "test = df['meta_title_seo'].replace(d2, regex=True)"
   ]
  },
  {
   "cell_type": "code",
   "execution_count": 76,
   "metadata": {},
   "outputs": [
    {
     "output_type": "execute_result",
     "data": {
      "text/plain": [
       "0     test ΒΕΝΤΙΛΑΤΕΡ ΨΥΓΕΙΟΥ ΚΟΜΠ.Χ.Α/C Alfa Romeo ...\n",
       "1     test ΓΡΥΛΛΟΣ ΠΑΡΑΘΥΡΟ ΕΜΠΡΟΣ ΗΛΕΚΤΡΙΚΟΣ (ΕΥΡΩΠ...\n",
       "2     test ΓΡΥΛΛΟΣ ΠΑΡΑΘΥΡΟ ΕΜΠΡΟΣ ΗΛΕΚΤΡΙΚΟΣ (ΕΥΡΩΠ...\n",
       "3      test ΓΩΝΙΑ ΦΛΑΣ ΛΕΥΚΗ ΑΡ Alfa Romeo 33 1983-1990\n",
       "4      test ΓΩΝΙΑ ΦΛΑΣ ΛΕΥΚΗ ΔΕ Alfa Romeo 33 1983-1990\n",
       "5     test ΔΙΑΚΟΠΤΗΣ ΠΑΡΑΘΥΡΟ ΕΜΠΡΟΣ (Διπλός) (Καφέ ...\n",
       "6     test ΔΙΑΚΟΠΤΗΣ ΠΑΡΑΘΥΡΟ ΕΜΠΡΟΣ (Διπλός) (Καφέ ...\n",
       "7     test ΚΑΘΡΕΦΤΗΣ ΜΗΧΑΝΙΚΟΣ ΜΕ ΝΤΙΖΕΣ ΑΡ Alfa Rom...\n",
       "8     test ΚΑΘΡΕΦΤΗΣ ΜΗΧΑΝΙΚΟΣ ΜΕ ΝΤΙΖΕΣ ΔΕ Alfa Rom...\n",
       "9              test ΚΑΠΩ ΕΜΠΡΟΣ Alfa Romeo 33 1983-1990\n",
       "10              test ΜΑΡΣΠΙΕ ΑΡ Alfa Romeo 33 1983-1990\n",
       "11              test ΜΑΡΣΠΙΕ ΔΕ Alfa Romeo 33 1983-1990\n",
       "12                   test ΜΑΣΚΑ Alfa Romeo 33 1983-1990\n",
       "13    test ΜΕΤΩΠΗ ΕΜΠΡΟΣ (26cm) Alfa Romeo 33 1983-1990\n",
       "14    test ΜΕΤΩΠΗ ΕΜΠΡΟΣ (26cm) Alfa Romeo 33 1983-1990\n",
       "15           test ΠΟΡΤΑ ΠΙΣΩ 5η Alfa Romeo 33 1983-1990\n",
       "16    test ΠΡΟΒ.ΟΜΙΧΛΗΣ MARELLI LAA340 Alfa Romeo 33...\n",
       "17    test ΠΡΟΦΥΛΑΚΤΗΡΑΣ ΕΜΠΡΟΣΘΙΟΣ Alfa Romeo 33 19...\n",
       "18      test ΠΡΟΦΥΛΑΚΤΗΡΑΣ ΠΙΣΩ Alfa Romeo 33 1983-1990\n",
       "19           test ΣΗΜΑ ΜΟΝΤΕΛΟΥ Alfa Romeo 33 1983-1990\n",
       "20           test ΣΗΜΑ ΜΟΝΤΕΛΟΥ Alfa Romeo 33 1983-1990\n",
       "21        test ΤΡΑΒΕΡΣΑ ΨΥΓΕΙΟΥ Alfa Romeo 33 1983-1990\n",
       "22             test ΦΛΑΣ ΦΤΕΡΟΥ Alfa Romeo 33 1983-1990\n",
       "23           test ΦΡΥΔΙ ΠΙΣΩ ΑΡ Alfa Romeo 33 1983-1990\n",
       "24           test ΦΡΥΔΙ ΠΙΣΩ ΔΕ Alfa Romeo 33 1983-1990\n",
       "25         test ΦΤΕΡΟ ΕΜΠΡΟΣ ΑΡ Alfa Romeo 33 1983-1990\n",
       "26         test ΦΤΕΡΟ ΕΜΠΡΟΣ ΔΕ Alfa Romeo 33 1983-1990\n",
       "27    test ΧΕΡΟΥΛΙ ΠΟΡΤΑΣ ΕΜ./ΟΠ. ΕΞΩ. Alfa Romeo 33...\n",
       "28    test ΨΥΓΕΙΟ 1,2-1,3 (54x25) Alfa Romeo 33 1983...\n",
       "Name: meta_title_seo, dtype: object"
      ]
     },
     "metadata": {},
     "execution_count": 76
    }
   ],
   "source": [
    "test"
   ]
  },
  {
   "cell_type": "code",
   "execution_count": 26,
   "metadata": {},
   "outputs": [
    {
     "output_type": "execute_result",
     "data": {
      "text/plain": [
       "0     test ΒΕΝΤΙΛ.ΨΥΓΕΙΟΥ ΚΟΜΠ.Χ.Α/C Alfa Romeo 33 1...\n",
       "1     test ΓΡΥΛΛΟΣ ΠΑΡΑΘ. ΕΜΠΡΟΣ ΗΛΕΚΤ. (ΕΥΡΩΠΗ) ΑΡ ...\n",
       "2     test ΓΡΥΛΛΟΣ ΠΑΡΑΘ. ΕΜΠΡΟΣ ΗΛΕΚΤ. (ΕΥΡΩΠΗ) ΔΕ ...\n",
       "3      test ΓΩΝΙΑ ΦΛΑΣ ΛΕΥΚΗ ΑΡ Alfa Romeo 33 1983-1990\n",
       "4      test ΓΩΝΙΑ ΦΛΑΣ ΛΕΥΚΗ ΔΕ Alfa Romeo 33 1983-1990\n",
       "5     test ΔΙΑΚΟΠΤΗΣ ΠΑΡΑΘ. ΕΜΠ. (Διπλός) (Καφέ φίσα...\n",
       "6     test ΔΙΑΚΟΠΤΗΣ ΠΑΡΑΘ. ΕΜΠ. (Διπλός) (Καφέ φίσα...\n",
       "7     test ΚΑΘΡΕΦΤΗΣ ΜΗΧΑΝΙΚΟΣ ΜΕ ΝΤΙΖΕΣ ΑΡ Alfa Rom...\n",
       "8     test ΚΑΘΡΕΦΤΗΣ ΜΗΧΑΝΙΚΟΣ ΜΕ ΝΤΙΖΕΣ ΔΕ Alfa Rom...\n",
       "9              test ΚΑΠΩ ΕΜΠΡΟΣ Alfa Romeo 33 1983-1990\n",
       "10              test ΜΑΡΣΠΙΕ ΑΡ Alfa Romeo 33 1983-1990\n",
       "11              test ΜΑΡΣΠΙΕ ΔΕ Alfa Romeo 33 1983-1990\n",
       "12                   test ΜΑΣΚΑ Alfa Romeo 33 1983-1990\n",
       "13    test ΜΕΤΩΠΗ ΕΜΠΡΟΣ (26cm) Alfa Romeo 33 1983-1990\n",
       "14    test ΜΕΤΩΠΗ ΕΜΠΡΟΣ (26cm) Alfa Romeo 33 1983-1990\n",
       "15           test ΠΟΡΤΑ ΠΙΣΩ 5η Alfa Romeo 33 1983-1990\n",
       "16    test ΠΡΟΒ.ΟΜΙΧΛΗΣ MARELLI LAA340 Alfa Romeo 33...\n",
       "17    test ΠΡΟΦΥΛΑΚΤΗΡΑΣ ΕΜΠΡΟΣΘΙΟΣ Alfa Romeo 33 19...\n",
       "18      test ΠΡΟΦΥΛΑΚΤΗΡΑΣ ΠΙΣΩ Alfa Romeo 33 1983-1990\n",
       "19           test ΣΗΜΑ ΜΟΝΤΕΛΟΥ Alfa Romeo 33 1983-1990\n",
       "20           test ΣΗΜΑ ΜΟΝΤΕΛΟΥ Alfa Romeo 33 1983-1990\n",
       "21        test ΤΡΑΒΕΡΣΑ ΨΥΓΕΙΟΥ Alfa Romeo 33 1983-1990\n",
       "22             test ΦΛΑΣ ΦΤΕΡΟΥ Alfa Romeo 33 1983-1990\n",
       "23           test ΦΡΥΔΙ ΠΙΣΩ ΑΡ Alfa Romeo 33 1983-1990\n",
       "24           test ΦΡΥΔΙ ΠΙΣΩ ΔΕ Alfa Romeo 33 1983-1990\n",
       "25         test ΦΤΕΡΟ ΕΜΠΡΟΣ ΑΡ Alfa Romeo 33 1983-1990\n",
       "26         test ΦΤΕΡΟ ΕΜΠΡΟΣ ΔΕ Alfa Romeo 33 1983-1990\n",
       "27    test ΧΕΡΟΥΛΙ ΠΟΡΤΑΣ ΕΜ./ΟΠ. ΕΞΩ. Alfa Romeo 33...\n",
       "28     test ΨΥΓ.1,2-1,3 (54x25) Alfa Romeo 33 1983-1990\n",
       "Name: meta_title_seo, dtype: object"
      ]
     },
     "metadata": {},
     "execution_count": 26
    }
   ],
   "source": [
    "df[\"meta_title_seo\"]"
   ]
  },
  {
   "cell_type": "code",
   "execution_count": 80,
   "metadata": {},
   "outputs": [],
   "source": [
    "def remove_overspace(text):\n",
    "    return re.sub(' {2,}', ' ', text)\n",
    "\n",
    "\n",
    "def replacer(df_to_replace, replacements, column):\n",
    "    series_str = df_to_replace[column].copy()\n",
    "\n",
    "    for i in replacements.itertuples(index=False):\n",
    "        series_str = series_str.str.replace(i.word,\n",
    "                                            f\"{i.replacement} \",\n",
    "                                            regex=False)\n",
    "\n",
    "    series_str = series_str.apply(remove_overspace)\n",
    "\n",
    "    return series_str\n",
    "\n",
    "\n",
    "def replace_words(data_to_replace, data_with_replacements, dst_file, columns):\n",
    "    df = pd.read_excel(data_to_replace, dtype='string')\n",
    "    rep = pd.read_excel(data_with_replacements, dtype='string')\n",
    "\n",
    "    destination = dst_file\n",
    "\n",
    "    for col in columns:\n",
    "        df[col] = replacer(df, rep, col)\n",
    "\n",
    "    try:\n",
    "        df.to_excel(destination, index=False)\n",
    "        print(\"Οι αλλαγές έγιναν.\")\n",
    "    except PermissionError:\n",
    "        print(\"Το αρχέιο είναι ανοιχτό στο Excel. Κλείσε και ξαναπροσπάθησε.\")"
   ]
  },
  {
   "cell_type": "code",
   "execution_count": 81,
   "metadata": {},
   "outputs": [
    {
     "output_type": "stream",
     "name": "stdout",
     "text": [
      "Οι αλλαγές έγιναν.\n"
     ]
    }
   ],
   "source": [
    "test_file = \"C:/Users/aznavouridis.k/Desktop/Terpos/GBG_15.xlsx\"\n",
    "replacements = \"C:/Users/aznavouridis.k/Desktop/Terpos/GBG_replacements.xlsx\"\n",
    "out = \"C:/Users/aznavouridis.k/Desktop/Terpos/GBG_15_replaced.xlsx\"\n",
    "cols = ['title', 'meta_title_seo', 'meta_seo', 'details']\n",
    "\n",
    "replace_words(test_file, replacements, out, cols)"
   ]
  }
 ]
}