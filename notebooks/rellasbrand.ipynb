{
 "metadata": {
  "language_info": {
   "codemirror_mode": {
    "name": "ipython",
    "version": 3
   },
   "file_extension": ".py",
   "mimetype": "text/x-python",
   "name": "python",
   "nbconvert_exporter": "python",
   "pygments_lexer": "ipython3",
   "version": "3.8.8"
  },
  "orig_nbformat": 2,
  "kernelspec": {
   "name": "python3",
   "display_name": "Python 3.8.8 64-bit ('dsc': conda)",
   "metadata": {
    "interpreter": {
     "hash": "fcbab4adb5514146ae7268d1b7ad1c19704476f96e30a8a2e4db8ed6c9938b48"
    }
   }
  }
 },
 "nbformat": 4,
 "nbformat_minor": 2,
 "cells": [
  {
   "cell_type": "code",
   "execution_count": 1,
   "metadata": {},
   "outputs": [],
   "source": [
    "from atcrawl.crawlers.rellasamortiser.crawler import *"
   ]
  },
  {
   "cell_type": "code",
   "execution_count": 2,
   "metadata": {},
   "outputs": [],
   "source": [
    "ra = RellasAmortiserBrand(\"https://www.rellasamortiser.gr/el/7010-dodge\")"
   ]
  },
  {
   "cell_type": "code",
   "execution_count": 3,
   "metadata": {},
   "outputs": [],
   "source": [
    "ra.collect()"
   ]
  },
  {
   "cell_type": "code",
   "execution_count": 2,
   "metadata": {},
   "outputs": [
    {
     "output_type": "stream",
     "name": "stdout",
     "text": [
      "Collecting products for Alfa Romeo...\n",
      "\n",
      "D:\\.temp\\.dev\\.aztool\\atcrawl\\crawlers\\rellasamortiser\\crawler.py:130: FutureWarning: The default value of regex will change from True to False in a future version. In addition, single character regular expressions will*not* be treated as literal strings when regex=True.\n",
      "  _data['retail_price'] = _data['retail_price'].astype(\n",
      "D:\\.temp\\.dev\\.aztool\\atcrawl\\crawlers\\rellasamortiser\\crawler.py:133: FutureWarning: The default value of regex will change from True to False in a future version. In addition, single character regular expressions will*not* be treated as literal strings when regex=True.\n",
      "  _data['price_after_discount'] = _data['price_after_discount'].str.replace(\n"
     ]
    }
   ],
   "source": [
    "ra = RellasAmortiser(\"https://www.rellasamortiser.gr/el/831-amortiser\")\n",
    "ra.pre_collect()\n",
    "ra.collect(\"C:\\\\Users\\\\aznavouridis.k\\\\Desktop\\\\Terpos\\\\rellas.xlsx\",meta0='2605', meta1='kostas', meta2='azna', discount=-20)\n",
    "ra.export(\"C:\\\\Users\\\\aznavouridis.k\\\\Desktop\\\\Terpos\\\\rellas.xlsx\")"
   ]
  }
 ]
}