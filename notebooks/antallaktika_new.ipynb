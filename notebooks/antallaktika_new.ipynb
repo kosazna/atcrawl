{
 "cells": [
  {
   "cell_type": "code",
   "execution_count": 26,
   "source": [
    "from atcrawl.core.parser import *\r\n",
    "from atcrawl.utilities.funcs import *\r\n",
    "from pathlib import Path"
   ],
   "outputs": [],
   "metadata": {}
  },
  {
   "cell_type": "code",
   "execution_count": 40,
   "source": [
    "base = Path(\"D:/.temp/htmls\")\r\n",
    "htmls = []\r\n",
    "for f in base.glob('*.htm'):\r\n",
    "    htmls.append(open(f, encoding='utf-8').read())"
   ],
   "outputs": [],
   "metadata": {}
  },
  {
   "cell_type": "code",
   "execution_count": 42,
   "source": [
    "soup = BeautifulSoup(htmls[2], 'lxml')"
   ],
   "outputs": [],
   "metadata": {}
  },
  {
   "cell_type": "code",
   "execution_count": 43,
   "source": [
    "prices = multi_parse(soup, 'div', 'price')\r\n",
    "print(list(map(fmtnumber, map(num_from_text, prices))))"
   ],
   "outputs": [
    {
     "output_type": "stream",
     "name": "stdout",
     "text": [
      "['20.19', '20.42', '20.58', '20.58', '20.58', '20.97', '21.28', '22.06', '22.06', '22.29', '22.53', '22.60', '22.60', '22.92', '23.07', '23.23', '23.62', '23.77', '23.93', '24.16']\n"
     ]
    }
   ],
   "metadata": {}
  },
  {
   "cell_type": "code",
   "execution_count": 44,
   "source": [
    "old_prices = multi_parse(soup, 'div', 'old_price promo')\r\n",
    "print(list(map(fmtnumber, map(num_from_text, old_prices))))"
   ],
   "outputs": [
    {
     "output_type": "stream",
     "name": "stdout",
     "text": [
      "['25.88', '26.18', '26.38', '26.38', '26.38', '26.88', '27.28', '28.28', '28.28', '28.58', '28.88', '28.98', '28.98', '29.38', '29.58', '29.78', '30.28', '30.48', '30.68', '30.98']\n"
     ]
    }
   ],
   "metadata": {}
  },
  {
   "cell_type": "code",
   "execution_count": 45,
   "source": [
    "sku = multi_parse(soup, 'div', 'nr')\r\n",
    "skus = []\r\n",
    "for i in sku:\r\n",
    "    _ = i.split(':')[1].strip()\r\n",
    "    skus.append(_)\r\n",
    "skus"
   ],
   "outputs": [
    {
     "output_type": "execute_result",
     "data": {
      "text/plain": [
       "['598463',\n",
       " '37008',\n",
       " '6492',\n",
       " '19-0428',\n",
       " '6579',\n",
       " 'V10-8177',\n",
       " 'C1A018ABE',\n",
       " 'V10-8109-1',\n",
       " '2355402',\n",
       " '13046071112K-SET-MS',\n",
       " 'FDB1788',\n",
       " '1170027',\n",
       " '025 209 6117/PD',\n",
       " '0 986 461 769',\n",
       " 'LP2254',\n",
       " '571906J',\n",
       " '0263 05',\n",
       " 'SKBP-0010366',\n",
       " '224740',\n",
       " 'B110695']"
      ]
     },
     "metadata": {},
     "execution_count": 45
    }
   ],
   "metadata": {}
  },
  {
   "cell_type": "code",
   "execution_count": 46,
   "source": [
    "images = multi_parse(soup, 'div', 'listing-parent-pkw', text=False)\r\n",
    "srcs = []\r\n",
    "for image in images:\r\n",
    "    srcs.append(image.find('img').get('src'))\r\n",
    "srcs"
   ],
   "outputs": [
    {
     "output_type": "execute_result",
     "data": {
      "text/plain": [
       "['https://media.pkwteile.de/360_photos/7154919/preview.jpg',\n",
       " 'https://media.pkwteile.de/360_photos/7713997/preview.jpg',\n",
       " 'https://cdn.pkwteile.de/thumb?id=2039266&m=1&n=0&e=19&lng=gr&ccf=94077812',\n",
       " 'https://cdn.pkwteile.de/thumb?id=9126621&m=1&n=0&e=19&lng=gr&ccf=94077812',\n",
       " 'https://cdn.pkwteile.de/thumb?id=2039469&m=1&n=0&e=19&lng=gr&ccf=94077812',\n",
       " 'https://cdn.pkwteile.de/thumb?id=2215862&m=1&n=0&e=19&lng=gr&ccf=94077812',\n",
       " 'https://cdn.pkwteile.de/thumb?id=3327412&m=1&n=0&e=19&lng=gr&ccf=94077812',\n",
       " 'https://cdn.pkwteile.de/thumb?id=7286126&m=1&n=0&e=19&lng=gr&ccf=94077812',\n",
       " 'https://media.pkwteile.de/360_photos/1311471/preview.jpg',\n",
       " 'https://cdn.pkwteile.de/thumb?id=8946630&m=1&n=0&e=19&lng=gr&ccf=94077812',\n",
       " 'https://media.pkwteile.de/360_photos/1508121/preview.jpg',\n",
       " 'https://cdn.pkwteile.de/thumb?id=8003192&m=1&n=0&e=19&lng=gr&ccf=94077812',\n",
       " 'https://media.pkwteile.de/360_photos/8582664/preview.jpg',\n",
       " 'https://media.pkwteile.de/360_photos/1163571/preview.jpg',\n",
       " 'https://media.pkwteile.de/360_photos/7974497/preview.jpg',\n",
       " 'https://cdn.pkwteile.de/thumb?id=7210416&m=1&n=0&e=19&lng=gr&ccf=94077812',\n",
       " 'https://cdn.pkwteile.de/thumb?id=8584784&m=1&n=0&e=19&lng=gr&ccf=94077812',\n",
       " 'https://media.pkwteile.de/360_photos/7589043/preview.jpg',\n",
       " 'https://cdn.pkwteile.de/thumb?id=1997601&m=1&n=0&e=19&lng=gr&ccf=94077812',\n",
       " 'https://cdn.pkwteile.de/thumb?id=10702806&m=1&n=0&e=19&lng=gr&ccf=94077812']"
      ]
     },
     "metadata": {},
     "execution_count": 46
    }
   ],
   "metadata": {}
  },
  {
   "cell_type": "code",
   "execution_count": 24,
   "source": [
    "aval = multi_parse(soup, 'span', 'text_vers')\r\n",
    "aval"
   ],
   "outputs": [
    {
     "output_type": "execute_result",
     "data": {
      "text/plain": [
       "['ΔΙΑΘΕΣΙΜΟ',\n",
       " 'ΔΙΑΘΕΣΙΜΟ',\n",
       " 'ΔΙΑΘΕΣΙΜΟ',\n",
       " 'ΔΙΑΘΕΣΙΜΟ',\n",
       " 'ΔΙΑΘΕΣΙΜΟ',\n",
       " 'ΔΙΑΘΕΣΙΜΟ',\n",
       " 'ΔΙΑΘΕΣΙΜΟ',\n",
       " 'ΔΙΑΘΕΣΙΜΟ',\n",
       " 'ΔΙΑΘΕΣΙΜΟ',\n",
       " 'ΔΙΑΘΕΣΙΜΟ',\n",
       " 'ΔΙΑΘΕΣΙΜΟ',\n",
       " 'ΔΙΑΘΕΣΙΜΟ',\n",
       " 'ΔΙΑΘΕΣΙΜΟ',\n",
       " 'ΔΙΑΘΕΣΙΜΟ',\n",
       " 'ΔΙΑΘΕΣΙΜΟ',\n",
       " 'ΔΙΑΘΕΣΙΜΟ',\n",
       " 'ΔΙΑΘΕΣΙΜΟ',\n",
       " 'ΔΙΑΘΕΣΙΜΟ',\n",
       " 'ΔΙΑΘΕΣΙΜΟ',\n",
       " 'ΔΙΑΘΕΣΙΜΟ']"
      ]
     },
     "metadata": {},
     "execution_count": 24
    }
   ],
   "metadata": {}
  }
 ],
 "metadata": {
  "orig_nbformat": 4,
  "language_info": {
   "name": "python",
   "version": "3.8.10",
   "mimetype": "text/x-python",
   "codemirror_mode": {
    "name": "ipython",
    "version": 3
   },
   "pygments_lexer": "ipython3",
   "nbconvert_exporter": "python",
   "file_extension": ".py"
  },
  "kernelspec": {
   "name": "python3",
   "display_name": "Python 3.8.10 64-bit ('dsc': conda)"
  },
  "interpreter": {
   "hash": "fcbab4adb5514146ae7268d1b7ad1c19704476f96e30a8a2e4db8ed6c9938b48"
  }
 },
 "nbformat": 4,
 "nbformat_minor": 2
}