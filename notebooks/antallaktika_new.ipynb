{
 "cells": [
  {
   "cell_type": "code",
   "execution_count": 1,
   "source": [
    "from atcrawl.core.parser import *\r\n",
    "from atcrawl.utilities.funcs import *\r\n",
    "from atcrawl.crawlers.antallaktika2 import *\r\n",
    "from pathlib import Path\r\n",
    "from atcrawl.core.sql import *\r\n",
    "import datetime"
   ],
   "outputs": [],
   "metadata": {}
  },
  {
   "cell_type": "code",
   "execution_count": 2,
   "source": [
    "s = AntallaktikaOnline(\"D:/.temp/htmls\")\r\n",
    "asql = AtcrawlSQL(\"C:/Users/aznavouridis.k/.atcrawl/atcrawl.db\")\r\n",
    "\r\n",
    "s.proccess()"
   ],
   "outputs": [],
   "metadata": {}
  },
  {
   "cell_type": "code",
   "execution_count": 4,
   "source": [
    "p = {'brand': 'SKODA', 'car': '1', 'discount': '-20'}\r\n",
    "asql.backup('antallaktikaonline.gr', str(p), s.collection)"
   ],
   "outputs": [
    {
     "output_type": "stream",
     "name": "stdout",
     "text": [
      "4\n",
      "UPDATE\n",
      "    antallaktikaonline\n",
      "SET\n",
      "    job_id = :job_id\n",
      "WHERE\n",
      "    job_id IS NULL\n"
     ]
    },
    {
     "output_type": "error",
     "ename": "ValueError",
     "evalue": "parameters are of unsupported type",
     "traceback": [
      "\u001b[1;31m---------------------------------------------------------------------------\u001b[0m",
      "\u001b[1;31mValueError\u001b[0m                                Traceback (most recent call last)",
      "\u001b[1;32mC:\\Users\\AZNAVO~1.K\\AppData\\Local\\Temp/ipykernel_13336/3125501971.py\u001b[0m in \u001b[0;36m<module>\u001b[1;34m\u001b[0m\n\u001b[0;32m      1\u001b[0m \u001b[0mp\u001b[0m \u001b[1;33m=\u001b[0m \u001b[1;33m{\u001b[0m\u001b[1;34m'brand'\u001b[0m\u001b[1;33m:\u001b[0m \u001b[1;34m'SKODA'\u001b[0m\u001b[1;33m,\u001b[0m \u001b[1;34m'car'\u001b[0m\u001b[1;33m:\u001b[0m \u001b[1;34m'1'\u001b[0m\u001b[1;33m,\u001b[0m \u001b[1;34m'discount'\u001b[0m\u001b[1;33m:\u001b[0m \u001b[1;34m'-20'\u001b[0m\u001b[1;33m}\u001b[0m\u001b[1;33m\u001b[0m\u001b[1;33m\u001b[0m\u001b[0m\n\u001b[1;32m----> 2\u001b[1;33m \u001b[0masql\u001b[0m\u001b[1;33m.\u001b[0m\u001b[0mbackup\u001b[0m\u001b[1;33m(\u001b[0m\u001b[1;34m'antallaktikaonline.gr'\u001b[0m\u001b[1;33m,\u001b[0m \u001b[0mstr\u001b[0m\u001b[1;33m(\u001b[0m\u001b[0mp\u001b[0m\u001b[1;33m)\u001b[0m\u001b[1;33m,\u001b[0m \u001b[0ms\u001b[0m\u001b[1;33m.\u001b[0m\u001b[0mcollection\u001b[0m\u001b[1;33m)\u001b[0m\u001b[1;33m\u001b[0m\u001b[1;33m\u001b[0m\u001b[0m\n\u001b[0m",
      "\u001b[1;32mD:\\.temp\\.dev\\.aztool\\atcrawl\\core\\sql.py\u001b[0m in \u001b[0;36mbackup\u001b[1;34m(self, process, parameters, collection)\u001b[0m\n\u001b[0;32m    155\u001b[0m                     \u001b[0mquery\u001b[0m \u001b[1;33m=\u001b[0m \u001b[0mtables\u001b[0m\u001b[1;33m[\u001b[0m\u001b[0mtable\u001b[0m\u001b[1;33m]\u001b[0m\u001b[1;33m\u001b[0m\u001b[1;33m\u001b[0m\u001b[0m\n\u001b[0;32m    156\u001b[0m                     \u001b[0mprint\u001b[0m\u001b[1;33m(\u001b[0m\u001b[0mquery\u001b[0m\u001b[1;33m)\u001b[0m\u001b[1;33m\u001b[0m\u001b[1;33m\u001b[0m\u001b[0m\n\u001b[1;32m--> 157\u001b[1;33m                     \u001b[0mcur\u001b[0m\u001b[1;33m.\u001b[0m\u001b[0mexecute\u001b[0m\u001b[1;33m(\u001b[0m\u001b[0mquery\u001b[0m\u001b[1;33m,\u001b[0m \u001b[1;33m{\u001b[0m\u001b[1;34m'job_id'\u001b[0m\u001b[1;33m,\u001b[0m \u001b[0mlast_job\u001b[0m\u001b[1;33m}\u001b[0m\u001b[1;33m)\u001b[0m\u001b[1;33m\u001b[0m\u001b[1;33m\u001b[0m\u001b[0m\n\u001b[0m\u001b[0;32m    158\u001b[0m                     \u001b[0mcon\u001b[0m\u001b[1;33m.\u001b[0m\u001b[0mcommit\u001b[0m\u001b[1;33m(\u001b[0m\u001b[1;33m)\u001b[0m\u001b[1;33m\u001b[0m\u001b[1;33m\u001b[0m\u001b[0m\n\u001b[0;32m    159\u001b[0m         \u001b[1;32mexcept\u001b[0m \u001b[0mError\u001b[0m \u001b[1;32mas\u001b[0m \u001b[0me\u001b[0m\u001b[1;33m:\u001b[0m\u001b[1;33m\u001b[0m\u001b[1;33m\u001b[0m\u001b[0m\n",
      "\u001b[1;31mValueError\u001b[0m: parameters are of unsupported type"
     ]
    }
   ],
   "metadata": {}
  },
  {
   "cell_type": "code",
   "execution_count": null,
   "source": [
    "s.collection.get_data('tuple')"
   ],
   "outputs": [],
   "metadata": {}
  },
  {
   "cell_type": "code",
   "execution_count": null,
   "source": [
    "date = datetime.datetime.now().strftime('%Y-%m-%d %H:%M:%S')\r\n",
    "site_counter = asql.get_site_counter('antallaktikaonline.gr') + 1\r\n",
    "asql.update_job('antallaktikaonline.gr', site_counter, date, '', s.collection.nitems)\r\n",
    "last_job = asql.get_last_jobid()\r\n",
    "asql.update_antallaktika(s.collection.get_data('tuple'))\r\n",
    "asql.update_jobid('antallaktikaonline', last_job)"
   ],
   "outputs": [],
   "metadata": {}
  },
  {
   "cell_type": "code",
   "execution_count": null,
   "source": [],
   "outputs": [],
   "metadata": {}
  },
  {
   "cell_type": "code",
   "execution_count": null,
   "source": [
    "asql.get_records_from_jobid('antallaktikaonline', 7)"
   ],
   "outputs": [],
   "metadata": {}
  },
  {
   "cell_type": "code",
   "execution_count": null,
   "source": [
    "last_job = asql.get_last_jobid()"
   ],
   "outputs": [],
   "metadata": {}
  },
  {
   "cell_type": "code",
   "execution_count": null,
   "source": [
    "asql.update_antallaktika(s.collection.get_data('tuple'))"
   ],
   "outputs": [],
   "metadata": {}
  },
  {
   "cell_type": "code",
   "execution_count": null,
   "source": [
    "asql.update_jobid('antallaktikaonline', last_job)"
   ],
   "outputs": [],
   "metadata": {}
  },
  {
   "cell_type": "code",
   "execution_count": null,
   "source": [
    "s.collection.get_data('tuple')"
   ],
   "outputs": [],
   "metadata": {}
  },
  {
   "cell_type": "code",
   "execution_count": null,
   "source": [
    "AntallaktikaOnlineItem.__annotations__"
   ],
   "outputs": [],
   "metadata": {}
  },
  {
   "cell_type": "code",
   "execution_count": null,
   "source": [
    "antallaktika_properties"
   ],
   "outputs": [],
   "metadata": {}
  },
  {
   "cell_type": "code",
   "execution_count": null,
   "source": [
    "a = s.collection.to_dataframe(columns=antallaktika_properties)"
   ],
   "outputs": [],
   "metadata": {}
  },
  {
   "cell_type": "code",
   "execution_count": null,
   "source": [
    "k = {'meta0': 'SKODA',\r\n",
    "     'meta1': '1',\r\n",
    "     'meta3': '-25'}\r\n",
    "\r\n",
    "c = s.transform(**k)\r\n",
    "c\r\n"
   ],
   "outputs": [],
   "metadata": {}
  },
  {
   "cell_type": "code",
   "execution_count": null,
   "source": [
    "c.dtypes"
   ],
   "outputs": [],
   "metadata": {}
  },
  {
   "cell_type": "code",
   "execution_count": null,
   "source": [
    "def make_description(d1, d2):\r\n",
    "    if d1 and d2:\r\n",
    "        _d = f\"{d1}|{d2}\"\r\n",
    "    else:\r\n",
    "        _d = d1 if d1 else d2\r\n",
    "    \r\n",
    "    return _d"
   ],
   "outputs": [],
   "metadata": {}
  },
  {
   "cell_type": "code",
   "execution_count": null,
   "source": [
    "b = ['a', 'b', 'c']\r\n",
    "b.insert(2, 'd')\r\n",
    "b"
   ],
   "outputs": [],
   "metadata": {}
  },
  {
   "cell_type": "code",
   "execution_count": null,
   "source": [
    "a.apply(lambda row: make_description(row['recycler'], row['kit']), axis=1)"
   ],
   "outputs": [],
   "metadata": {}
  },
  {
   "cell_type": "code",
   "execution_count": null,
   "source": [
    "len(list(base.glob('*.htm')))"
   ],
   "outputs": [],
   "metadata": {}
  },
  {
   "cell_type": "code",
   "execution_count": null,
   "source": [
    "soup = BeautifulSoup(htmls[0], 'lxml')"
   ],
   "outputs": [],
   "metadata": {}
  },
  {
   "cell_type": "code",
   "execution_count": null,
   "source": [
    "products = multi_parse(soup, 'div', 'brand-products', text=False)\r\n",
    "len(products)"
   ],
   "outputs": [],
   "metadata": {}
  },
  {
   "cell_type": "code",
   "execution_count": null,
   "source": [
    "prices = multi_parse(soup, 'div', 'price')\r\n",
    "print(list(map(fmtnumber, map(num_from_text, prices))))"
   ],
   "outputs": [],
   "metadata": {}
  },
  {
   "cell_type": "code",
   "execution_count": null,
   "source": [
    "old_prices = multi_parse(soup, 'div', 'old_price promo')\r\n",
    "print(list(map(fmtnumber, map(num_from_text, old_prices))))"
   ],
   "outputs": [],
   "metadata": {}
  },
  {
   "cell_type": "code",
   "execution_count": null,
   "source": [
    "sku = multi_parse(soup, 'div', 'nr')\r\n",
    "skus = []\r\n",
    "for i in sku:\r\n",
    "    _ = i.split(':')[1].strip()\r\n",
    "    skus.append(_)\r\n",
    "skus"
   ],
   "outputs": [],
   "metadata": {}
  },
  {
   "cell_type": "code",
   "execution_count": null,
   "source": [
    "images = multi_parse(soup, 'div', 'listing-parent-pkw', text=False)\r\n",
    "srcs = []\r\n",
    "for image in images:\r\n",
    "    srcs.append(image.find('img').get('src'))\r\n",
    "srcs"
   ],
   "outputs": [],
   "metadata": {}
  },
  {
   "cell_type": "code",
   "execution_count": null,
   "source": [
    "aval = multi_parse(soup, 'span', 'text_vers')\r\n",
    "aval"
   ],
   "outputs": [],
   "metadata": {}
  }
 ],
 "metadata": {
  "orig_nbformat": 4,
  "language_info": {
   "name": "python",
   "version": "3.8.10",
   "mimetype": "text/x-python",
   "codemirror_mode": {
    "name": "ipython",
    "version": 3
   },
   "pygments_lexer": "ipython3",
   "nbconvert_exporter": "python",
   "file_extension": ".py"
  },
  "kernelspec": {
   "name": "python3",
   "display_name": "Python 3.8.10 64-bit ('dsc': conda)"
  },
  "interpreter": {
   "hash": "fcbab4adb5514146ae7268d1b7ad1c19704476f96e30a8a2e4db8ed6c9938b48"
  }
 },
 "nbformat": 4,
 "nbformat_minor": 2
}