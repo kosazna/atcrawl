{
 "cells": [
  {
   "cell_type": "code",
   "execution_count": 1,
   "id": "steady-copyright",
   "metadata": {},
   "outputs": [],
   "source": [
    "from atcrawl import *\n",
    "import re"
   ]
  },
  {
   "cell_type": "code",
   "execution_count": 2,
   "id": "small-spouse",
   "metadata": {},
   "outputs": [],
   "source": [
    "chromedriver = Path.home().joinpath(\".atcrawl/chromedriver.exe\")"
   ]
  },
  {
   "cell_type": "code",
   "execution_count": 3,
   "id": "twenty-definition",
   "metadata": {},
   "outputs": [],
   "source": [
    "url = \"https://www.antallaktikaonline.gr/search?brandNo[0]=101&sort_categories[0]=5&fbclid=IwAR0FIBC2AgALgnRZRlBn4uooLFplU_dwIJgoq_fKiNsQtRAafX8gAOLr3Is\""
   ]
  },
  {
   "cell_type": "code",
   "execution_count": 4,
   "id": "vital-voltage",
   "metadata": {},
   "outputs": [],
   "source": [
    "chrome_options = Options()\n",
    "chrome_options.add_argument(\"--start-maximized\")\n",
    "\n",
    "driver = webdriver.Chrome(str(chromedriver), options=chrome_options)\n",
    "driver.get(url)"
   ]
  },
  {
   "cell_type": "code",
   "execution_count": null,
   "id": "growing-fetish",
   "metadata": {},
   "outputs": [],
   "source": [
    "driver.find_element(By.CLASS_NAME, 'autopart_kit_list').text.replace(';\\n', ';').replace('\\n', ' ')"
   ]
  },
  {
   "cell_type": "code",
   "execution_count": 5,
   "id": "precious-charlotte",
   "metadata": {},
   "outputs": [],
   "source": [
    "aop = AntallaktikaOnlineProductContainer.from_selenium_driver(driver, 0)"
   ]
  },
  {
   "cell_type": "code",
   "execution_count": null,
   "id": "passive-shower",
   "metadata": {},
   "outputs": [],
   "source": [
    "def remove_overspace(text):\n",
    "    return re.sub(' {2,}', ' ', text)"
   ]
  },
  {
   "cell_type": "code",
   "execution_count": null,
   "id": "artistic-rapid",
   "metadata": {},
   "outputs": [],
   "source": [
    "remove_overspace(aop.get_kit().replace('\\n', ' ').strip()).replace('; ', ';')"
   ]
  },
  {
   "cell_type": "code",
   "execution_count": 6,
   "id": "capable-toyota",
   "metadata": {},
   "outputs": [
    {
     "data": {
      "text/plain": [
       "'1 - Φούσκα, άξονας μετάδ. κίνησης (30023);1 - Άρθρωση, άξονας μετάδ. κίνησης (33243);1 - Κολλάρο (38758);1 - Κολλάρο (38765);1 - Γράσσο μολυβδαινίου (02582);1 - Παξιμάδι, ακραξόνιο (30028);'"
      ]
     },
     "execution_count": 6,
     "metadata": {},
     "output_type": "execute_result"
    }
   ],
   "source": [
    "aop.get_kit()"
   ]
  }
 ],
 "metadata": {
  "kernelspec": {
   "display_name": "Python 3",
   "language": "python",
   "name": "python3"
  },
  "language_info": {
   "codemirror_mode": {
    "name": "ipython",
    "version": 3
   },
   "file_extension": ".py",
   "mimetype": "text/x-python",
   "name": "python",
   "nbconvert_exporter": "python",
   "pygments_lexer": "ipython3",
   "version": "3.8.8"
  }
 },
 "nbformat": 4,
 "nbformat_minor": 5
}
