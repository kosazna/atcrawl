{
 "metadata": {
  "language_info": {
   "codemirror_mode": {
    "name": "ipython",
    "version": 3
   },
   "file_extension": ".py",
   "mimetype": "text/x-python",
   "name": "python",
   "nbconvert_exporter": "python",
   "pygments_lexer": "ipython3",
   "version": "3.8.8"
  },
  "orig_nbformat": 2,
  "kernelspec": {
   "name": "python3",
   "display_name": "Python 3.8.8 64-bit ('dsc': conda)",
   "metadata": {
    "interpreter": {
     "hash": "fcbab4adb5514146ae7268d1b7ad1c19704476f96e30a8a2e4db8ed6c9938b48"
    }
   }
  }
 },
 "nbformat": 4,
 "nbformat_minor": 2,
 "cells": [
  {
   "cell_type": "code",
   "execution_count": 1,
   "metadata": {},
   "outputs": [],
   "source": [
    "import requests\n",
    "from bs4 import BeautifulSoup\n",
    "import re"
   ]
  },
  {
   "cell_type": "code",
   "execution_count": 8,
   "metadata": {},
   "outputs": [],
   "source": [
    "def get_brands(url):\n",
    "    r = requests.get(url)\n",
    "    soup = BeautifulSoup(r.text)\n",
    "    rows = bs.find(\"div\", {\"class\": \"span9\"}).find_all(\"div\", {\"class\": \"row-fluid\"})\n",
    "    brand_row = []\n",
    "\n",
    "    for row in rows:\n",
    "        brand_row.append(row.find_all(\"a\", {\"class\": \"title\"}))\n",
    "\n",
    "    all_brands = {}\n",
    "    for row_brand in brand_row:\n",
    "        for brand in row_brand:\n",
    "            all_brands[brand.text] = brand.get(\"href\")\n",
    "\n",
    "    return all_brands\n"
   ]
  },
  {
   "cell_type": "code",
   "execution_count": 33,
   "metadata": {},
   "outputs": [
    {
     "output_type": "execute_result",
     "data": {
      "text/plain": [
       "{'Alfa Romeo': 'https://www.rellasamortiser.gr/el/13-alfa-romeo',\n",
       " 'Audi': 'https://www.rellasamortiser.gr/el/42-audi',\n",
       " 'BMW': 'https://www.rellasamortiser.gr/el/55-bmw',\n",
       " 'Chevrolet': 'https://www.rellasamortiser.gr/el/683-chevrolet',\n",
       " 'Chrysler': 'https://www.rellasamortiser.gr/el/834-chrysler',\n",
       " 'Citroën': 'https://www.rellasamortiser.gr/el/4-citroen',\n",
       " 'Dacia': 'https://www.rellasamortiser.gr/el/47409-dacia',\n",
       " 'Daewoo': 'https://www.rellasamortiser.gr/el/88-daewoo',\n",
       " 'Daihatsu': 'https://www.rellasamortiser.gr/el/145-daihatsu',\n",
       " 'Dodge': 'https://www.rellasamortiser.gr/el/7010-dodge',\n",
       " 'Fiat': 'https://www.rellasamortiser.gr/el/11-fiat',\n",
       " 'Ford': 'https://www.rellasamortiser.gr/el/95-ford',\n",
       " 'Honda': 'https://www.rellasamortiser.gr/el/104-honda',\n",
       " 'Hyundai': 'https://www.rellasamortiser.gr/el/32-hyundai',\n",
       " 'Isuzu': 'https://www.rellasamortiser.gr/el/179-isuzu',\n",
       " 'Jeep': 'https://www.rellasamortiser.gr/el/114-jeep',\n",
       " 'Kia': 'https://www.rellasamortiser.gr/el/186-kia',\n",
       " 'Lada': 'https://www.rellasamortiser.gr/el/232-lada',\n",
       " 'Lancia ': 'https://www.rellasamortiser.gr/el/669-lancia',\n",
       " 'Land Rover': 'https://www.rellasamortiser.gr/el/721-land-rover',\n",
       " 'Lexus': 'https://www.rellasamortiser.gr/el/6986-lexus',\n",
       " 'Mazda': 'https://www.rellasamortiser.gr/el/194-mazda',\n",
       " 'Mercedes': 'https://www.rellasamortiser.gr/el/5-mercedes',\n",
       " 'Mini': 'https://www.rellasamortiser.gr/el/181-mini',\n",
       " 'Mitsubishi': 'https://www.rellasamortiser.gr/el/259-mitsubishi',\n",
       " 'Nissan': 'https://www.rellasamortiser.gr/el/176-nissan',\n",
       " 'Opel': 'https://www.rellasamortiser.gr/el/21-opel',\n",
       " 'Peugeot': 'https://www.rellasamortiser.gr/el/3-peugeot',\n",
       " 'Porsche': 'https://www.rellasamortiser.gr/el/409-porsche',\n",
       " 'Renault': 'https://www.rellasamortiser.gr/el/410-renault',\n",
       " 'Rover': 'https://www.rellasamortiser.gr/el/439-rover',\n",
       " 'Saab': 'https://www.rellasamortiser.gr/el/444-saab',\n",
       " 'Seat': 'https://www.rellasamortiser.gr/el/447-seat',\n",
       " 'Skoda': 'https://www.rellasamortiser.gr/el/455-skoda',\n",
       " 'Smart': 'https://www.rellasamortiser.gr/el/196-smart',\n",
       " 'SsangYong': 'https://www.rellasamortiser.gr/el/502-ssangyong',\n",
       " 'Subaru': 'https://www.rellasamortiser.gr/el/493-subaru',\n",
       " 'Suzuki': 'https://www.rellasamortiser.gr/el/505-suzuki',\n",
       " 'Toyota': 'https://www.rellasamortiser.gr/el/525-toyota',\n",
       " 'Volkswagen': 'https://www.rellasamortiser.gr/el/456-volkswagen',\n",
       " 'Volvo': 'https://www.rellasamortiser.gr/el/496-volvo'}"
      ]
     },
     "metadata": {},
     "execution_count": 33
    }
   ],
   "source": [
    "brands = get_brands(\"https://www.rellasamortiser.gr/el/831-amortiser\")\n",
    "brands"
   ]
  },
  {
   "cell_type": "code",
   "execution_count": 18,
   "metadata": {},
   "outputs": [],
   "source": [
    "def get_products(url):\n",
    "    r = requests.get(url)\n",
    "    base_url = url.split('/e')[0]\n",
    "    soup = BeautifulSoup(r.text)\n",
    "\n",
    "    products = {}\n",
    "\n",
    "    while True:\n",
    "        models = soup.find(\"div\", {\"class\": \"row big_with_description\"}).find_all('div', {'class': 'product-name'})\n",
    "\n",
    "        for model in models:\n",
    "            products[model.text] = model.find('a').get('href')\n",
    "\n",
    "        try:\n",
    "            next_page = soup.find('li', {'id': 'pagination_next'}).find('a').get('href')\n",
    "            next_url = base_url + next_page\n",
    "            r = requests.get(next_url)\n",
    "            soup = BeautifulSoup(r.text)\n",
    "        except AttributeError:\n",
    "            break\n",
    "\n",
    "    return products       \n"
   ]
  },
  {
   "cell_type": "code",
   "execution_count": 23,
   "metadata": {},
   "outputs": [
    {
     "output_type": "stream",
     "name": "stdout",
     "text": [
      "https://www.rellasamortiser.gr/el/42-audi?p=2\n",
      "https://www.rellasamortiser.gr/el/42-audi?p=3\n",
      "https://www.rellasamortiser.gr/el/42-audi?p=4\n"
     ]
    }
   ],
   "source": [
    "prods = get_products(\"https://www.rellasamortiser.gr/el/42-audi\")"
   ]
  },
  {
   "cell_type": "code",
   "execution_count": 24,
   "metadata": {},
   "outputs": [
    {
     "output_type": "execute_result",
     "data": {
      "text/plain": [
       "{'Αμορτισέρ για Audi A3 Bilstein B4 Original (1996-2004)': 'https://www.rellasamortiser.gr/el/audi/476-audi-a3-bilstein-b4-1996-2004-22-045744-19-029429-vne-4574-bne-2942.html?cid=42',\n",
       " 'Αμορτισέρ για Audi A2 Bilstein B4 Original (2000-2005)': 'https://www.rellasamortiser.gr/el/audi/1549-audi-a2-bilstein-b4-2000-2005-22-105813-19-109572-vne-a581-bne-a957.html?cid=42',\n",
       " 'Αμορτισέρ για Audi A2 Kayaba Excel G (2000-2005)': 'https://www.rellasamortiser.gr/el/audi/1554-audi-a2-kayaba-excel-g-2000-2005-334835-343328.html?cid=42',\n",
       " 'Αμορτισέρ για Audi A3 Kayaba Excel G (1996-2004)': 'https://www.rellasamortiser.gr/el/audi/1495-audi-a3-kayaba-excel-g-1996-2004-333713-343348.html?cid=42',\n",
       " 'Αμορτισέρ για Audi A3 [55mm] Bilstein B4 Original (2004-2012)': 'https://www.rellasamortiser.gr/el/audi/36-audi-a3-55mm-bilstein-b4-2004-2012-22-131614-19-127439-vne-d161-bne-c743.html?cid=42',\n",
       " 'Αμορτισέρ για Audi A1 Bilstein B4 Original (2010-2015)': 'https://www.rellasamortiser.gr/el/audi/1395-audi-a1-bilstein-b4-2010-2015-22-183705-19-109572-bne-a957.html?cid=42',\n",
       " 'Αμορτισέρ για Audi A4 Bilstein B4 Original (1995-2000)': 'https://www.rellasamortiser.gr/el/audi/1316-audi-a4-bilstein-b4-1995-2000-19-045771-19-029207-vne-4577-bne-2920.html?cid=42',\n",
       " 'Αμορτισέρ για Audi A1 Kayaba Excel G (2010-2015)': 'https://www.rellasamortiser.gr/el/audi/1399-audi-a1-kayaba-excel-g-2010-2015-334835-343328.html?cid=42',\n",
       " 'Αμορτισέρ για Audi A3 [55mm] Kayaba Excel G (2004-2012)': 'https://www.rellasamortiser.gr/el/audi-a3-55mm-2004-2012/1754-audi-a3-55mm-kayaba-excel-g-2004-2012-335808-344459.html?cid=42',\n",
       " 'Αμορτισέρ για Audi A6 Bilstein B4 Original (2001-2005)': 'https://www.rellasamortiser.gr/el/audi/487-audi-a6-bilstein-b4-2001-2005-19-045771-19-029443-vne-4577-bne-2944.html?cid=42',\n",
       " 'Αμορτισέρ για Audi A6 Bilstein B4 Original (1997-2001)': 'https://www.rellasamortiser.gr/el/audi/486-audi-a6-bilstein-b4-1997-2001-19-045771-19-029443-vne-4577-bne-2944.html?cid=42',\n",
       " 'Αμορτισέρ για Audi A4 Bilstein B4 Original (2007-2015)': 'https://www.rellasamortiser.gr/el/audi/1331-audi-a4-bilstein-b4-2007-2015-19-171593-19-171609-159-160.html?cid=42',\n",
       " 'Αμορτισέρ για Audi A5 Bilstein B4 Original (2007-2015)': 'https://www.rellasamortiser.gr/el/audi/1415-audi-a5-bilstein-b4-2007-2015-19-171593-19-171609-bne-h159-bne-h160.html?cid=42',\n",
       " 'Αμορτισέρ για Audi A6 Bilstein B4 Original (2005-2012)': 'https://www.rellasamortiser.gr/el/audi/39-audi-a6-bilstein-b4-2005-2012-19-139951-19-139968-bne-d995-bne-d996.html?cid=42',\n",
       " 'Αμορτισέρ για Audi A4 Kayaba Excel G (1995-2000)': 'https://www.rellasamortiser.gr/el/audi/1314-audi-a4-kayaba-excel-g-1995-2000-341842-343271.html?cid=42',\n",
       " 'Αμορτισέρ για Audi A4 Bilstein B4 Original (2000-2007)': 'https://www.rellasamortiser.gr/el/audi/1321-audi-a4-bilstein-b4-2000-2007-19-109497-19-111797-bne-a949-bne-b179.html?cid=42',\n",
       " 'Αμορτισέρ για Audi A4 Kayaba Excel G (2000-2007)': 'https://www.rellasamortiser.gr/el/audi/1324-audi-a4-kayaba-excel-g-2000-2007-341845-341814.html?cid=42',\n",
       " 'Αμορτισέρ για Audi A4 Kayaba Excel G (2007-2015)': 'https://www.rellasamortiser.gr/el/audi/1329-audi-a4-kayaba-excel-g-2007-2015-341717-349133.html?cid=42',\n",
       " 'Αμορτισέρ για Audi A5 Kayaba Excel G (2007-2015)': 'https://www.rellasamortiser.gr/el/audi/1414-audi-a5-kayaba-excel-g-2007-2015-341718-349133.html?cid=42',\n",
       " 'Αμορτισέρ για Audi A6 Bilstein B4 Original (1994-1997)': 'https://www.rellasamortiser.gr/el/audi/98-audi-a6-bilstein-b4-1994-1997-21-030390-19-029214-pne-3039-bne-2921.html?cid=42',\n",
       " 'Αμορτισέρ για Audi A2 Kayaba Ultra SR (2000-2005)': 'https://www.rellasamortiser.gr/el/audi/1553-audi-a2-kayaba-ultra-sr-2000-2005-324702-353025.html?cid=42',\n",
       " 'Αμορτισέρ για Audi A3 Kayaba Ultra SR (1996-2004)': 'https://www.rellasamortiser.gr/el/audi/477-audi-a3-kayaba-ultra-sr-1996-2004-324016-243037.html?cid=42',\n",
       " 'Αμορτισέρ για Audi A3 [55mm] Kayaba Ultra SR (2004-2012)': 'https://www.rellasamortiser.gr/el/audi-a3-55mm-2004-2012/1135-audi-a3-55mm-kayaba-ultra-sr-2004-2012-325700-354006.html?cid=42',\n",
       " 'Αμορτισέρ για Audi TT Quattro Bilstein B4 Original (1998-2006)': 'https://www.rellasamortiser.gr/el/audi/42-audi-tt-quattro-bilstein-b4-1998-2006-22-145550-19-145570-vne-e555-bne-e557.html?cid=42',\n",
       " 'Αμορτισέρ για Audi S3 Bilstein B4 Original (1999-2003)': 'https://www.rellasamortiser.gr/el/audi/489-audi-s3-bilstein-b4-1999-2003-22-145550-19-145570-vne-e555-bne-e557.html?cid=42',\n",
       " 'Αμορτισέρ για Audi A3 Koni Street T (1996-2004)': 'https://www.rellasamortiser.gr/el/audi/474-audi-a3-koni-street-t-1996-2004-8750-1002-8050-1001.html?cid=42',\n",
       " 'Αμορτισέρ για Audi A4 Bilstein B8 Sprint (2000-2007)': 'https://www.rellasamortiser.gr/el/audi/1323-audi-a4-bilstein-b8-sprint-2000-2007-24-119818-24-119825-be5-b981-be5-b982.html?cid=42',\n",
       " 'Αμορτισέρ για Audi A4 Koni Street T (2000-2007)': 'https://www.rellasamortiser.gr/el/audi/1325-audi-a4-koni-street-t-2000-2007-8250-1011-8050-1055.html?cid=42',\n",
       " 'Αμορτισέρ για Audi A4 Bilstein B6 Sport (2000-2007)': 'https://www.rellasamortiser.gr/el/audi/1322-audi-a4-bilstein-b6-sport-2000-2007-24-119795-24-119788-be5-b979-be5-b978.html?cid=42',\n",
       " 'Αμορτισέρ για Audi A2 Koni Street T (2000-2005)': 'https://www.rellasamortiser.gr/el/audi/1551-audi-a2-koni-street-t-2000-2005-8750-1004-8050-1005.html?cid=42',\n",
       " 'Αμορτισέρ για Audi A3 [55mm] Koni Street T (2004-2012)': 'https://www.rellasamortiser.gr/el/audi-a3-55mm-2004-2012/1172-audi-a3-55mm-koni-street-t-2004-2012-8750-1005-8050-1006.html?cid=42',\n",
       " 'Αμορτισέρ για Audi A1 Koni Street T (2010-2015)': 'https://www.rellasamortiser.gr/el/audi-a1-2010-2015/1397-audi-a1-koni-street-t-2010-2015-8750-1114-8050-1005.html?cid=42',\n",
       " 'Αμορτισέρ για Audi A4 Bilstein B8 Sprint (2007-2015)': 'https://www.rellasamortiser.gr/el/audi/1333-audi-a4-bilstein-b8-2007-2015-24-145985-24-145992-be5-e598-be5-e599.html?cid=42',\n",
       " 'Αμορτισέρ για Audi A5 Bilstein B8 Sprint (2007-2015)': 'https://www.rellasamortiser.gr/el/audi/1416-audi-a5-bilstein-b8-2007-2015-24-145985-24-145992-be5-e598-be5-e599.html?cid=42',\n",
       " 'Αμορτισέρ για Audi A4 Bilstein B6 Sport (2007-2015)': 'https://www.rellasamortiser.gr/el/audi/1332-audi-a4-bilstein-b6-2007-2015-24-145961-24-145978-be5-e596-be5-e597.html?cid=42',\n",
       " 'Αμορτισέρ για Audi A5 Bilstein B6 Sport (2007-2015)': 'https://www.rellasamortiser.gr/el/audi/1412-audi-a5-bilstein-b6-2007-2015-24-145961-24-145978-be5-e596-be5-e597.html?cid=42',\n",
       " 'Αμορτισέρ για Audi Q5 [8R] Bilstein B6 Sport (2008-2018)': 'https://www.rellasamortiser.gr/el/audi-q5-8r-2008-2018/2374-audi-q5-8r-bilstein-b6-sport-2008-2018-24-145961-24-145978.html?cid=42',\n",
       " 'Αμορτισέρ για Audi A3 Kayaba AGX (1996-2004)': 'https://www.rellasamortiser.gr/el/audi/1191-audi-a3-kayaba-agx-1996-2004-734033-743029.html?cid=42',\n",
       " 'Αμορτισέρ για Audi A3 [55mm] Bilstein B8 Sprint (2004-2012)': 'https://www.rellasamortiser.gr/el/audi/482-audi-a3-55mm-bilstein-b8-sprint-2004-2012-35-108191-24-178006-ve3-a819-be3-a611-be3-h800.html?cid=42',\n",
       " 'Αμορτισέρ για Audi A1 Bilstein B6 Sport (2010-2015)': 'https://www.rellasamortiser.gr/el/audi/1304-audi-a1-bilstein-b6-2010-2015-35-168560-24-067898-ve3-g856-be3-6789.html?cid=42',\n",
       " 'Αμορτισέρ για Audi A4 Bilstein B6 Sport (1995-2000)': 'https://www.rellasamortiser.gr/el/audi/1317-audi-a4-bilstein-b6-1995-2000-24-020794-24-020800-b36-2079-b36-2080.html?cid=42',\n",
       " 'Αμορτισέρ για Audi A8 Bilstein B6 Sport (1994-2000)': 'https://www.rellasamortiser.gr/el/audi/100-audi-a8-bilstein-b6-1994-2000-24-026093-24-026161-be3-2609-be5-2616.html?cid=42',\n",
       " 'Αμορτισέρ για Audi A2 Bilstein B6 Sport (2000-2005)': 'https://www.rellasamortiser.gr/el/audi/1550-audi-a2-bilstein-b6-2000-2005-35-052173-24-067898-ve3-5217-be3-6789.html?cid=42',\n",
       " 'Αμορτισέρ για Audi A2 Bilstein B8 Sprint (2000-2005)': 'https://www.rellasamortiser.gr/el/audi/1552-audi-a2-bilstein-b8-2000-2005-35-052180-24-067904-ve3-5218-be3-6790.html?cid=42',\n",
       " 'Αμορτισέρ για Audi A1 Bilstein B8 Sprint (2010-2015)': 'https://www.rellasamortiser.gr/el/audi/1305-audi-a1-bilstein-b8-2010-2015-35-168577-24-067904-ve3-g857-be3-6790.html?cid=42',\n",
       " 'Αμορτισέρ για Audi A4 Bilstein B8 Sprint (1995-2000)': 'https://www.rellasamortiser.gr/el/audi/1318-audi-a4-bilstein-b8-1995-2000-24-020817-24-020824-b36-2081-b36-2082.html?cid=42',\n",
       " 'Αμορτισέρ για Audi A6 Bilstein B6 Sport (1997-2001)': 'https://www.rellasamortiser.gr/el/audi/96-audi-a6-bilstein-b6-1997-2001-24-020794-24-026994-36-2079-3-2699.html?cid=42',\n",
       " 'Αμορτισέρ για Audi A8 Bilstein B6 Sport (2000-2003)': 'https://www.rellasamortiser.gr/el/audi/105-audi-a8-bilstein-b6-2000-2003-24-066785-24-026161-be5-6678-be5-2616.html?cid=42',\n",
       " 'Αμορτισέρ για Audi A3 [55mm] Bilstein B6 Sport (2004-2012)': 'https://www.rellasamortiser.gr/el/audi/481-audi-a3-55mm-bilstein-b6-sport-2004-2012-35-108177-24-172936-ve3-a817-be5-a610.html?cid=42',\n",
       " 'Αμορτισέρ για Audi A3 Bilstein B6 Sport (1996-2004)': 'https://www.rellasamortiser.gr/el/audi/475-audi-a3-bilstein-b6-1996-2004-35-044079-24-026239.html?cid=42',\n",
       " 'Αμορτισέρ για Audi TT 2WD Bilstein B6 Sport (1998-2006)': 'https://www.rellasamortiser.gr/el/audi/43-audi-tt-2wd-bilstein-b6-1998-2006-35-046370-24-060325-ve3-4637-be3-6032.html?cid=42',\n",
       " 'Αμορτισέρ για Audi A6 Bilstein B6 Sport (2001-2005)': 'https://www.rellasamortiser.gr/el/audi/38-audi-a6-bilstein-b6-2001-2005-24-065085-24-065092-be5-6508-be5-6509.html?cid=42',\n",
       " 'Αμορτισέρ για Audi A6 Bilstein B6 Sport (1994-1997)': 'https://www.rellasamortiser.gr/el/audi/485-audi-a6-bilsteinb6-1994-1997-34-003701-24-015769-p36-0370-b46-1576.html?cid=42',\n",
       " 'Αμορτισέρ για Audi TT Bilstein B8 Sprint (2006-2014)': 'https://www.rellasamortiser.gr/el/audi/494-audi-tt-bilstein-b8-2006-2014-35-136835-24-136846-ve3-d683-be5-d684.html?cid=42',\n",
       " 'Αμορτισέρ για Audi A6 Bilstein B6 Sport (2005-2012)': 'https://www.rellasamortiser.gr/el/audi/488-audi-a6-bilstein-b6-2005-2012-35-116288-24-116299-ve3-b628-be5-b629.html?cid=42',\n",
       " 'Αμορτισέρ για Audi S3 Bilstein B6 Sport (1999-2003)': 'https://www.rellasamortiser.gr/el/audi/40-audi-s3-bilstein-b6-1999-2003-35-046370-24-060349-ve3-4637-be5-6034.html?cid=42',\n",
       " 'Αμορτισέρ για Audi TT Quattro Bilstein B6 Sport (1998-2006)': 'https://www.rellasamortiser.gr/el/audi/499-audi-tt-quattro-bilstein-b6-1998-2006-35-046370-24-060349-ve3-4637-be5-6034.html?cid=42',\n",
       " 'Αμορτισέρ για Audi A3 Bilstein B8 Sprint (1996-2004)': 'https://www.rellasamortiser.gr/el/audi/1306-audi-a3-bilstein-b8-1996-2004-35-044086-24-026246-ve3-4408-be3-2624.html?cid=42',\n",
       " 'Αμορτισέρ για Audi A4 Koni Sport (2000-2007)': 'https://www.rellasamortiser.gr/el/audi/1326-audi-a4-koni-sport-2000-2007-8240-1185sport-8040-1283sport.html?cid=42',\n",
       " 'Αμορτισέρ για Audi TT Bilstein B6 Sport (2006-2014)': 'https://www.rellasamortiser.gr/el/audi/493-audi-tt-bilstein-b6-2006-2014-35-136811-24-136822-ve3-d681-be5-d682.html?cid=42',\n",
       " 'Αμορτισέρ για Audi TT 2WD Bilstein B8 Sprint (1998-2006)': 'https://www.rellasamortiser.gr/el/audi/496-audi-tt-2wd-bilstein-b8-1998-2006-35-046387-24-060332-ve3-4638-be3-6033.html?cid=42',\n",
       " 'Αμορτισέρ για Audi A2 Koni Sport (2000-2005)': 'https://www.rellasamortiser.gr/el/audi/1794-audi-a2-koni-sport-2000-2005-8710-1404sport-80-2830sport.html?cid=42',\n",
       " 'Αμορτισέρ για Audi A1 Koni Sport (2010-2015)': 'https://www.rellasamortiser.gr/el/audi/1795-audi-a1-koni-sport-2010-2015-8710-1404sport-80-2830sport.html?cid=42',\n",
       " 'Αμορτισέρ για Audi S3 Bilstein B8 Sprint Monotube (1999-2003)': 'https://www.rellasamortiser.gr/el/audi/491-audi-s3-bilstein-b8-monotube-1999-2003-35-046387-24-060356-ve3-4638-be5-6035.html?cid=42',\n",
       " 'Αμορτισέρ για Audi TT Quattro Bilstein B8 Sprint Monotube (1998-2006)': 'https://www.rellasamortiser.gr/el/audi/500-audi-tt-quattro-bilstein-b8-monotube-1998-2006-35-046387-24-060356-ve3-4638-be5-6035.html?cid=42',\n",
       " 'Αμορτισέρ για Audi A4 Koni Sport (2007-2015)': 'https://www.rellasamortiser.gr/el/audi/1334-audi-a4-koni-sport-2007-2015-8240-1261sport-8040-1390sport.html?cid=42',\n",
       " 'Αμορτισέρ για Audi A5 Koni Sport (2007-2015)': 'https://www.rellasamortiser.gr/el/audi/1417-audi-a5-koni-sport-2007-2015-8240-1261sport-8040-1390sport.html?cid=42',\n",
       " 'Αμορτισέρ για Audi A3 [50mm] Koni Sport (2004-2012)': 'https://www.rellasamortiser.gr/el/audi-a3-50mm-2004-2012/1209-audi-a3-50mm-koni-sport-2004-2012-8710-1432sport-80-2859sport-8040-1352sport.html?cid=42',\n",
       " 'Ρυθμιζόμενη Ανάρτηση για Audi A3 [55mm] Bilstein B14 PSS (2004-2012)': 'https://www.rellasamortiser.gr/el/audi/1085-audi-a3-55mm-bilstein-b14-2004-2012-47-127708-he5-c770.html?cid=42',\n",
       " 'Ρυθμιζόμενη Ανάρτηση για Audi S3 Bilstein B16 PSS9 / PSS10 (2006-2015)': 'https://www.rellasamortiser.gr/el/audi/406-audi-s3-bilstein-b16-2006-2015-48-135245-gm5-d524.html?cid=42',\n",
       " 'Ρυθμιζόμενη Ανάρτηση για Audi A3 [55mm] Bilstein B16 PSS9 / PSS10 (2004-2012)': 'https://www.rellasamortiser.gr/el/audi/1078-audi-a3-55mm-bilstein-b16-2004-2012-48-135245-gm5-d524.html?cid=42',\n",
       " 'Ρυθμιζόμενη Ανάρτηση για Audi S3 Bilstein B16 PSS9 / PSS10 (1999-2003)': 'https://www.rellasamortiser.gr/el/audi/490-audi-s3-bilstein-b16-1999-2003-48-080422-gm5-8042.html?cid=42',\n",
       " 'Ρυθμιζόμενη Ανάρτηση για Audi TT Quattro Bilstein B16 PSS9 / PSS10 (1998-2006)': 'https://www.rellasamortiser.gr/el/audi/1394-audi-tt-quattro-bilstein-b16-1998-2006-48-080422-gm5-8042.html?cid=42'}"
      ]
     },
     "metadata": {},
     "execution_count": 24
    }
   ],
   "source": [
    "prods"
   ]
  },
  {
   "cell_type": "code",
   "execution_count": 40,
   "metadata": {},
   "outputs": [],
   "source": [
    "def num_from_text(text):\n",
    "    \"\"\"\n",
    "    Finds and returns a number from a string. If number is splitted with comma\n",
    "    instead of a dot the two elements will be returned\n",
    "\n",
    "    :param text: str\n",
    "        text with number\n",
    "    :return: list\n",
    "        list of numbers\n",
    "    \"\"\"\n",
    "    pattern = r'[-+]?[.]?[\\d]+(?:,\\d\\d\\d)*[\\.]?\\d*(?:[eE][-+]?\\d+)?'\n",
    "    return re.findall(pattern, text)\n",
    "\n",
    "\n",
    "def fmtnumber(number: list):\n",
    "    \"\"\"\n",
    "    Formats a list of number as a single number\n",
    "\n",
    "    :param number: list\n",
    "        list of numbers\n",
    "    :return: str\n",
    "        single number\n",
    "    \"\"\"\n",
    "    if len(number) > 1:\n",
    "        nums = [num.replace('.', '').replace(',', '') for num in number]\n",
    "        return '.'.join(nums)\n",
    "    else:\n",
    "        return number[0].replace('.', '').replace(',', '')"
   ]
  },
  {
   "cell_type": "code",
   "execution_count": 46,
   "metadata": {},
   "outputs": [],
   "source": [
    "def get_product_details(url):\n",
    "    r = requests.get(url)\n",
    "    soup = BeautifulSoup(r.text)\n",
    "\n",
    "    product_name = soup.find('div', {'class': 'product-name'}).find('h2').text\n",
    "    sku = soup.find('span', {'class': 'editable'}).text\n",
    "    price = soup.find('span', {'class': 'regular-price'}).text\n",
    "\n",
    "    return product_name, price, sku"
   ]
  },
  {
   "cell_type": "code",
   "execution_count": 47,
   "metadata": {},
   "outputs": [
    {
     "output_type": "execute_result",
     "data": {
      "text/plain": [
       "('Αμορτισέρ για Audi A3 Bilstein B4 Original (1996-2004)',\n",
       " '€ 135,00',\n",
       " '22-045744 19-029429 VNE-4574 BNE-2942')"
      ]
     },
     "metadata": {},
     "execution_count": 47
    }
   ],
   "source": [
    "get_product_details(\"https://www.rellasamortiser.gr/el/audi/476-audi-a3-bilstein-b4-1996-2004-22-045744-19-029429-vne-4574-bne-2942.html?cid=42\")"
   ]
  },
  {
   "cell_type": "code",
   "execution_count": 44,
   "metadata": {},
   "outputs": [
    {
     "output_type": "execute_result",
     "data": {
      "text/plain": [
       "'135.00'"
      ]
     },
     "metadata": {},
     "execution_count": 44
    }
   ],
   "source": [
    "fmtnumber(num_from_text(soup.find('span', {'class': 'regular-price'}).text))"
   ]
  },
  {
   "cell_type": "code",
   "execution_count": 62,
   "metadata": {},
   "outputs": [],
   "source": [
    "def get_models(url):\n",
    "    r = requests.get(url)\n",
    "    soup = BeautifulSoup(r.text)\n",
    "\n",
    "    subcategories = soup.find_all('div', {'id': 'subcategories'})\n",
    "    models = []\n",
    "    for subcategory in subcategories:\n",
    "        _models = subcategory.find_all('div', {\"class\": 'span2 product'})\n",
    "        for model in _models:\n",
    "            models.append(model.text.strip())\n",
    "\n",
    "    return models"
   ]
  },
  {
   "cell_type": "code",
   "execution_count": 63,
   "metadata": {},
   "outputs": [
    {
     "output_type": "execute_result",
     "data": {
      "text/plain": [
       "['Hyundai Accent',\n",
       " 'Hyundai Atos (1998-2005)',\n",
       " 'Hyundai Coupe',\n",
       " 'Hyundai Elantra (2000-2006)',\n",
       " 'Hyundai Excel (1989-1995)',\n",
       " 'Hyundai Getz (2002-2013)',\n",
       " 'Hyundai H100',\n",
       " 'Hyundai H1/Starex/H200',\n",
       " 'Hyundai H1 (2008-2020)',\n",
       " 'Hyundai i10',\n",
       " 'Hyundai i30 (2008-2014)',\n",
       " 'Hyundai ix20 (JC) (2010-2017)',\n",
       " 'Hyundai Lantra',\n",
       " 'Hyundai Matrix (2001-2013)',\n",
       " 'Hyundai Santa Fe',\n",
       " 'Hyundai S-Coupe (1990-1996)',\n",
       " 'Hyundai Sonata',\n",
       " 'Hyundai Trajet',\n",
       " 'Hyundai Tucson (2004-2012)']"
      ]
     },
     "metadata": {},
     "execution_count": 63
    }
   ],
   "source": [
    "get_models(\"https://www.rellasamortiser.gr/el/32-hyundai\")"
   ]
  },
  {
   "cell_type": "code",
   "execution_count": 64,
   "metadata": {},
   "outputs": [],
   "source": [
    "from fake_useragent import UserAgent"
   ]
  },
  {
   "cell_type": "code",
   "execution_count": 81,
   "metadata": {},
   "outputs": [
    {
     "output_type": "execute_result",
     "data": {
      "text/plain": [
       "'Mozilla/5.0 (Macintosh; U; Intel Mac OS X 10.10; rv:62.0) Gecko/20100101 Firefox/49.0'"
      ]
     },
     "metadata": {},
     "execution_count": 81
    }
   ],
   "source": [
    "UserAgent().firefox"
   ]
  },
  {
   "cell_type": "code",
   "execution_count": 76,
   "metadata": {},
   "outputs": [
    {
     "output_type": "execute_result",
     "data": {
      "text/plain": [
       "'Mozilla/5.0 (X11; OpenBSD amd64; rv:28.0) Gecko/20100101 Firefox/28.0'"
      ]
     },
     "metadata": {},
     "execution_count": 76
    }
   ],
   "source": [
    "ua.firefox"
   ]
  },
  {
   "cell_type": "code",
   "execution_count": 3,
   "metadata": {},
   "outputs": [],
   "source": [
    "import json"
   ]
  },
  {
   "cell_type": "code",
   "execution_count": 5,
   "metadata": {},
   "outputs": [],
   "source": [
    "def export(filepath, what):\n",
    "    with open(filepath, 'w') as f:\n",
    "        json.dump(what, f, indent=2)"
   ]
  },
  {
   "cell_type": "code",
   "execution_count": 6,
   "metadata": {},
   "outputs": [],
   "source": [
    "a = {'a': {'b':[1,2,3],\n",
    "'c':'something'}}\n",
    "\n",
    "export(\"C:\\\\Users\\\\aznavouridis.k\\\\Desktop\\\\Terpos\\\\rellas.json\", a)"
   ]
  },
  {
   "cell_type": "code",
   "execution_count": null,
   "metadata": {},
   "outputs": [],
   "source": []
  },
  {
   "cell_type": "code",
   "execution_count": 2,
   "metadata": {},
   "outputs": [],
   "source": [
    "r = requests.get(\"https://www.rellasamortiser.gr/el/42-audi\")\n",
    "soup = BeautifulSoup(r.text, 'lxml')"
   ]
  },
  {
   "cell_type": "code",
   "execution_count": 5,
   "metadata": {},
   "outputs": [
    {
     "output_type": "execute_result",
     "data": {
      "text/plain": [
       "' Audi'"
      ]
     },
     "metadata": {},
     "execution_count": 5
    }
   ],
   "source": [
    "soup.find('div' ,{'id': 'center_column'}).find('h2').text"
   ]
  },
  {
   "cell_type": "code",
   "execution_count": 6,
   "metadata": {},
   "outputs": [
    {
     "output_type": "execute_result",
     "data": {
      "text/plain": [
       "'135.25'"
      ]
     },
     "metadata": {},
     "execution_count": 6
    }
   ],
   "source": [
    "str(135.25)"
   ]
  }
 ]
}